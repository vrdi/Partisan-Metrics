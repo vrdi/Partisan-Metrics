{
 "cells": [
  {
   "cell_type": "markdown",
   "metadata": {},
   "source": [
    "# Imports"
   ]
  },
  {
   "cell_type": "code",
   "execution_count": 30,
   "metadata": {},
   "outputs": [],
   "source": [
    "import os\n",
    "from functools import partial\n",
    "import json\n",
    "import csv\n",
    "\n",
    "import geopandas as gpd\n",
    "import matplotlib.pyplot as plt\n",
    "import networkx as nx\n",
    "import pandas as pd\n",
    "import numpy as np\n",
    "from tqdm import tqdm_notebook\n",
    "import random\n",
    "\n",
    "from gerrychain import (\n",
    "    Election,\n",
    "    Graph,\n",
    "    MarkovChain,\n",
    "    Partition,\n",
    "    accept,\n",
    "    constraints,\n",
    "    updaters,\n",
    ")\n",
    "\n",
    "from gerrychain.metrics import efficiency_gap, mean_median, partisan_gini\n",
    "from gerrychain.proposals import recom\n",
    "from gerrychain.updaters import cut_edges\n",
    "from gerrychain.tree import recursive_tree_part"
   ]
  },
  {
   "cell_type": "code",
   "execution_count": null,
   "metadata": {},
   "outputs": [],
   "source": [
    "newdir = \"./Outputs/\"\n",
    "os.makedirs(os.path.dirname(newdir + \"init.txt\"), exist_ok=True)\n",
    "with open(newdir + \"init.txt\", \"w\") as f:\n",
    "    f.write(\"Created Folder\")"
   ]
  },
  {
   "cell_type": "markdown",
   "metadata": {},
   "source": [
    "# Downloading state data"
   ]
  },
  {
   "cell_type": "code",
   "execution_count": 13,
   "metadata": {},
   "outputs": [],
   "source": [
    "graph_path = \"./texas.json\"\n",
    "graph = Graph.from_json(graph_path)"
   ]
  },
  {
   "cell_type": "markdown",
   "metadata": {},
   "source": [
    "# Chain stuff"
   ]
  },
  {
   "cell_type": "code",
   "execution_count": 38,
   "metadata": {},
   "outputs": [],
   "source": [
    "election = \"SEN12\""
   ]
  },
  {
   "cell_type": "code",
   "execution_count": 15,
   "metadata": {},
   "outputs": [
    {
     "name": "stdout",
     "output_type": "stream",
     "text": [
      "25145561.0\n"
     ]
    }
   ],
   "source": [
    "pop_count = 0\n",
    "\n",
    "for i in graph.nodes:\n",
    "    pop_count += graph.nodes[i][\"TOTPOP\"]\n",
    "    \n",
    "print(pop_count)"
   ]
  },
  {
   "cell_type": "code",
   "execution_count": 16,
   "metadata": {},
   "outputs": [
    {
     "ename": "AttributeError",
     "evalue": "'int' object has no attribute 'replace'",
     "output_type": "error",
     "traceback": [
      "\u001b[1;31m---------------------------------------------------------------------------\u001b[0m",
      "\u001b[1;31mAttributeError\u001b[0m                            Traceback (most recent call last)",
      "\u001b[1;32m<ipython-input-16-5e02e87977b9>\u001b[0m in \u001b[0;36m<module>\u001b[1;34m\u001b[0m\n\u001b[0;32m      1\u001b[0m \u001b[1;32mfor\u001b[0m \u001b[0mn\u001b[0m \u001b[1;32min\u001b[0m \u001b[0mgraph\u001b[0m\u001b[1;33m.\u001b[0m\u001b[0mnodes\u001b[0m\u001b[1;33m:\u001b[0m\u001b[1;33m\u001b[0m\u001b[1;33m\u001b[0m\u001b[0m\n\u001b[1;32m----> 2\u001b[1;33m     \u001b[0mgraph\u001b[0m\u001b[1;33m.\u001b[0m\u001b[0mnodes\u001b[0m\u001b[1;33m[\u001b[0m\u001b[0mn\u001b[0m\u001b[1;33m]\u001b[0m\u001b[1;33m[\u001b[0m\u001b[0melection\u001b[0m\u001b[1;33m+\u001b[0m\u001b[1;34m\"D\"\u001b[0m\u001b[1;33m]\u001b[0m \u001b[1;33m=\u001b[0m \u001b[0mint\u001b[0m\u001b[1;33m(\u001b[0m\u001b[0mgraph\u001b[0m\u001b[1;33m.\u001b[0m\u001b[0mnodes\u001b[0m\u001b[1;33m[\u001b[0m\u001b[0mn\u001b[0m\u001b[1;33m]\u001b[0m\u001b[1;33m[\u001b[0m\u001b[0melection\u001b[0m\u001b[1;33m+\u001b[0m\u001b[1;34m\"D\"\u001b[0m\u001b[1;33m]\u001b[0m\u001b[1;33m.\u001b[0m\u001b[0mreplace\u001b[0m\u001b[1;33m(\u001b[0m\u001b[1;34m\",\"\u001b[0m\u001b[1;33m,\u001b[0m\u001b[1;34m\"\"\u001b[0m\u001b[1;33m)\u001b[0m\u001b[1;33m)\u001b[0m\u001b[1;33m\u001b[0m\u001b[1;33m\u001b[0m\u001b[0m\n\u001b[0m\u001b[0;32m      3\u001b[0m     \u001b[0mgraph\u001b[0m\u001b[1;33m.\u001b[0m\u001b[0mnodes\u001b[0m\u001b[1;33m[\u001b[0m\u001b[0mn\u001b[0m\u001b[1;33m]\u001b[0m\u001b[1;33m[\u001b[0m\u001b[0melection\u001b[0m\u001b[1;33m+\u001b[0m\u001b[1;34m\"R\"\u001b[0m\u001b[1;33m]\u001b[0m \u001b[1;33m=\u001b[0m \u001b[0mint\u001b[0m\u001b[1;33m(\u001b[0m\u001b[0mgraph\u001b[0m\u001b[1;33m.\u001b[0m\u001b[0mnodes\u001b[0m\u001b[1;33m[\u001b[0m\u001b[0mn\u001b[0m\u001b[1;33m]\u001b[0m\u001b[1;33m[\u001b[0m\u001b[0melection\u001b[0m\u001b[1;33m+\u001b[0m\u001b[1;34m\"R\"\u001b[0m\u001b[1;33m]\u001b[0m\u001b[1;33m.\u001b[0m\u001b[0mreplace\u001b[0m\u001b[1;33m(\u001b[0m\u001b[1;34m\",\"\u001b[0m\u001b[1;33m,\u001b[0m\u001b[1;34m\"\"\u001b[0m\u001b[1;33m)\u001b[0m\u001b[1;33m)\u001b[0m\u001b[1;33m\u001b[0m\u001b[1;33m\u001b[0m\u001b[0m\n",
      "\u001b[1;31mAttributeError\u001b[0m: 'int' object has no attribute 'replace'"
     ]
    }
   ],
   "source": [
    "for n in graph.nodes:\n",
    "    graph.nodes[n][election+\"D\"] = int(graph.nodes[n][election+\"D\"].replace(\",\",\"\"))\n",
    "    graph.nodes[n][election+\"R\"] = int(graph.nodes[n][election+\"R\"].replace(\",\",\"\"))"
   ]
  },
  {
   "cell_type": "code",
   "execution_count": 17,
   "metadata": {
    "scrolled": true
   },
   "outputs": [
    {
     "data": {
      "text/plain": [
       "{'boundary_node': False,\n",
       " 'area': 5616315.599709552,\n",
       " 'CNTYVTD': '10001',\n",
       " 'VTD': '0001',\n",
       " 'WHITE': 2053.0,\n",
       " 'OTHER': 89.0,\n",
       " 'HISPANIC': 401.0,\n",
       " 'TOTPOP': 3131.0,\n",
       " 'VAP': 2341.0,\n",
       " 'BLACK': 606.0,\n",
       " 'BLKHISP': 989.0,\n",
       " 'WVAP': 1677.0,\n",
       " 'HISPVAP': 217.0,\n",
       " 'BHVAP': 592.0,\n",
       " 'BVAP': 378.0,\n",
       " 'OTHVAP': 72.0,\n",
       " 'COUNTY': 'Anderson',\n",
       " 'FIPS': 1,\n",
       " 'PRES12R': 754,\n",
       " 'PRES12D': 261,\n",
       " 'SEN12R': 713,\n",
       " 'SEN12D': 285,\n",
       " 'TOTVR12': 1629,\n",
       " 'TOTTO12': 1026,\n",
       " 'SEN14R': 441,\n",
       " 'SEN14D': 110,\n",
       " 'GOV14R': 424,\n",
       " 'GOV14D': 130,\n",
       " 'TOTVR14': 1712,\n",
       " 'TOTTO14': 576,\n",
       " 'PRES16D': 262,\n",
       " 'PRES16R': 742,\n",
       " 'TOTVR16': 1799,\n",
       " 'TOTTO16': 1030,\n",
       " 'USCD': '05',\n",
       " 'SEND': 3,\n",
       " 'HD': 8,\n",
       " 'AREA': 6,\n",
       " 'PERIM': 15}"
      ]
     },
     "execution_count": 17,
     "metadata": {},
     "output_type": "execute_result"
    }
   ],
   "source": [
    "graph.nodes[0]"
   ]
  },
  {
   "cell_type": "code",
   "execution_count": 47,
   "metadata": {
    "scrolled": true
   },
   "outputs": [
    {
     "name": "stdout",
     "output_type": "stream",
     "text": [
      "Wall time: 1min 31s\n"
     ]
    }
   ],
   "source": [
    "%%time\n",
    "num_dist = 36\n",
    "\n",
    "# Exercise: Compute exact population from your data.\n",
    "pop = pop_count\n",
    "\n",
    "my_updaters = {\n",
    "    \"population\": updaters.Tally(\"TOTPOP\", alias=\"population\"),\n",
    "    \"cut_edges\": cut_edges,\n",
    "    election: Election(election, {\"republican\": election+\"R\", \"democratic\":election+\"D\"})\n",
    "}\n",
    "\n",
    "\n",
    "new_plan = recursive_tree_part(graph,\n",
    "                               range(num_dist),\n",
    "                               pop/num_dist,\n",
    "                               \"TOTPOP\",\n",
    "                               0.001,\n",
    "                               3)\n",
    "initial_partition = Partition(graph,\n",
    "                              new_plan,\n",
    "                              my_updaters)"
   ]
  },
  {
   "cell_type": "code",
   "execution_count": 48,
   "metadata": {
    "scrolled": true
   },
   "outputs": [
    {
     "name": "stdout",
     "output_type": "stream",
     "text": [
      "Wall time: 70.9 ms\n"
     ]
    }
   ],
   "source": [
    "%%time\n",
    "proposal = partial(recom,\n",
    "                   pop_col = \"TOTPOP\",\n",
    "                   pop_target = pop/num_dist,\n",
    "                   epsilon = 0.001,\n",
    "                   node_repeats = 3)\n",
    "\n",
    "compactness_bound = constraints.UpperBound(\n",
    "    lambda p: len(p[\"cut_edges\"]), 2 * len(initial_partition[\"cut_edges\"])\n",
    ")"
   ]
  },
  {
   "cell_type": "markdown",
   "metadata": {},
   "source": [
    "# Pulling data from chain run"
   ]
  },
  {
   "cell_type": "code",
   "execution_count": null,
   "metadata": {
    "scrolled": false
   },
   "outputs": [
    {
     "data": {
      "application/vnd.jupyter.widget-view+json": {
       "model_id": "648ac9abced54cb0a4eca8177fc7b588",
       "version_major": 2,
       "version_minor": 0
      },
      "text/plain": [
       "HBox(children=(IntProgress(value=0, max=50000), HTML(value='')))"
      ]
     },
     "metadata": {},
     "output_type": "display_data"
    }
   ],
   "source": [
    "%%time\n",
    "pop_bound = 0.01\n",
    "num_steps = 50000\n",
    "\n",
    "chain = MarkovChain(\n",
    "    proposal=proposal,\n",
    "    constraints=[\n",
    "        constraints.within_percent_of_ideal_population(initial_partition, pop_bound),\n",
    "        compactness_bound,\n",
    "    ],\n",
    "    accept=accept.always_accept,\n",
    "    initial_state=initial_partition,\n",
    "    total_steps=num_steps,\n",
    ")\n",
    "\n",
    "data = []\n",
    "t = 0\n",
    "\n",
    "with open(newdir + \"texas_data_specs.txt\", \"w\") as f:\n",
    "    f.write(\"population bound: \")\n",
    "    f.write(str(pop_bound))\n",
    "    f.write(\", number of steps: \")\n",
    "    f.write(str(num_steps))\n",
    "\n",
    "for step in tqdm_notebook(chain):\n",
    "    data.append([step[election].wins(\"republican\"),\n",
    "                         mean_median(step[election]),\n",
    "                         partisan_gini(step[election]),\n",
    "                         step[election].percents(\"republican\")])\n",
    "    t += 1\n",
    "    if t % 5000 == 0:\n",
    "        with open(newdir + \"texas_data\" + str(t) + \".csv\", \"w\") as f:\n",
    "            writer = csv.writer(f, lineterminator=\"\\n\")\n",
    "            writer.writerows(data)"
   ]
  },
  {
   "cell_type": "markdown",
   "metadata": {},
   "source": [
    "# Visualization"
   ]
  },
  {
   "cell_type": "code",
   "execution_count": 26,
   "metadata": {},
   "outputs": [
    {
     "data": {
      "application/vnd.jupyter.widget-view+json": {
       "model_id": "20e94818ee7149cfaad05a7d44110eef",
       "version_major": 2,
       "version_minor": 0
      },
      "text/plain": [
       "HBox(children=(IntProgress(value=0, max=1000), HTML(value='')))"
      ]
     },
     "metadata": {},
     "output_type": "display_data"
    },
    {
     "name": "stdout",
     "output_type": "stream",
     "text": [
      "\n",
      "Wall time: 136 ms\n"
     ]
    },
    {
     "data": {
      "image/png": "[encoded data removed]",
      "text/plain": [
       "<Figure size 1152x288 with 1 Axes>"
      ]
     },
     "metadata": {
      "needs_background": "light"
     },
     "output_type": "display_data"
    },
    {
     "data": {
      "image/png": "[encoded data removed]",
      "text/plain": [
       "<Figure size 1152x576 with 4 Axes>"
      ]
     },
     "metadata": {
      "needs_background": "light"
     },
     "output_type": "display_data"
    }
   ],
   "source": [
    "%%time\n",
    "# fig, votes = plt.subplots(figsize=(16,4))\n",
    "fig, seats = plt.subplots(figsize=(16,4))\n",
    "fig, ax = plt.subplots(2,2, figsize=(16,8), sharex=\"col\", sharey=\"row\")\n",
    "\n",
    "plt.subplots_adjust(wspace=0.3, hspace=0.3)\n",
    "\n",
    "# Variables\n",
    "inliers = [27,29]\n",
    "bins_num = 20\n",
    "out_bins_num = 10\n",
    "title = \"TX-S12: 1000 ReCom plans\"\n",
    "\n",
    "# Colors\n",
    "seats_colors = [\"red\", \"blue\", \"lightgray\"]\n",
    "party_colors = [\"red\", \"blue\"]\n",
    "neutral = \"lightgreen\"\n",
    "\n",
    "# Creating Datasets\n",
    "mm = []\n",
    "pg = []\n",
    "vs = []\n",
    "mm_routliers = []\n",
    "mm_doutliers = []\n",
    "pg_routliers = []\n",
    "pg_doutliers = []\n",
    "seats_routliers = []\n",
    "seats_doutliers = []\n",
    "seats_inliers = []\n",
    "vs_routliers = []\n",
    "vs_doutliers = []\n",
    "\n",
    "\n",
    "for plan in tqdm_notebook(data):\n",
    "    mm.append(plan[1])\n",
    "    pg.append(plan[2])\n",
    "    vs.append(plan[3])\n",
    "    if plan[0] < inliers[0]:\n",
    "        seats_doutliers.append(plan[0])\n",
    "        mm_doutliers.append(plan[1])\n",
    "        pg_doutliers.append(plan[2])\n",
    "        vs_doutliers.append(plan[3])\n",
    "    if plan[0] > inliers[1]:\n",
    "        seats_routliers.append(plan[0])\n",
    "        mm_routliers.append(plan[1])\n",
    "        pg_routliers.append(plan[2])\n",
    "        vs_routliers.append(plan[3])\n",
    "    if plan[0] >= inliers[0] and plan[0] <= inliers[1]:\n",
    "        seats_inliers.append(plan[0])\n",
    "\n",
    "mms = [mm_routliers, mm_doutliers]\n",
    "pgs = [pg_routliers, pg_doutliers]\n",
    "seats_colored = [seats_routliers, seats_doutliers, seats_inliers]\n",
    "\n",
    "# More variables\n",
    "num_outliers = str(len(mm_doutliers) + len(mm_routliers))\n",
    "pct_outliers = str(round((len(mm_doutliers) + len(mm_routliers)) / 1000 * 100, 1))\n",
    "title_w = \"TX-S12: \" + num_outliers + \" outlier plans \" + \"(\" + pct_outliers + \"%)\"\n",
    "\n",
    "# Plotting the votes shares boxplots\n",
    "# votes.boxplot(vs, positions=range(len(data.columns)))\n",
    "\n",
    "# votes.set_title(\"Votes Shares Boxplots\")\n",
    "# votes.set_ylabel(\"Republican Votes %\")\n",
    "# votes.set_xlabel(\"District #\")\n",
    "\n",
    "\n",
    "# Plotting the seats histogram\n",
    "seats.hist(seats_colored, bins=out_bins_num, stacked=True, color=seats_colors)\n",
    "\n",
    "seats.set_title(\"TX-S12 Republican seats won — outliers colored according to party helped\")\n",
    "seats.set_ylabel(\"Frequency\")\n",
    "seats.set_xlabel(\"# Seats Won\")\n",
    "seats.set_xlim(0, num_dist)\n",
    "seats.axvline(x = num_dist/2, color=neutral, linestyle=\"dashed\", linewidth=2, label=\"50% seats\")\n",
    "seats.axvline(x = num_dist * initial_partition[election].percent(\"republican\"), color=\"red\", linestyle=\"dashed\", linewidth=2, label=\"proportionality\")\n",
    "seats.legend()\n",
    "# seats.set_xticks(1)\n",
    "\n",
    "# Plotting the whole dataset\n",
    "ax[0,0].hist(mm, bins=2*bins_num, color=neutral)\n",
    "ax[0,1].hist(pg, bins=2*bins_num, color=neutral)\n",
    "\n",
    "ax[0,0].set_title(title)\n",
    "ax[0,0].set_ylabel(\"Frequency\")\n",
    "ax[0,0].set_xlabel(\"Mean-Median Score\")\n",
    "\n",
    "ax[0,1].set_title(title)\n",
    "ax[0,1].set_ylabel(\"Frequency\")\n",
    "ax[0,1].set_xlabel(\"Partisan Gini Score\")\n",
    "\n",
    "# Plotting the winnowed data\n",
    "ax[1,0].hist(mms, bins=bins_num, color=party_colors)\n",
    "ax[1,1].hist(pgs, bins=bins_num, color=party_colors)\n",
    "# ax[1,1].set_ylim((0,40))\n",
    "\n",
    "ax[1,0].set_title(title_w)\n",
    "ax[1,0].set_ylabel(\"Frequency\")\n",
    "ax[1,0].set_xlabel(\"Mean-Median Score\")\n",
    "\n",
    "ax[1,1].set_title(title_w)\n",
    "ax[1,1].set_ylabel(\"Frequency\")\n",
    "ax[1,1].set_xlabel(\"Partisan Gini Score\")"
   ]
  },
  {
   "cell_type": "code",
   "execution_count": null,
   "metadata": {},
   "outputs": [],
   "source": []
  }
 ],
 "metadata": {
  "kernelspec": {
   "display_name": "Python 3",
   "language": "python",
   "name": "python3"
  },
  "language_info": {
   "codemirror_mode": {
    "name": "ipython",
    "version": 3
   },
   "file_extension": ".py",
   "mimetype": "text/x-python",
   "name": "python",
   "nbconvert_exporter": "python",
   "pygments_lexer": "ipython3",
   "version": "3.7.2"
  }
 },
 "nbformat": 4,
 "nbformat_minor": 2
}
