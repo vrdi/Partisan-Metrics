{
 "cells": [
  {
   "cell_type": "code",
   "execution_count": 8,
   "metadata": {},
   "outputs": [],
   "source": [
    "import os\n",
    "from functools import partial\n",
    "import json\n",
    "import csv\n",
    "\n",
    "import geopandas as gpd\n",
    "import matplotlib.pyplot as plt\n",
    "import networkx as nx\n",
    "import pandas as pd\n",
    "import numpy as np\n",
    "from tqdm import tqdm_notebook\n",
    "import random\n",
    "import seaborn as sns\n",
    "\n",
    "from gerrychain import (\n",
    "    Election,\n",
    "    Graph,\n",
    "    MarkovChain,\n",
    "    Partition,\n",
    "    accept,\n",
    "    constraints,\n",
    "    updaters,\n",
    ")\n",
    "\n",
    "from gerrychain.metrics import efficiency_gap, mean_median, partisan_gini\n",
    "from gerrychain.proposals import recom\n",
    "from gerrychain.updaters import cut_edges\n",
    "from gerrychain.tree import recursive_tree_part"
   ]
  },
  {
   "cell_type": "code",
   "execution_count": 262,
   "metadata": {},
   "outputs": [],
   "source": [
    "data = pd.read_csv(\"./Outputs/SEN12_texas_data4000.csv\")"
   ]
  },
  {
   "cell_type": "code",
   "execution_count": 265,
   "metadata": {},
   "outputs": [
    {
     "data": {
      "text/html": [
       "<div>\n",
       "<style scoped>\n",
       "    .dataframe tbody tr th:only-of-type {\n",
       "        vertical-align: middle;\n",
       "    }\n",
       "\n",
       "    .dataframe tbody tr th {\n",
       "        vertical-align: top;\n",
       "    }\n",
       "\n",
       "    .dataframe thead th {\n",
       "        text-align: right;\n",
       "    }\n",
       "</style>\n",
       "<table border=\"1\" class=\"dataframe\">\n",
       "  <thead>\n",
       "    <tr style=\"text-align: right;\">\n",
       "      <th></th>\n",
       "      <th>seats</th>\n",
       "      <th>mm</th>\n",
       "      <th>pg</th>\n",
       "    </tr>\n",
       "  </thead>\n",
       "  <tbody>\n",
       "    <tr>\n",
       "      <th>count</th>\n",
       "      <td>4000.000000</td>\n",
       "      <td>4000.000000</td>\n",
       "      <td>4000.000000</td>\n",
       "    </tr>\n",
       "    <tr>\n",
       "      <th>mean</th>\n",
       "      <td>24.368000</td>\n",
       "      <td>0.028638</td>\n",
       "      <td>0.043666</td>\n",
       "    </tr>\n",
       "    <tr>\n",
       "      <th>std</th>\n",
       "      <td>1.323826</td>\n",
       "      <td>0.016049</td>\n",
       "      <td>0.009704</td>\n",
       "    </tr>\n",
       "    <tr>\n",
       "      <th>min</th>\n",
       "      <td>21.000000</td>\n",
       "      <td>-0.014810</td>\n",
       "      <td>0.022405</td>\n",
       "    </tr>\n",
       "    <tr>\n",
       "      <th>25%</th>\n",
       "      <td>24.000000</td>\n",
       "      <td>0.018872</td>\n",
       "      <td>0.036652</td>\n",
       "    </tr>\n",
       "    <tr>\n",
       "      <th>50%</th>\n",
       "      <td>24.000000</td>\n",
       "      <td>0.030775</td>\n",
       "      <td>0.042952</td>\n",
       "    </tr>\n",
       "    <tr>\n",
       "      <th>75%</th>\n",
       "      <td>25.000000</td>\n",
       "      <td>0.039835</td>\n",
       "      <td>0.049298</td>\n",
       "    </tr>\n",
       "    <tr>\n",
       "      <th>max</th>\n",
       "      <td>28.000000</td>\n",
       "      <td>0.065831</td>\n",
       "      <td>0.076109</td>\n",
       "    </tr>\n",
       "  </tbody>\n",
       "</table>\n",
       "</div>"
      ],
      "text/plain": [
       "             seats           mm           pg\n",
       "count  4000.000000  4000.000000  4000.000000\n",
       "mean     24.368000     0.028638     0.043666\n",
       "std       1.323826     0.016049     0.009704\n",
       "min      21.000000    -0.014810     0.022405\n",
       "25%      24.000000     0.018872     0.036652\n",
       "50%      24.000000     0.030775     0.042952\n",
       "75%      25.000000     0.039835     0.049298\n",
       "max      28.000000     0.065831     0.076109"
      ]
     },
     "execution_count": 265,
     "metadata": {},
     "output_type": "execute_result"
    }
   ],
   "source": [
    "data.describe()"
   ]
  },
  {
   "cell_type": "code",
   "execution_count": 216,
   "metadata": {
    "scrolled": false
   },
   "outputs": [
    {
     "data": {
      "text/html": [
       "<div>\n",
       "<style scoped>\n",
       "    .dataframe tbody tr th:only-of-type {\n",
       "        vertical-align: middle;\n",
       "    }\n",
       "\n",
       "    .dataframe tbody tr th {\n",
       "        vertical-align: top;\n",
       "    }\n",
       "\n",
       "    .dataframe thead th {\n",
       "        text-align: right;\n",
       "    }\n",
       "</style>\n",
       "<table border=\"1\" class=\"dataframe\">\n",
       "  <thead>\n",
       "    <tr style=\"text-align: right;\">\n",
       "      <th></th>\n",
       "      <th>seats</th>\n",
       "      <th>mm</th>\n",
       "      <th>pg</th>\n",
       "    </tr>\n",
       "  </thead>\n",
       "  <tbody>\n",
       "    <tr>\n",
       "      <th>count</th>\n",
       "      <td>592.000000</td>\n",
       "      <td>592.000000</td>\n",
       "      <td>592.000000</td>\n",
       "    </tr>\n",
       "    <tr>\n",
       "      <th>mean</th>\n",
       "      <td>24.547297</td>\n",
       "      <td>0.032063</td>\n",
       "      <td>0.044331</td>\n",
       "    </tr>\n",
       "    <tr>\n",
       "      <th>std</th>\n",
       "      <td>0.498179</td>\n",
       "      <td>0.014340</td>\n",
       "      <td>0.006049</td>\n",
       "    </tr>\n",
       "    <tr>\n",
       "      <th>min</th>\n",
       "      <td>24.000000</td>\n",
       "      <td>-0.008860</td>\n",
       "      <td>0.030621</td>\n",
       "    </tr>\n",
       "    <tr>\n",
       "      <th>25%</th>\n",
       "      <td>24.000000</td>\n",
       "      <td>0.023135</td>\n",
       "      <td>0.039251</td>\n",
       "    </tr>\n",
       "    <tr>\n",
       "      <th>50%</th>\n",
       "      <td>25.000000</td>\n",
       "      <td>0.033297</td>\n",
       "      <td>0.044575</td>\n",
       "    </tr>\n",
       "    <tr>\n",
       "      <th>75%</th>\n",
       "      <td>25.000000</td>\n",
       "      <td>0.040020</td>\n",
       "      <td>0.048440</td>\n",
       "    </tr>\n",
       "    <tr>\n",
       "      <th>max</th>\n",
       "      <td>25.000000</td>\n",
       "      <td>0.065570</td>\n",
       "      <td>0.059770</td>\n",
       "    </tr>\n",
       "  </tbody>\n",
       "</table>\n",
       "</div>"
      ],
      "text/plain": [
       "            seats          mm          pg\n",
       "count  592.000000  592.000000  592.000000\n",
       "mean    24.547297    0.032063    0.044331\n",
       "std      0.498179    0.014340    0.006049\n",
       "min     24.000000   -0.008860    0.030621\n",
       "25%     24.000000    0.023135    0.039251\n",
       "50%     25.000000    0.033297    0.044575\n",
       "75%     25.000000    0.040020    0.048440\n",
       "max     25.000000    0.065570    0.059770"
      ]
     },
     "execution_count": 216,
     "metadata": {},
     "output_type": "execute_result"
    }
   ],
   "source": [
    "inliers.describe()"
   ]
  },
  {
   "cell_type": "code",
   "execution_count": 217,
   "metadata": {},
   "outputs": [
    {
     "data": {
      "text/html": [
       "<div>\n",
       "<style scoped>\n",
       "    .dataframe tbody tr th:only-of-type {\n",
       "        vertical-align: middle;\n",
       "    }\n",
       "\n",
       "    .dataframe tbody tr th {\n",
       "        vertical-align: top;\n",
       "    }\n",
       "\n",
       "    .dataframe thead th {\n",
       "        text-align: right;\n",
       "    }\n",
       "</style>\n",
       "<table border=\"1\" class=\"dataframe\">\n",
       "  <thead>\n",
       "    <tr style=\"text-align: right;\">\n",
       "      <th></th>\n",
       "      <th>seats</th>\n",
       "      <th>mm</th>\n",
       "      <th>pg</th>\n",
       "    </tr>\n",
       "  </thead>\n",
       "  <tbody>\n",
       "    <tr>\n",
       "      <th>count</th>\n",
       "      <td>184.000000</td>\n",
       "      <td>184.000000</td>\n",
       "      <td>184.000000</td>\n",
       "    </tr>\n",
       "    <tr>\n",
       "      <th>mean</th>\n",
       "      <td>22.407609</td>\n",
       "      <td>0.036892</td>\n",
       "      <td>0.041662</td>\n",
       "    </tr>\n",
       "    <tr>\n",
       "      <th>std</th>\n",
       "      <td>0.662951</td>\n",
       "      <td>0.012639</td>\n",
       "      <td>0.007010</td>\n",
       "    </tr>\n",
       "    <tr>\n",
       "      <th>min</th>\n",
       "      <td>21.000000</td>\n",
       "      <td>0.013260</td>\n",
       "      <td>0.030318</td>\n",
       "    </tr>\n",
       "    <tr>\n",
       "      <th>25%</th>\n",
       "      <td>22.000000</td>\n",
       "      <td>0.027848</td>\n",
       "      <td>0.036394</td>\n",
       "    </tr>\n",
       "    <tr>\n",
       "      <th>50%</th>\n",
       "      <td>23.000000</td>\n",
       "      <td>0.033453</td>\n",
       "      <td>0.039318</td>\n",
       "    </tr>\n",
       "    <tr>\n",
       "      <th>75%</th>\n",
       "      <td>23.000000</td>\n",
       "      <td>0.041790</td>\n",
       "      <td>0.046041</td>\n",
       "    </tr>\n",
       "    <tr>\n",
       "      <th>max</th>\n",
       "      <td>23.000000</td>\n",
       "      <td>0.062936</td>\n",
       "      <td>0.061413</td>\n",
       "    </tr>\n",
       "  </tbody>\n",
       "</table>\n",
       "</div>"
      ],
      "text/plain": [
       "            seats          mm          pg\n",
       "count  184.000000  184.000000  184.000000\n",
       "mean    22.407609    0.036892    0.041662\n",
       "std      0.662951    0.012639    0.007010\n",
       "min     21.000000    0.013260    0.030318\n",
       "25%     22.000000    0.027848    0.036394\n",
       "50%     23.000000    0.033453    0.039318\n",
       "75%     23.000000    0.041790    0.046041\n",
       "max     23.000000    0.062936    0.061413"
      ]
     },
     "execution_count": 217,
     "metadata": {},
     "output_type": "execute_result"
    }
   ],
   "source": [
    "dem.describe()"
   ]
  },
  {
   "cell_type": "code",
   "execution_count": 218,
   "metadata": {},
   "outputs": [
    {
     "data": {
      "text/html": [
       "<div>\n",
       "<style scoped>\n",
       "    .dataframe tbody tr th:only-of-type {\n",
       "        vertical-align: middle;\n",
       "    }\n",
       "\n",
       "    .dataframe tbody tr th {\n",
       "        vertical-align: top;\n",
       "    }\n",
       "\n",
       "    .dataframe thead th {\n",
       "        text-align: right;\n",
       "    }\n",
       "</style>\n",
       "<table border=\"1\" class=\"dataframe\">\n",
       "  <thead>\n",
       "    <tr style=\"text-align: right;\">\n",
       "      <th></th>\n",
       "      <th>seats</th>\n",
       "      <th>mm</th>\n",
       "      <th>pg</th>\n",
       "    </tr>\n",
       "  </thead>\n",
       "  <tbody>\n",
       "    <tr>\n",
       "      <th>count</th>\n",
       "      <td>224.0</td>\n",
       "      <td>224.000000</td>\n",
       "      <td>224.000000</td>\n",
       "    </tr>\n",
       "    <tr>\n",
       "      <th>mean</th>\n",
       "      <td>26.0</td>\n",
       "      <td>0.021292</td>\n",
       "      <td>0.041531</td>\n",
       "    </tr>\n",
       "    <tr>\n",
       "      <th>std</th>\n",
       "      <td>0.0</td>\n",
       "      <td>0.012156</td>\n",
       "      <td>0.005651</td>\n",
       "    </tr>\n",
       "    <tr>\n",
       "      <th>min</th>\n",
       "      <td>26.0</td>\n",
       "      <td>0.001446</td>\n",
       "      <td>0.031277</td>\n",
       "    </tr>\n",
       "    <tr>\n",
       "      <th>25%</th>\n",
       "      <td>26.0</td>\n",
       "      <td>0.013074</td>\n",
       "      <td>0.036953</td>\n",
       "    </tr>\n",
       "    <tr>\n",
       "      <th>50%</th>\n",
       "      <td>26.0</td>\n",
       "      <td>0.014641</td>\n",
       "      <td>0.040420</td>\n",
       "    </tr>\n",
       "    <tr>\n",
       "      <th>75%</th>\n",
       "      <td>26.0</td>\n",
       "      <td>0.032365</td>\n",
       "      <td>0.045352</td>\n",
       "    </tr>\n",
       "    <tr>\n",
       "      <th>max</th>\n",
       "      <td>26.0</td>\n",
       "      <td>0.047189</td>\n",
       "      <td>0.059745</td>\n",
       "    </tr>\n",
       "  </tbody>\n",
       "</table>\n",
       "</div>"
      ],
      "text/plain": [
       "       seats          mm          pg\n",
       "count  224.0  224.000000  224.000000\n",
       "mean    26.0    0.021292    0.041531\n",
       "std      0.0    0.012156    0.005651\n",
       "min     26.0    0.001446    0.031277\n",
       "25%     26.0    0.013074    0.036953\n",
       "50%     26.0    0.014641    0.040420\n",
       "75%     26.0    0.032365    0.045352\n",
       "max     26.0    0.047189    0.059745"
      ]
     },
     "execution_count": 218,
     "metadata": {},
     "output_type": "execute_result"
    }
   ],
   "source": [
    "rep.describe()"
   ]
  },
  {
   "cell_type": "code",
   "execution_count": 260,
   "metadata": {
    "scrolled": true
   },
   "outputs": [
    {
     "name": "stdout",
     "output_type": "stream",
     "text": [
      "% of plans that were Dem outliers:  0.9625\n",
      "% of plans that were Rep outliers:  0.723\n",
      "% of plans that were inliers:  0.9285\n"
     ]
    }
   ],
   "source": [
    "inliers, rep, dem = winnow_data(data, [22, 26])"
   ]
  },
  {
   "cell_type": "code",
   "execution_count": 261,
   "metadata": {},
   "outputs": [
    {
     "data": {
      "text/html": [
       "<div>\n",
       "<style scoped>\n",
       "    .dataframe tbody tr th:only-of-type {\n",
       "        vertical-align: middle;\n",
       "    }\n",
       "\n",
       "    .dataframe tbody tr th {\n",
       "        vertical-align: top;\n",
       "    }\n",
       "\n",
       "    .dataframe thead th {\n",
       "        text-align: right;\n",
       "    }\n",
       "</style>\n",
       "<table border=\"1\" class=\"dataframe\">\n",
       "  <thead>\n",
       "    <tr style=\"text-align: right;\">\n",
       "      <th></th>\n",
       "      <th>seats</th>\n",
       "      <th>mm</th>\n",
       "      <th>pg</th>\n",
       "    </tr>\n",
       "  </thead>\n",
       "  <tbody>\n",
       "    <tr>\n",
       "      <th>count</th>\n",
       "      <td>1857.000000</td>\n",
       "      <td>1857.000000</td>\n",
       "      <td>1857.000000</td>\n",
       "    </tr>\n",
       "    <tr>\n",
       "      <th>mean</th>\n",
       "      <td>24.800754</td>\n",
       "      <td>0.033319</td>\n",
       "      <td>0.045993</td>\n",
       "    </tr>\n",
       "    <tr>\n",
       "      <th>std</th>\n",
       "      <td>1.105014</td>\n",
       "      <td>0.013444</td>\n",
       "      <td>0.008614</td>\n",
       "    </tr>\n",
       "    <tr>\n",
       "      <th>min</th>\n",
       "      <td>21.000000</td>\n",
       "      <td>-0.008860</td>\n",
       "      <td>0.030318</td>\n",
       "    </tr>\n",
       "    <tr>\n",
       "      <th>25%</th>\n",
       "      <td>24.000000</td>\n",
       "      <td>0.024870</td>\n",
       "      <td>0.039347</td>\n",
       "    </tr>\n",
       "    <tr>\n",
       "      <th>50%</th>\n",
       "      <td>25.000000</td>\n",
       "      <td>0.033410</td>\n",
       "      <td>0.045212</td>\n",
       "    </tr>\n",
       "    <tr>\n",
       "      <th>75%</th>\n",
       "      <td>26.000000</td>\n",
       "      <td>0.041914</td>\n",
       "      <td>0.050689</td>\n",
       "    </tr>\n",
       "    <tr>\n",
       "      <th>max</th>\n",
       "      <td>26.000000</td>\n",
       "      <td>0.065570</td>\n",
       "      <td>0.076109</td>\n",
       "    </tr>\n",
       "  </tbody>\n",
       "</table>\n",
       "</div>"
      ],
      "text/plain": [
       "             seats           mm           pg\n",
       "count  1857.000000  1857.000000  1857.000000\n",
       "mean     24.800754     0.033319     0.045993\n",
       "std       1.105014     0.013444     0.008614\n",
       "min      21.000000    -0.008860     0.030318\n",
       "25%      24.000000     0.024870     0.039347\n",
       "50%      25.000000     0.033410     0.045212\n",
       "75%      26.000000     0.041914     0.050689\n",
       "max      26.000000     0.065570     0.076109"
      ]
     },
     "execution_count": 261,
     "metadata": {},
     "output_type": "execute_result"
    }
   ],
   "source": [
    "inliers.describe()"
   ]
  },
  {
   "cell_type": "code",
   "execution_count": 259,
   "metadata": {},
   "outputs": [],
   "source": [
    "def winnow_data(data, inliers_list):\n",
    "    dem = data.set_index(\"seats\")\n",
    "    rep = data.set_index(\"seats\")\n",
    "    inliers = data.set_index(\"seats\")\n",
    "\n",
    "    for i in [inliers_list[0], max(data[\"seats\"])]:\n",
    "        dem = dem.drop(i, axis = 0)\n",
    "\n",
    "    for i in [min(data[\"seats\"]), inliers_list[1]]:\n",
    "        rep = rep.drop(i, axis = 0)\n",
    "\n",
    "    for i in [min(data[\"seats\"]), inliers_list[0]-1] and [inliers_list[1]+1, max(data[\"seats\"])]:\n",
    "        inliers = inliers.drop(i, axis = 0)\n",
    "\n",
    "    dem = dem.reset_index()\n",
    "    rep = rep.reset_index()\n",
    "    inliers = inliers.reset_index()\n",
    "    \n",
    "    print(\"% of plans that were Dem outliers: \", len(dem)/len(data))\n",
    "    print(\"% of plans that were Rep outliers: \", len(rep)/len(data))\n",
    "    print(\"% of plans that were inliers: \", len(inliers)/len(data))\n",
    "    return inliers, rep, dem"
   ]
  },
  {
   "cell_type": "code",
   "execution_count": 266,
   "metadata": {},
   "outputs": [],
   "source": [
    "dem = data.set_index(\"seats\")\n",
    "rep = data.set_index(\"seats\")\n",
    "inliers = data.set_index(\"seats\")\n",
    "\n",
    "for i in (22, 23, 24, 25, 26, 27, 28):\n",
    "    dem = dem.drop(i, axis = 0)\n",
    "    \n",
    "for i in (21, 22, 23, 24, 25, 26):\n",
    "    rep = rep.drop(i, axis = 0)\n",
    "    \n",
    "for i in (21, 27, 28):\n",
    "    inliers = inliers.drop(i, axis = 0)\n",
    "    \n",
    "dem = dem.reset_index()\n",
    "rep = rep.reset_index()\n",
    "inliers = inliers.reset_index()"
   ]
  },
  {
   "cell_type": "code",
   "execution_count": null,
   "metadata": {},
   "outputs": [],
   "source": [
    "for plan in tqdm_notebook(data):\n",
    "    mm.append(plan[1])\n",
    "    pg.append(plan[2])\n",
    "    vs.append(plan[3])\n",
    "    if plan[0] < inliers[0]:\n",
    "        seats_doutliers.append(plan[0])\n",
    "        mm_doutliers.append(plan[1])\n",
    "        pg_doutliers.append(plan[2])\n",
    "        vs_doutliers.append(plan[3])\n",
    "    if plan[0] > inliers[1]:\n",
    "        seats_routliers.append(plan[0])\n",
    "        mm_routliers.append(plan[1])\n",
    "        pg_routliers.append(plan[2])\n",
    "        vs_routliers.append(plan[3])\n",
    "    if plan[0] >= inliers[0] and plan[0] <= inliers[1]:\n",
    "        seats_inliers.append(plan[0])"
   ]
  },
  {
   "cell_type": "code",
   "execution_count": 340,
   "metadata": {
    "scrolled": true
   },
   "outputs": [],
   "source": [
    "texas_data = pd.read_csv(\"./Outputs/SEN12_texas_data6000.csv\")"
   ]
  },
  {
   "cell_type": "code",
   "execution_count": 342,
   "metadata": {},
   "outputs": [],
   "source": [
    "utah_data = pd.read_csv(\"./Outputs/utah_data5000.csv\")"
   ]
  },
  {
   "cell_type": "code",
   "execution_count": 348,
   "metadata": {},
   "outputs": [],
   "source": [
    "def binning_seats(data):\n",
    "    seats_data = []\n",
    "    for i in range(len(data)):\n",
    "        seats_data.append(data[\"seats\"][i])\n",
    "    return max(seats_data) - min(seats_data) + 1"
   ]
  },
  {
   "cell_type": "code",
   "execution_count": 346,
   "metadata": {},
   "outputs": [
    {
     "data": {
      "image/png": "[encoded data removed]",
      "text/plain": [
       "<Figure size 1152x288 with 1 Axes>"
      ]
     },
     "metadata": {
      "needs_background": "light"
     },
     "output_type": "display_data"
    },
    {
     "data": {
      "image/png": "[encoded data removed]",
      "text/plain": [
       "<Figure size 1152x576 with 4 Axes>"
      ]
     },
     "metadata": {
      "needs_background": "light"
     },
     "output_type": "display_data"
    }
   ],
   "source": [
    "visualize(\"UT-SEN16\", utah_data, [4,4], 4)"
   ]
  },
  {
   "cell_type": "code",
   "execution_count": 347,
   "metadata": {
    "scrolled": false
   },
   "outputs": [
    {
     "data": {
      "image/png": "[encoded data removed]",
      "text/plain": [
       "<Figure size 1152x288 with 1 Axes>"
      ]
     },
     "metadata": {
      "needs_background": "light"
     },
     "output_type": "display_data"
    },
    {
     "data": {
      "image/png": "[encoded data removed]",
      "text/plain": [
       "<Figure size 1152x576 with 4 Axes>"
      ]
     },
     "metadata": {
      "needs_background": "light"
     },
     "output_type": "display_data"
    }
   ],
   "source": [
    "visualize(\"TX-SEN12\", texas_data, [22, 26], 36)"
   ]
  },
  {
   "cell_type": "code",
   "execution_count": 349,
   "metadata": {
    "scrolled": true
   },
   "outputs": [],
   "source": [
    "def visualize(state, data, inliers, num_dist):\n",
    "    fig, seats = plt.subplots(figsize=(16,4))\n",
    "    fig, ax = plt.subplots(2,2, figsize=(16,8), sharex=\"col\", sharey=\"row\")\n",
    "\n",
    "    plt.subplots_adjust(wspace=0.3, hspace=0.3)\n",
    "\n",
    "    # Variables\n",
    "    bins_num = 20\n",
    "    out_bins_num = binning_seats(data)\n",
    "    num_steps = len(data)\n",
    "    title = state + \": \" + str(num_steps) + \" ReCom plans\"\n",
    "\n",
    "    # Colors\n",
    "    seats_colors = [\"red\", \"blue\", \"lightgray\"]\n",
    "    party_colors = [\"red\", \"blue\"]\n",
    "    neutral = \"lightgreen\"\n",
    "\n",
    "    mm = []\n",
    "    pg = []\n",
    "    vs = []\n",
    "    mm_routliers = []\n",
    "    mm_doutliers = []\n",
    "    pg_routliers = []\n",
    "    pg_doutliers = []\n",
    "    seats_routliers = []\n",
    "    seats_doutliers = []\n",
    "    seats_inliers = []\n",
    "    vs_routliers = []\n",
    "    vs_doutliers = []\n",
    "\n",
    "    for i in range(len(data)):\n",
    "        mm.append(data[\"mm\"][i])\n",
    "        pg.append(data[\"pg\"][i])\n",
    "        vs.append(data[\"vs\"][i])\n",
    "        if data[\"seats\"][i] < inliers[0]:\n",
    "            seats_doutliers.append(data[\"seats\"][i])\n",
    "            mm_doutliers.append(data[\"mm\"][i])\n",
    "            pg_doutliers.append(data[\"pg\"][i])\n",
    "            vs_doutliers.append(data[\"vs\"][i])\n",
    "        if data[\"seats\"][i] > inliers[1]:\n",
    "            seats_routliers.append(data[\"seats\"][i])\n",
    "            mm_routliers.append(data[\"mm\"][i])\n",
    "            pg_routliers.append(data[\"pg\"][i])\n",
    "            vs_routliers.append(data[\"vs\"][i])\n",
    "        if data[\"seats\"][i] >= inliers[0] and data[\"seats\"][i] <= inliers[1]:\n",
    "            seats_inliers.append(data[\"seats\"][i])\n",
    "\n",
    "    mms = [mm_routliers, mm_doutliers]\n",
    "    pgs = [pg_routliers, pg_doutliers]\n",
    "    seats_colored = [seats_routliers, seats_doutliers, seats_inliers]\n",
    "\n",
    "    # More variables\n",
    "    num_outliers = str(len(mm_doutliers) + len(mm_routliers))\n",
    "    pct_outliers = str(round((len(mm_doutliers) + len(mm_routliers)) / num_steps * 100, 1))\n",
    "    title_w = state + \": \" + num_outliers + \" outlier plans \" + \"(\" + pct_outliers + \"%)\"\n",
    "\n",
    "\n",
    "    # Plotting the seats histogram\n",
    "    seats.hist(seats_colored, bins=out_bins_num, stacked=True, color=seats_colors)\n",
    "\n",
    "    seats.set_title(state + \" Republican seats won — outliers colored according to party helped\")\n",
    "    seats.set_ylabel(\"Frequency\")\n",
    "    seats.set_xlabel(\"# Seats Won\")\n",
    "    seats.set_xlim(0, num_dist)\n",
    "    seats.axvline(x = num_dist/2, color=neutral, linestyle=\"dashed\", linewidth=2, label=\"50% seats\")\n",
    "    # seats.axvline(x = num_dist * initial_partition[election].percent(\"republican\"), color=\"red\", linestyle=\"dashed\", linewidth=2, label=\"proportionality\")\n",
    "    seats.legend()\n",
    "    seats.set_xticks(range(num_dist + 1))\n",
    "\n",
    "    # Plotting the whole dataset\n",
    "    ax[0,0].hist(mm, bins=2*bins_num, color=neutral)\n",
    "    ax[0,1].hist(pg, bins=2*bins_num, color=neutral)\n",
    "\n",
    "    # Plotting the ideal values of metrics on each plot\n",
    "    ax[0,0].axvline(x=0, color=\"black\", linestyle=\"dashed\", label = \"ideal value\")\n",
    "    ax[1,0].axvline(x=0, color=\"black\", linestyle=\"dashed\", label = \"ideal value\")\n",
    "    ax[0,1].axvline(x=0, color=\"black\", linestyle=\"dashed\", label = \"ideal value\")\n",
    "    ax[1,1].axvline(x=0, color=\"black\", linestyle=\"dashed\", label = \"ideal value\")\n",
    "\n",
    "    ax[0,0].set_title(title)\n",
    "    ax[0,0].set_ylabel(\"Frequency\")\n",
    "    ax[0,0].set_xlabel(\"Mean-Median Score\")\n",
    "\n",
    "    ax[0,1].set_title(title)\n",
    "    ax[0,1].set_ylabel(\"Frequency\")\n",
    "    ax[0,1].set_xlabel(\"Partisan Gini Score\")\n",
    "\n",
    "    # Plotting the winnowed data\n",
    "    ax[1,0].hist(mms, bins=bins_num, color=party_colors)\n",
    "    ax[1,1].hist(pgs, bins=bins_num, color=party_colors)\n",
    "    # ax[1,1].set_ylim((0,40))\n",
    "\n",
    "    ax[1,0].set_title(title_w)\n",
    "    ax[1,0].set_ylabel(\"Frequency\")\n",
    "    ax[1,0].set_xlabel(\"Mean-Median Score\")\n",
    "\n",
    "    ax[1,1].set_title(title_w)\n",
    "    ax[1,1].set_ylabel(\"Frequency\")\n",
    "    ax[1,1].set_xlabel(\"Partisan Gini Score\")\n",
    "    plt.show()"
   ]
  },
  {
   "cell_type": "code",
   "execution_count": 320,
   "metadata": {},
   "outputs": [
    {
     "data": {
      "text/plain": [
       "Text(0.5, 0, 'Partisan Gini Score')"
      ]
     },
     "execution_count": 320,
     "metadata": {},
     "output_type": "execute_result"
    },
    {
     "data": {
      "image/png": "[encoded data removed]",
      "text/plain": [
       "<Figure size 1152x288 with 1 Axes>"
      ]
     },
     "metadata": {
      "needs_background": "light"
     },
     "output_type": "display_data"
    },
    {
     "data": {
      "image/png": "[encoded data removed]",
      "text/plain": [
       "<Figure size 1152x576 with 4 Axes>"
      ]
     },
     "metadata": {
      "needs_background": "light"
     },
     "output_type": "display_data"
    }
   ],
   "source": [
    "# fig, votes = plt.subplots(figsize=(16,4))\n",
    "fig, seats = plt.subplots(figsize=(16,4))\n",
    "fig, ax = plt.subplots(2,2, figsize=(16,8), sharex=\"col\", sharey=\"row\")\n",
    "\n",
    "plt.subplots_adjust(wspace=0.3, hspace=0.3)\n",
    "\n",
    "# Variables\n",
    "inliers = [22,26]\n",
    "bins_num = 20\n",
    "out_bins_num = 8\n",
    "title = \"TX-S12: 4000 ReCom plans\"\n",
    "num_dist = 36\n",
    "\n",
    "# Colors\n",
    "seats_colors = [\"red\", \"blue\", \"lightgray\"]\n",
    "party_colors = [\"red\", \"blue\"]\n",
    "neutral = \"lightgreen\"\n",
    "\n",
    "mm = []\n",
    "pg = []\n",
    "vs = []\n",
    "mm_routliers = []\n",
    "mm_doutliers = []\n",
    "pg_routliers = []\n",
    "pg_doutliers = []\n",
    "seats_routliers = []\n",
    "seats_doutliers = []\n",
    "seats_inliers = []\n",
    "vs_routliers = []\n",
    "vs_doutliers = []\n",
    "\n",
    "for i in range(len(data)):\n",
    "    mm.append(data[\"mm\"][i])\n",
    "    pg.append(data[\"pg\"][i])\n",
    "    vs.append(data[\"vs\"][i])\n",
    "    if data[\"seats\"][i] < inliers[0]:\n",
    "        seats_doutliers.append(data[\"seats\"][i])\n",
    "        mm_doutliers.append(data[\"mm\"][i])\n",
    "        pg_doutliers.append(data[\"pg\"][i])\n",
    "        vs_doutliers.append(data[\"vs\"][i])\n",
    "    if data[\"seats\"][i] > inliers[1]:\n",
    "        seats_routliers.append(data[\"seats\"][i])\n",
    "        mm_routliers.append(data[\"mm\"][i])\n",
    "        pg_routliers.append(data[\"pg\"][i])\n",
    "        vs_routliers.append(data[\"vs\"][i])\n",
    "    if data[\"seats\"][i] >= inliers[0] and data[\"seats\"][i] <= inliers[1]:\n",
    "        seats_inliers.append(data[\"seats\"][i])\n",
    "\n",
    "mms = [mm_routliers, mm_doutliers]\n",
    "pgs = [pg_routliers, pg_doutliers]\n",
    "seats_colored = [seats_routliers, seats_doutliers, seats_inliers]\n",
    "\n",
    "# More variables\n",
    "num_outliers = str(len(mm_doutliers) + len(mm_routliers))\n",
    "pct_outliers = str(round((len(mm_doutliers) + len(mm_routliers)) / 4000 * 100, 1))\n",
    "title_w = \"TX-S12: \" + num_outliers + \" outlier plans \" + \"(\" + pct_outliers + \"%)\"\n",
    "\n",
    "\n",
    "# Plotting the seats histogram\n",
    "seats.hist(seats_colored, bins=out_bins_num, stacked=True, color=seats_colors)\n",
    "\n",
    "seats.set_title(\"TX-S12 Republican seats won — outliers colored according to party helped\")\n",
    "seats.set_ylabel(\"Frequency\")\n",
    "seats.set_xlabel(\"# Seats Won\")\n",
    "seats.set_xlim(0, num_dist)\n",
    "seats.axvline(x = num_dist/2, color=neutral, linestyle=\"dashed\", linewidth=2, label=\"50% seats\")\n",
    "# seats.axvline(x = num_dist * initial_partition[election].percent(\"republican\"), color=\"red\", linestyle=\"dashed\", linewidth=2, label=\"proportionality\")\n",
    "seats.legend()\n",
    "seats.set_xticks(range(37))\n",
    "\n",
    "# Plotting the whole dataset\n",
    "ax[0,0].hist(mm, bins=2*bins_num, color=neutral)\n",
    "ax[0,1].hist(pg, bins=2*bins_num, color=neutral)\n",
    "\n",
    "# Plotting the ideal values of metrics on each plot\n",
    "ax[0,0].axvline(x=0, color=\"black\", linestyle=\"dashed\", label = \"ideal value\")\n",
    "ax[1,0].axvline(x=0, color=\"black\", linestyle=\"dashed\", label = \"ideal value\")\n",
    "ax[0,1].axvline(x=0, color=\"black\", linestyle=\"dashed\", label = \"ideal value\")\n",
    "ax[1,1].axvline(x=0, color=\"black\", linestyle=\"dashed\", label = \"ideal value\")\n",
    "\n",
    "ax[0,0].set_title(title)\n",
    "ax[0,0].set_ylabel(\"Frequency\")\n",
    "ax[0,0].set_xlabel(\"Mean-Median Score\")\n",
    "\n",
    "ax[0,1].set_title(title)\n",
    "ax[0,1].set_ylabel(\"Frequency\")\n",
    "ax[0,1].set_xlabel(\"Partisan Gini Score\")\n",
    "\n",
    "# Plotting the winnowed data\n",
    "ax[1,0].hist(mms, bins=bins_num, color=party_colors)\n",
    "ax[1,1].hist(pgs, bins=bins_num, color=party_colors)\n",
    "# ax[1,1].set_ylim((0,40))\n",
    "\n",
    "ax[1,0].set_title(title_w)\n",
    "ax[1,0].set_ylabel(\"Frequency\")\n",
    "ax[1,0].set_xlabel(\"Mean-Median Score\")\n",
    "\n",
    "ax[1,1].set_title(title_w)\n",
    "ax[1,1].set_ylabel(\"Frequency\")\n",
    "ax[1,1].set_xlabel(\"Partisan Gini Score\")"
   ]
  },
  {
   "cell_type": "code",
   "execution_count": 267,
   "metadata": {
    "scrolled": false
   },
   "outputs": [
    {
     "data": {
      "text/plain": [
       "<matplotlib.axes._subplots.AxesSubplot at 0x26a762aac88>"
      ]
     },
     "execution_count": 267,
     "metadata": {},
     "output_type": "execute_result"
    },
    {
     "data": {
      "image/png": "[encoded data removed]",
      "text/plain": [
       "<Figure size 864x216 with 1 Axes>"
      ]
     },
     "metadata": {
      "needs_background": "light"
     },
     "output_type": "display_data"
    },
    {
     "data": {
      "image/png": "[encoded data removed]",
      "text/plain": [
       "<Figure size 864x648 with 4 Axes>"
      ]
     },
     "metadata": {
      "needs_background": "light"
     },
     "output_type": "display_data"
    }
   ],
   "source": [
    "fig, seats = plt.subplots(figsize=(12,3))\n",
    "fig, axes = plt.subplots(2,2, figsize = (12,9), sharex=\"col\", sharey=\"row\")\n",
    "\n",
    "plt.subplots_adjust(wspace=0.3, hspace=0.3)\n",
    "\n",
    "data_list = [inliers, rep, dem]\n",
    "color_list = [\"gray\", \"red\", \"blue\"]\n",
    "num_bins = 20\n",
    "\n",
    "# sns.distplot(data[\"seats\"], color=\"orange\", ax=seats, kde=False)\n",
    "\n",
    "seats.set_xlim(0, 36)\n",
    "seats.axvline(x=18, label=\"50%\", color=\"gray\", linestyle=\"dashed\")\n",
    "\n",
    "sns.distplot(inliers[\"seats\"], color=\"gray\", ax=seats, kde=False)\n",
    "sns.distplot(dem[\"seats\"], color=\"blue\", ax=seats, kde=False)\n",
    "sns.distplot(rep[\"seats\"], color=\"red\", ax=seats, kde=False)\n",
    "\n",
    "sns.distplot(inliers[\"mm\"], color=\"gray\", ax=axes[0,0], kde=False)\n",
    "sns.distplot(inliers[\"pg\"], color=\"gray\", ax=axes[0,1], kde=False)\n",
    "\n",
    "sns.distplot(dem[\"mm\"], color=\"blue\", ax=axes[1,0], kde=False)\n",
    "sns.distplot(rep[\"mm\"], color=\"red\", ax=axes[1,0], kde=False)\n",
    "\n",
    "sns.distplot(dem[\"pg\"], color=\"blue\", ax=axes[1,1], kde=False)\n",
    "sns.distplot(rep[\"pg\"], color=\"red\", ax=axes[1,1], kde=False)"
   ]
  },
  {
   "cell_type": "code",
   "execution_count": 203,
   "metadata": {},
   "outputs": [
    {
     "data": {
      "text/plain": [
       "<matplotlib.axes._subplots.AxesSubplot at 0x26a6d44b2e8>"
      ]
     },
     "execution_count": 203,
     "metadata": {},
     "output_type": "execute_result"
    },
    {
     "data": {
      "image/png": "[encoded data removed]",
      "text/plain": [
       "<Figure size 432x288 with 1 Axes>"
      ]
     },
     "metadata": {
      "needs_background": "light"
     },
     "output_type": "display_data"
    }
   ],
   "source": [
    "d = np.random.normal(0, .5, 10000)\n",
    "f = np.random.normal(1, 2, 10000)\n",
    "\n",
    "sns.distplot(d, kde=False)\n",
    "sns.distplot(f, kde=False)"
   ]
  },
  {
   "cell_type": "code",
   "execution_count": null,
   "metadata": {},
   "outputs": [],
   "source": []
  }
 ],
 "metadata": {
  "kernelspec": {
   "display_name": "Python 3",
   "language": "python",
   "name": "python3"
  },
  "language_info": {
   "codemirror_mode": {
    "name": "ipython",
    "version": 3
   },
   "file_extension": ".py",
   "mimetype": "text/x-python",
   "name": "python",
   "nbconvert_exporter": "python",
   "pygments_lexer": "ipython3",
   "version": "3.7.2"
  }
 },
 "nbformat": 4,
 "nbformat_minor": 2
}
