{
 "cells": [
  {
   "cell_type": "markdown",
   "metadata": {},
   "source": [
    "# Imports"
   ]
  },
  {
   "cell_type": "code",
   "execution_count": 43,
   "metadata": {},
   "outputs": [],
   "source": [
    "import os\n",
    "from functools import partial\n",
    "import json\n",
    "\n",
    "import geopandas as gpd\n",
    "import matplotlib.pyplot as plt\n",
    "import networkx as nx\n",
    "import pandas as pd\n",
    "import numpy as np\n",
    "from tqdm import tqdm_notebook\n",
    "\n",
    "from gerrychain import (\n",
    "    Election,\n",
    "    Graph,\n",
    "    MarkovChain,\n",
    "    Partition,\n",
    "    accept,\n",
    "    constraints,\n",
    "    updaters,\n",
    ")\n",
    "\n",
    "from gerrychain.metrics import efficiency_gap, mean_median, partisan_gini\n",
    "from gerrychain.proposals import recom\n",
    "from gerrychain.updaters import cut_edges\n",
    "from gerrychain.tree import recursive_tree_part"
   ]
  },
  {
   "cell_type": "markdown",
   "metadata": {},
   "source": [
    "# Downloading state data"
   ]
  },
  {
   "cell_type": "code",
   "execution_count": 44,
   "metadata": {},
   "outputs": [],
   "source": [
    "graph_path = \"./georgia.json\"\n",
    "graph = Graph.from_json(graph_path)\n",
    "with open (graph_path, \"r\") as myfile:\n",
    "    data=myfile.readlines()\n",
    "graph_dict = json.loads(data[0])"
   ]
  },
  {
   "cell_type": "markdown",
   "metadata": {},
   "source": [
    "# Chain stuff"
   ]
  },
  {
   "cell_type": "code",
   "execution_count": 45,
   "metadata": {},
   "outputs": [
    {
     "name": "stdout",
     "output_type": "stream",
     "text": [
      "9687653\n"
     ]
    }
   ],
   "source": [
    "pop_count = 0\n",
    "\n",
    "for i in graph.nodes:\n",
    "    pop_count += graph.nodes[i][\"TOTPOP\"]\n",
    "    \n",
    "print(pop_count)"
   ]
  },
  {
   "cell_type": "code",
   "execution_count": 75,
   "metadata": {},
   "outputs": [],
   "source": [
    "num_dist = 14\n",
    "\n",
    "# Exercise: Compute exact population from your data.\n",
    "pop = pop_count\n",
    "\n",
    "my_updaters = {\n",
    "    \"population\": updaters.Tally(\"TOTPOP\", alias=\"population\"),\n",
    "    \"cut_edges\": cut_edges,\n",
    "    \"SEN16\": Election(\"SEN16\", {\"democratic\":\"SEN16D\",\"republican\":\"SEN16R\"})\n",
    "}\n",
    "\n",
    "\n",
    "new_plan = recursive_tree_part(graph,\n",
    "                               range(num_dist),\n",
    "                               pop/num_dist,\n",
    "                               \"TOTPOP\",\n",
    "                               0.004,\n",
    "                               1)\n",
    "initial_partition = Partition(graph,\n",
    "                              new_plan,\n",
    "                              my_updaters)"
   ]
  },
  {
   "cell_type": "code",
   "execution_count": 76,
   "metadata": {},
   "outputs": [],
   "source": [
    "proposal = partial(recom,\n",
    "                   pop_col = \"TOTPOP\",\n",
    "                   pop_target = pop/num_dist,\n",
    "                   epsilon = 0.01,\n",
    "                   node_repeats = 3)\n",
    "\n",
    "compactness_bound = constraints.UpperBound(\n",
    "    lambda p: len(p[\"cut_edges\"]), 2 * len(initial_partition[\"cut_edges\"])\n",
    ")"
   ]
  },
  {
   "cell_type": "code",
   "execution_count": 77,
   "metadata": {},
   "outputs": [
    {
     "name": "stdout",
     "output_type": "stream",
     "text": [
      "CPU times: user 9.02 ms, sys: 291 µs, total: 9.31 ms\n",
      "Wall time: 9.82 ms\n"
     ]
    }
   ],
   "source": [
    "%%time\n",
    "chain = MarkovChain(\n",
    "    proposal=proposal,\n",
    "    constraints=[\n",
    "        constraints.within_percent_of_ideal_population(initial_partition, 0.01),\n",
    "        compactness_bound,\n",
    "    ],\n",
    "    accept=accept.always_accept,\n",
    "    initial_state=initial_partition,\n",
    "    total_steps=50000,\n",
    ")"
   ]
  },
  {
   "cell_type": "markdown",
   "metadata": {},
   "source": [
    "# Pulling data from chain run"
   ]
  },
  {
   "cell_type": "code",
   "execution_count": 78,
   "metadata": {},
   "outputs": [
    {
     "data": {
      "application/vnd.jupyter.widget-view+json": {
       "model_id": "a62c5373dec34d23aa2b798e4ebfc3a8",
       "version_major": 2,
       "version_minor": 0
      },
      "text/plain": [
       "HBox(children=(IntProgress(value=0, max=2664), HTML(value='')))"
      ]
     },
     "metadata": {},
     "output_type": "display_data"
    }
   ],
   "source": [
    "# Changing data from strings to ints\n",
    "\n",
    "for node in tqdm_notebook(graph.nodes):\n",
    "    graph.nodes[node][\"SEN16D\"] = int(graph.nodes[node][\"SEN16D\"])\n",
    "    graph.nodes[node][\"SEN16R\"] = int(graph.nodes[node][\"SEN16R\"])"
   ]
  },
  {
   "cell_type": "code",
   "execution_count": 79,
   "metadata": {
    "scrolled": true
   },
   "outputs": [
    {
     "data": {
      "application/vnd.jupyter.widget-view+json": {
       "model_id": "a02255189d954e9da0331bffca08083e",
       "version_major": 2,
       "version_minor": 0
      },
      "text/plain": [
       "HBox(children=(IntProgress(value=0, max=50000), HTML(value='')))"
      ]
     },
     "metadata": {},
     "output_type": "display_data"
    },
    {
     "name": "stdout",
     "output_type": "stream",
     "text": [
      "CPU times: user 6h 21min 26s, sys: 54.1 s, total: 6h 22min 20s\n",
      "Wall time: 6h 37min 10s\n"
     ]
    }
   ],
   "source": [
    "%%time\n",
    "\n",
    "data = []\n",
    "\n",
    "for step in tqdm_notebook(chain):\n",
    "    data.append([step[\"SEN16\"].wins(\"republican\"),\n",
    "                         mean_median(step[\"SEN16\"]),\n",
    "                         partisan_gini(step[\"SEN16\"]),\n",
    "                         step[\"SEN16\"].percents(\"republican\")])"
   ]
  },
  {
   "cell_type": "markdown",
   "metadata": {},
   "source": [
    "# Visualization"
   ]
  },
  {
   "cell_type": "code",
   "execution_count": 108,
   "metadata": {},
   "outputs": [
    {
     "name": "stdout",
     "output_type": "stream",
     "text": [
      "[11, 0.0005456321565497357, 0.045951019532211416, (0.5488766407352897, 0.5669196459310376, 0.5730043946176139, 0.3169090773476542, 0.6246772070706229, 0.7016439878807437, 0.7697528398235315, 0.8214134976230127, 0.6139972699902223, 0.32658472180364806, 0.5609955684868418, 0.3487447009624198, 0.6880070345583718, 0.5738094957193364)]\n"
     ]
    }
   ],
   "source": [
    "print(data[0])"
   ]
  },
  {
   "cell_type": "code",
   "execution_count": 110,
   "metadata": {
    "scrolled": false
   },
   "outputs": [
    {
     "data": {
      "application/vnd.jupyter.widget-view+json": {
       "model_id": "e9a74a4139d34e3a86a650728a4ca1d6",
       "version_major": 2,
       "version_minor": 0
      },
      "text/plain": [
       "HBox(children=(IntProgress(value=0, max=50000), HTML(value='')))"
      ]
     },
     "metadata": {},
     "output_type": "display_data"
    },
    {
     "name": "stdout",
     "output_type": "stream",
     "text": [
      "CPU times: user 549 ms, sys: 23.6 ms, total: 573 ms\n",
      "Wall time: 664 ms\n"
     ]
    },
    {
     "data": {
      "image/png": "[encoded data removed]",
      "text/plain": [
       "<Figure size 1152x288 with 1 Axes>"
      ]
     },
     "metadata": {
      "needs_background": "light"
     },
     "output_type": "display_data"
    },
    {
     "data": {
      "image/png": "[encoded data removed]",
      "text/plain": [
       "<Figure size 1152x576 with 4 Axes>"
      ]
     },
     "metadata": {
      "needs_background": "light"
     },
     "output_type": "display_data"
    }
   ],
   "source": [
    "%%time\n",
    "# fig, votes = plt.subplots(figsize=(16,4))\n",
    "fig, seats = plt.subplots(figsize=(16,4))\n",
    "fig, ax = plt.subplots(2,2, figsize=(16,8), sharex=\"col\", sharey=\"row\")\n",
    "\n",
    "plt.subplots_adjust(wspace=0.3, hspace=0.3)\n",
    "\n",
    "# Variables\n",
    "inliers = [10,11]\n",
    "bins_num = 20\n",
    "out_bins_num = 6\n",
    "title = \"GA-S16: 50000 ReCom plans\"\n",
    "\n",
    "# Colors\n",
    "seats_colors = [\"red\", \"blue\", \"lightgray\"]\n",
    "party_colors = [\"red\", \"blue\"]\n",
    "neutral = \"lightgreen\"\n",
    "\n",
    "# Creating Datasets\n",
    "mm = []\n",
    "pg = []\n",
    "vs = []\n",
    "mm_routliers = []\n",
    "mm_doutliers = []\n",
    "pg_routliers = []\n",
    "pg_doutliers = []\n",
    "seats_routliers = []\n",
    "seats_doutliers = []\n",
    "seats_inliers = []\n",
    "vs_routliers = []\n",
    "vs_doutliers = []\n",
    "\n",
    "\n",
    "for plan in tqdm_notebook(data):\n",
    "    mm.append(plan[1])\n",
    "    pg.append(plan[2])\n",
    "    vs.append(plan[3])\n",
    "    if plan[0] < inliers[0]:\n",
    "        seats_doutliers.append(plan[0])\n",
    "        mm_doutliers.append(plan[1])\n",
    "        pg_doutliers.append(plan[2])\n",
    "        vs_doutliers.append(plan[3])\n",
    "    if plan[0] > inliers[1]:\n",
    "        seats_routliers.append(plan[0])\n",
    "        mm_routliers.append(plan[1])\n",
    "        pg_routliers.append(plan[2])\n",
    "        vs_routliers.append(plan[3])\n",
    "    if plan[0] >= inliers[0] and plan[0] <= inliers[1]:\n",
    "        seats_inliers.append(plan[0])\n",
    "\n",
    "mms = [mm_routliers, mm_doutliers]\n",
    "pgs = [pg_routliers, pg_doutliers]\n",
    "seats_colored = [seats_routliers, seats_doutliers, seats_inliers]\n",
    "\n",
    "# More variables\n",
    "num_outliers = str(len(mm_doutliers) + len(mm_routliers))\n",
    "pct_outliers = str(round((len(mm_doutliers) + len(mm_routliers)) / 50000 * 100, 1))\n",
    "title_w = \"GA-S16: \" + num_outliers + \" outlier plans \" + \"(\" + pct_outliers + \"%)\"\n",
    "\n",
    "# Plotting the votes shares boxplots\n",
    "# votes.boxplot(vs, positions=range(len(data.columns)))\n",
    "\n",
    "# votes.set_title(\"Votes Shares Boxplots\")\n",
    "# votes.set_ylabel(\"Republican Votes %\")\n",
    "# votes.set_xlabel(\"District #\")\n",
    "\n",
    "\n",
    "# Plotting the seats histogram\n",
    "seats.hist(seats_colored, bins=out_bins_num, stacked=True, color=seats_colors)\n",
    "\n",
    "seats.set_title(\"GA-S16 Republican seats won — outliers colored according to party helped\")\n",
    "seats.set_ylabel(\"Frequency\")\n",
    "seats.set_xlabel(\"# Seats Won\")\n",
    "seats.set_xlim(0, num_dist)\n",
    "seats.axvline(x = num_dist/2, color=neutral, linestyle=\"dashed\", linewidth=2, label=\"50% seats\")\n",
    "seats.axvline(x = num_dist * initial_partition[\"SEN16\"].percent(\"republican\"), color=\"red\", linestyle=\"dashed\", linewidth=2, label=\"proportionality\")\n",
    "seats.legend()\n",
    "# seats.set_xticks(1)\n",
    "\n",
    "# Plotting the whole dataset\n",
    "ax[0,0].hist(mm, bins=2*bins_num, color=neutral)\n",
    "ax[0,1].hist(pg, bins=2*bins_num, color=neutral)\n",
    "\n",
    "ax[0,0].set_title(title)\n",
    "ax[0,0].set_ylabel(\"Frequency\")\n",
    "ax[0,0].set_xlabel(\"Mean-Median Score\")\n",
    "\n",
    "ax[0,1].set_title(title)\n",
    "ax[0,1].set_ylabel(\"Frequency\")\n",
    "ax[0,1].set_xlabel(\"Partisan Gini Score\")\n",
    "\n",
    "# Plotting the winnowed data\n",
    "ax[1,0].hist(mms, bins=bins_num, color=party_colors)\n",
    "ax[1,1].hist(pgs, bins=bins_num, color=party_colors)\n",
    "# ax[1,1].set_ylim((0,40))\n",
    "\n",
    "ax[1,0].set_title(title_w)\n",
    "ax[1,0].set_ylabel(\"Frequency\")\n",
    "ax[1,0].set_xlabel(\"Mean-Median Score\")\n",
    "\n",
    "ax[1,1].set_title(title_w)\n",
    "ax[1,1].set_ylabel(\"Frequency\")\n",
    "ax[1,1].set_xlabel(\"Partisan Gini Score\")"
   ]
  },
  {
   "cell_type": "code",
   "execution_count": null,
   "metadata": {},
   "outputs": [],
   "source": []
  }
 ],
 "metadata": {
  "kernelspec": {
   "display_name": "Python 3",
   "language": "python",
   "name": "python3"
  },
  "language_info": {
   "codemirror_mode": {
    "name": "ipython",
    "version": 3
   },
   "file_extension": ".py",
   "mimetype": "text/x-python",
   "name": "python",
   "nbconvert_exporter": "python",
   "pygments_lexer": "ipython3",
   "version": "3.7.3"
  }
 },
 "nbformat": 4,
 "nbformat_minor": 2
}
