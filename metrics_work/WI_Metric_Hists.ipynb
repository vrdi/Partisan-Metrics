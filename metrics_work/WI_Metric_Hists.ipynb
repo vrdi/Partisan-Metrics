{
 "cells": [
  {
   "cell_type": "markdown",
   "metadata": {},
   "source": [
    "# Imports"
   ]
  },
  {
   "cell_type": "code",
   "execution_count": 2,
   "metadata": {},
   "outputs": [],
   "source": [
    "import os\n",
    "from functools import partial\n",
    "import json\n",
    "\n",
    "import geopandas as gpd\n",
    "import matplotlib.pyplot as plt\n",
    "import networkx as nx\n",
    "import pandas as pd\n",
    "import numpy as np\n",
    "from tqdm import tqdm_notebook\n",
    "\n",
    "from gerrychain import (\n",
    "    Election,\n",
    "    Graph,\n",
    "    MarkovChain,\n",
    "    Partition,\n",
    "    accept,\n",
    "    constraints,\n",
    "    updaters,\n",
    ")\n",
    "\n",
    "from gerrychain.metrics import efficiency_gap, mean_median, partisan_gini\n",
    "from gerrychain.proposals import recom\n",
    "from gerrychain.updaters import cut_edges\n",
    "from gerrychain.tree import recursive_tree_part"
   ]
  },
  {
   "cell_type": "markdown",
   "metadata": {},
   "source": [
    "# Downloading state data"
   ]
  },
  {
   "cell_type": "code",
   "execution_count": 3,
   "metadata": {},
   "outputs": [],
   "source": [
    "graph_path = \"./wisconsin.json\"\n",
    "graph = Graph.from_json(graph_path)\n",
    "with open (graph_path, \"r\") as myfile:\n",
    "    data=myfile.readlines()\n",
    "graph_dict = json.loads(data[0])"
   ]
  },
  {
   "cell_type": "markdown",
   "metadata": {},
   "source": [
    "# Chain stuff"
   ]
  },
  {
   "cell_type": "code",
   "execution_count": 7,
   "metadata": {},
   "outputs": [
    {
     "data": {
      "text/plain": [
       "{'boundary_node': False,\n",
       " 'area': 4504716.392765882,\n",
       " 'GEOID10': '55001002750001',\n",
       " 'OBJECTID': 1,\n",
       " 'NAME': 'Adams - C 1',\n",
       " 'ASM': 41,\n",
       " 'SEN': 14,\n",
       " 'CON': 3,\n",
       " 'CNTY_NAME': 'Adams',\n",
       " 'PERSONS': 661,\n",
       " 'WHITE': 620,\n",
       " 'BLACK': 17,\n",
       " 'HISPANIC': 15,\n",
       " 'ASIAN': 1,\n",
       " 'AMINDIAN': 5,\n",
       " 'PISLAND': 0,\n",
       " 'OTHER': 0,\n",
       " 'OTHERMLT': 3,\n",
       " 'PERSONS18': 484,\n",
       " 'WHITE18': 463,\n",
       " 'BLACK18': 9,\n",
       " 'HISPANIC18': 8,\n",
       " 'ASIAN18': 1,\n",
       " 'AMINDIAN18': 3,\n",
       " 'PISLAND18': 0,\n",
       " 'OTHER18': 0,\n",
       " 'OTHERMLT18': 0,\n",
       " 'CDATOT16': 183,\n",
       " 'CDADEM16': 0,\n",
       " 'CDADEM216': 0,\n",
       " 'CDAREP16': 0,\n",
       " 'CDAIND16': 180,\n",
       " 'CDASCT16': 3,\n",
       " 'PRETOT16': 258,\n",
       " 'PREDEM16': 110,\n",
       " 'PREREP16': 127,\n",
       " 'PREGRN16': 3,\n",
       " 'PRELIB16': 6,\n",
       " 'PRECON16': 3,\n",
       " 'PREIND16': 1,\n",
       " 'PREIND216': 1,\n",
       " 'PREIND316': 0,\n",
       " 'PREIND416': 2,\n",
       " 'PREIND516': 0,\n",
       " 'PREIND616': 0,\n",
       " 'PREIND716': 0,\n",
       " 'PREIND816': 0,\n",
       " 'PREIND916': 0,\n",
       " 'PREIND1016': 0,\n",
       " 'PREIND1116': 0,\n",
       " 'PRESCT16': 5,\n",
       " 'USHTOT16': 164,\n",
       " 'USHDEM16': 162,\n",
       " 'USHDEM216': 0,\n",
       " 'USHREP16': 0,\n",
       " 'USHGRN16': 0,\n",
       " 'USHLIB16': 0,\n",
       " 'USHIND16': 0,\n",
       " 'USHSCT16': 2,\n",
       " 'USSTOT16': 245,\n",
       " 'USSDEM16': 111,\n",
       " 'USSREP16': 116,\n",
       " 'USSREP216': 0,\n",
       " 'USSLIB16': 18,\n",
       " 'USSSCT16': 0,\n",
       " 'WSATOT16': 217,\n",
       " 'WSADEM16': 0,\n",
       " 'WSAREP16': 126,\n",
       " 'WSALIB16': 0,\n",
       " 'WSAIND16': 91,\n",
       " 'WSASCT16': 0,\n",
       " 'WSSTOT16': 227,\n",
       " 'WSSDEM16': 121,\n",
       " 'WSSREP16': 106,\n",
       " 'WSSIND16': 0,\n",
       " 'WSSSCT16': 0,\n",
       " 'GOVTOT14': 184,\n",
       " 'GOVDEM14': 97,\n",
       " 'GOVREP14': 82,\n",
       " 'GOVREP214': 0,\n",
       " 'GOVREP314': 0,\n",
       " 'GOVCON14': 0,\n",
       " 'GOVIND14': 2,\n",
       " 'GOVIND214': 3,\n",
       " 'GOVIND314': 0,\n",
       " 'GOVIND414': 0,\n",
       " 'GOVIND514': 0,\n",
       " 'GOVSCT14': 0,\n",
       " 'SOSTOT14': 171,\n",
       " 'SOSDEM14': 102,\n",
       " 'SOSREP14': 62,\n",
       " 'SOSCON14': 3,\n",
       " 'SOSIND14': 4,\n",
       " 'SOSSCT14': 0,\n",
       " 'TRSTOT14': 168,\n",
       " 'TRSDEM14': 87,\n",
       " 'TRSREP14': 68,\n",
       " 'TRSCON14': 3,\n",
       " 'TRSIND14': 6,\n",
       " 'TRSIND214': 4,\n",
       " 'TRSSCT14': 0,\n",
       " 'USHTOT14': 173,\n",
       " 'USHDEM14': 105,\n",
       " 'USHREP14': 68,\n",
       " 'USHREP214': 0,\n",
       " 'USHIND14': 0,\n",
       " 'USHIND214': 0,\n",
       " 'USHSCT14': 0,\n",
       " 'USSTOT14': 0,\n",
       " 'USSDEM14': 0,\n",
       " 'USSREP14': 0,\n",
       " 'USSIND14': 0,\n",
       " 'USSSCT14': 0,\n",
       " 'WAGTOT14': 175,\n",
       " 'WAGDEM14': 90,\n",
       " 'WAGREP14': 78,\n",
       " 'WAGIND14': 7,\n",
       " 'WAGSCT14': 0,\n",
       " 'WSATOT14': 174,\n",
       " 'WSADEM14': 91,\n",
       " 'WSAREP14': 83,\n",
       " 'WSAREP214': 0,\n",
       " 'WSAIND14': 0,\n",
       " 'WSASCT14': 0,\n",
       " 'CDATOT12': 186,\n",
       " 'CDADEM12': 185,\n",
       " 'CDADEM212': 0,\n",
       " 'CDAREP12': 0,\n",
       " 'CDAIND12': 1,\n",
       " 'CDASCT12': 0,\n",
       " 'GOVTOT12': 216,\n",
       " 'GOVDEM12': 104,\n",
       " 'GOVREP12': 95,\n",
       " 'GOVIND12': 15,\n",
       " 'GOVSCT12': 2,\n",
       " 'PRETOT12': 272,\n",
       " 'PREDEM12': 168,\n",
       " 'PREREP12': 101,\n",
       " 'PRECON12': 1,\n",
       " 'PREIND12': 1,\n",
       " 'PREIND212': 0,\n",
       " 'PREIND312': 1,\n",
       " 'PREIND412': 0,\n",
       " 'PREIND512': 0,\n",
       " 'PREIND612': 0,\n",
       " 'PRESCT12': 0,\n",
       " 'USHTOT12': 237,\n",
       " 'USHDEM12': 150,\n",
       " 'USHREP12': 86,\n",
       " 'USHIND12': 0,\n",
       " 'USHSCT12': 1,\n",
       " 'USSTOT12': 262,\n",
       " 'USSDEM12': 148,\n",
       " 'USSREP12': 99,\n",
       " 'USSCON12': 0,\n",
       " 'USSIND12': 11,\n",
       " 'USSIND212': 3,\n",
       " 'USSIND312': 0,\n",
       " 'USSSCT12': 1,\n",
       " 'WAGTOT12': 193,\n",
       " 'WAGDEM12': 0,\n",
       " 'WAGDEM212': 0,\n",
       " 'WAGREP12': 0,\n",
       " 'WAGIND12': 191,\n",
       " 'WAGSCT12': 2,\n",
       " 'WSATOT12': 232,\n",
       " 'WSADEM12': 140,\n",
       " 'WSADEM212': 0,\n",
       " 'WSAREP12': 92,\n",
       " 'WSAREP212': 0,\n",
       " 'WSAIND12': 0,\n",
       " 'WSAIND212': 0,\n",
       " 'WSASCT12': 0,\n",
       " 'WSSTOT12': 230,\n",
       " 'WSSDEM12': 137,\n",
       " 'WSSREP12': 92,\n",
       " 'WSSREP212': 0,\n",
       " 'WSSCON12': 0,\n",
       " 'WSSIND12': 0,\n",
       " 'WSSSCT12': 1,\n",
       " 'WSSAME12': 0}"
      ]
     },
     "execution_count": 7,
     "metadata": {},
     "output_type": "execute_result"
    }
   ],
   "source": [
    "graph.nodes[0]"
   ]
  },
  {
   "cell_type": "code",
   "execution_count": 8,
   "metadata": {
    "scrolled": true
   },
   "outputs": [
    {
     "name": "stdout",
     "output_type": "stream",
     "text": [
      "5686986\n"
     ]
    }
   ],
   "source": [
    "pop_count = 0\n",
    "\n",
    "for i in graph.nodes:\n",
    "    pop_count += graph.nodes[i][\"PERSONS\"]\n",
    "    \n",
    "print(pop_count)"
   ]
  },
  {
   "cell_type": "markdown",
   "metadata": {},
   "source": [
    "**Getting an error here**"
   ]
  },
  {
   "cell_type": "code",
   "execution_count": 16,
   "metadata": {},
   "outputs": [
    {
     "ename": "KeyError",
     "evalue": "1334",
     "output_type": "error",
     "traceback": [
      "\u001b[0;31m---------------------------------------------------------------------------\u001b[0m",
      "\u001b[0;31mKeyError\u001b[0m                                  Traceback (most recent call last)",
      "\u001b[0;32m<ipython-input-16-0d4180e6876e>\u001b[0m in \u001b[0;36m<module>\u001b[0;34m\u001b[0m\n\u001b[1;32m     16\u001b[0m                                \u001b[0;34m\"PERSONS\"\u001b[0m\u001b[0;34m,\u001b[0m\u001b[0;34m\u001b[0m\u001b[0;34m\u001b[0m\u001b[0m\n\u001b[1;32m     17\u001b[0m                                \u001b[0;36m0.05\u001b[0m\u001b[0;34m,\u001b[0m\u001b[0;34m\u001b[0m\u001b[0;34m\u001b[0m\u001b[0m\n\u001b[0;32m---> 18\u001b[0;31m                                1)\n\u001b[0m\u001b[1;32m     19\u001b[0m initial_partition = Partition(graph,\n\u001b[1;32m     20\u001b[0m                               \u001b[0mnew_plan\u001b[0m\u001b[0;34m,\u001b[0m\u001b[0;34m\u001b[0m\u001b[0;34m\u001b[0m\u001b[0m\n",
      "\u001b[0;32m/miniconda3/envs/VRDI/lib/python3.7/site-packages/gerrychain/tree.py\u001b[0m in \u001b[0;36mrecursive_tree_part\u001b[0;34m(graph, parts, pop_target, pop_col, epsilon, node_repeats)\u001b[0m\n\u001b[1;32m    130\u001b[0m             \u001b[0mpop_target\u001b[0m\u001b[0;34m=\u001b[0m\u001b[0mpop_target\u001b[0m\u001b[0;34m,\u001b[0m\u001b[0;34m\u001b[0m\u001b[0;34m\u001b[0m\u001b[0m\n\u001b[1;32m    131\u001b[0m             \u001b[0mepsilon\u001b[0m\u001b[0;34m=\u001b[0m\u001b[0mepsilon\u001b[0m\u001b[0;34m,\u001b[0m\u001b[0;34m\u001b[0m\u001b[0;34m\u001b[0m\u001b[0m\n\u001b[0;32m--> 132\u001b[0;31m             \u001b[0mnode_repeats\u001b[0m\u001b[0;34m=\u001b[0m\u001b[0mnode_repeats\u001b[0m\u001b[0;34m,\u001b[0m\u001b[0;34m\u001b[0m\u001b[0;34m\u001b[0m\u001b[0m\n\u001b[0m\u001b[1;32m    133\u001b[0m         )\n\u001b[1;32m    134\u001b[0m \u001b[0;34m\u001b[0m\u001b[0m\n",
      "\u001b[0;32m/miniconda3/envs/VRDI/lib/python3.7/site-packages/gerrychain/tree.py\u001b[0m in \u001b[0;36mbipartition_tree\u001b[0;34m(graph, pop_col, pop_target, epsilon, node_repeats, spanning_tree, choice)\u001b[0m\n\u001b[1;32m    100\u001b[0m             \u001b[0mrestarts\u001b[0m \u001b[0;34m=\u001b[0m \u001b[0;36m0\u001b[0m\u001b[0;34m\u001b[0m\u001b[0;34m\u001b[0m\u001b[0m\n\u001b[1;32m    101\u001b[0m         \u001b[0mh\u001b[0m \u001b[0;34m=\u001b[0m \u001b[0mPopulatedGraph\u001b[0m\u001b[0;34m(\u001b[0m\u001b[0mspanning_tree\u001b[0m\u001b[0;34m.\u001b[0m\u001b[0mcopy\u001b[0m\u001b[0;34m(\u001b[0m\u001b[0;34m)\u001b[0m\u001b[0;34m,\u001b[0m \u001b[0mpopulations\u001b[0m\u001b[0;34m,\u001b[0m \u001b[0mpop_target\u001b[0m\u001b[0;34m,\u001b[0m \u001b[0mepsilon\u001b[0m\u001b[0;34m)\u001b[0m\u001b[0;34m\u001b[0m\u001b[0;34m\u001b[0m\u001b[0m\n\u001b[0;32m--> 102\u001b[0;31m         \u001b[0mbalanced_subtree\u001b[0m \u001b[0;34m=\u001b[0m \u001b[0mcontract_leaves_until_balanced_or_none\u001b[0m\u001b[0;34m(\u001b[0m\u001b[0mh\u001b[0m\u001b[0;34m,\u001b[0m \u001b[0mchoice\u001b[0m\u001b[0;34m=\u001b[0m\u001b[0mchoice\u001b[0m\u001b[0;34m)\u001b[0m\u001b[0;34m\u001b[0m\u001b[0;34m\u001b[0m\u001b[0m\n\u001b[0m\u001b[1;32m    103\u001b[0m         \u001b[0mrestarts\u001b[0m \u001b[0;34m+=\u001b[0m \u001b[0;36m1\u001b[0m\u001b[0;34m\u001b[0m\u001b[0;34m\u001b[0m\u001b[0m\n\u001b[1;32m    104\u001b[0m \u001b[0;34m\u001b[0m\u001b[0m\n",
      "\u001b[0;32m/miniconda3/envs/VRDI/lib/python3.7/site-packages/gerrychain/tree.py\u001b[0m in \u001b[0;36mcontract_leaves_until_balanced_or_none\u001b[0;34m(h, choice)\u001b[0m\n\u001b[1;32m     53\u001b[0m                 \u001b[0;32mreturn\u001b[0m \u001b[0mh\u001b[0m\u001b[0;34m.\u001b[0m\u001b[0msubsets\u001b[0m\u001b[0;34m[\u001b[0m\u001b[0mleaf\u001b[0m\u001b[0;34m]\u001b[0m\u001b[0;34m\u001b[0m\u001b[0;34m\u001b[0m\u001b[0m\n\u001b[1;32m     54\u001b[0m             \u001b[0;31m# Contract the leaf:\u001b[0m\u001b[0;34m\u001b[0m\u001b[0;34m\u001b[0m\u001b[0;34m\u001b[0m\u001b[0m\n\u001b[0;32m---> 55\u001b[0;31m             \u001b[0mparent\u001b[0m \u001b[0;34m=\u001b[0m \u001b[0mpred\u001b[0m\u001b[0;34m[\u001b[0m\u001b[0mleaf\u001b[0m\u001b[0;34m]\u001b[0m\u001b[0;34m\u001b[0m\u001b[0;34m\u001b[0m\u001b[0m\n\u001b[0m\u001b[1;32m     56\u001b[0m             \u001b[0mh\u001b[0m\u001b[0;34m.\u001b[0m\u001b[0mcontract_node\u001b[0m\u001b[0;34m(\u001b[0m\u001b[0mleaf\u001b[0m\u001b[0;34m,\u001b[0m \u001b[0mparent\u001b[0m\u001b[0;34m)\u001b[0m\u001b[0;34m\u001b[0m\u001b[0;34m\u001b[0m\u001b[0m\n\u001b[1;32m     57\u001b[0m     \u001b[0;32mreturn\u001b[0m \u001b[0;32mNone\u001b[0m\u001b[0;34m\u001b[0m\u001b[0;34m\u001b[0m\u001b[0m\n",
      "\u001b[0;31mKeyError\u001b[0m: 1334"
     ]
    }
   ],
   "source": [
    "num_dist = 8\n",
    "\n",
    "# Exercise: Compute exact population from your data.\n",
    "pop = pop_count\n",
    "\n",
    "my_updaters = {\n",
    "    \"population\": updaters.Tally(\"PERSONS\", alias=\"population\"),\n",
    "    \"cut_edges\": cut_edges,\n",
    "    \"SEN16\": Election(\"SEN16\", {\"democratic\":\"USSDEM16\",\"republican\":\"USSREP16\"})\n",
    "}\n",
    "\n",
    "\n",
    "new_plan = recursive_tree_part(graph,\n",
    "                               range(num_dist),\n",
    "                               pop/num_dist,\n",
    "                               \"PERSONS\",\n",
    "                               0.05,\n",
    "                               1)\n",
    "initial_partition = Partition(graph,\n",
    "                              new_plan,\n",
    "                              my_updaters)"
   ]
  },
  {
   "cell_type": "code",
   "execution_count": 35,
   "metadata": {},
   "outputs": [],
   "source": [
    "proposal = partial(recom,\n",
    "                   pop_col = \"TOTPOP\",\n",
    "                   pop_target = pop/num_dist,\n",
    "                   epsilon = 0.05,\n",
    "                   node_repeats = 3)\n",
    "\n",
    "compactness_bound = constraints.UpperBound(\n",
    "    lambda p: len(p[\"cut_edges\"]), 2 * len(initial_partition[\"cut_edges\"])\n",
    ")"
   ]
  },
  {
   "cell_type": "code",
   "execution_count": 58,
   "metadata": {},
   "outputs": [],
   "source": [
    "chain = MarkovChain(\n",
    "    proposal=proposal,\n",
    "    constraints=[\n",
    "        constraints.within_percent_of_ideal_population(initial_partition, 0.2),\n",
    "        compactness_bound,\n",
    "    ],\n",
    "    accept=accept.always_accept,\n",
    "    initial_state=initial_partition,\n",
    "    total_steps=10000,\n",
    ")"
   ]
  },
  {
   "cell_type": "markdown",
   "metadata": {},
   "source": [
    "# Pulling data from chain run"
   ]
  },
  {
   "cell_type": "code",
   "execution_count": 59,
   "metadata": {
    "scrolled": false
   },
   "outputs": [
    {
     "data": {
      "application/vnd.jupyter.widget-view+json": {
       "model_id": "b11ec3af78af4222b98ef75dfff3f45c",
       "version_major": 2,
       "version_minor": 0
      },
      "text/plain": [
       "HBox(children=(IntProgress(value=0, max=10000), HTML(value='')))"
      ]
     },
     "metadata": {},
     "output_type": "display_data"
    },
    {
     "name": "stdout",
     "output_type": "stream",
     "text": [
      "CPU times: user 44min 59s, sys: 27.2 s, total: 45min 26s\n",
      "Wall time: 45min 37s\n"
     ]
    }
   ],
   "source": [
    "%%time\n",
    "\n",
    "mm = []\n",
    "pg = []\n",
    "\n",
    "for step in tqdm_notebook(chain):\n",
    "    mm.append(mean_median(step[\"SEN16\"]))\n",
    "    pg.append(partisan_gini(step[\"SEN16\"]))"
   ]
  },
  {
   "cell_type": "markdown",
   "metadata": {},
   "source": [
    "# Visualization"
   ]
  },
  {
   "cell_type": "code",
   "execution_count": 64,
   "metadata": {},
   "outputs": [
    {
     "data": {
      "text/plain": [
       "Text(0.5, 1.0, 'Utah Partisan Gini Scores')"
      ]
     },
     "execution_count": 64,
     "metadata": {},
     "output_type": "execute_result"
    },
    {
     "data": {
      "image/png": "[encoded data removed]",
      "text/plain": [
       "<Figure size 288x216 with 1 Axes>"
      ]
     },
     "metadata": {
      "needs_background": "light"
     },
     "output_type": "display_data"
    },
    {
     "data": {
      "image/png": "[encoded data removed]",
      "text/plain": [
       "<Figure size 288x216 with 1 Axes>"
      ]
     },
     "metadata": {
      "needs_background": "light"
     },
     "output_type": "display_data"
    }
   ],
   "source": [
    "fig, mm_plt = plt.subplots(figsize=(4,3))\n",
    "fig, pg_plt = plt.subplots(figsize=(4,3))\n",
    "\n",
    "bins_num = 20\n",
    "\n",
    "mm_plt.hist(mm, bins=bins_num)\n",
    "pg_plt.hist(pg, bins=bins_num)\n",
    "\n",
    "\n",
    "mm_plt.set_title(\"Utah Mean-Median Scores\")\n",
    "pg_plt.set_title(\"Utah Partisan Gini Scores\")"
   ]
  },
  {
   "cell_type": "code",
   "execution_count": null,
   "metadata": {},
   "outputs": [],
   "source": []
  }
 ],
 "metadata": {
  "kernelspec": {
   "display_name": "Python 3",
   "language": "python",
   "name": "python3"
  },
  "language_info": {
   "codemirror_mode": {
    "name": "ipython",
    "version": 3
   },
   "file_extension": ".py",
   "mimetype": "text/x-python",
   "name": "python",
   "nbconvert_exporter": "python",
   "pygments_lexer": "ipython3",
   "version": "3.7.3"
  }
 },
 "nbformat": 4,
 "nbformat_minor": 2
}
