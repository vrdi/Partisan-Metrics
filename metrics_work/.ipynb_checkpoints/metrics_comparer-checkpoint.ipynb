{
 "cells": [
  {
   "cell_type": "code",
   "execution_count": 3,
   "metadata": {},
   "outputs": [
    {
     "data": {
      "application/vnd.jupyter.widget-view+json": {
       "model_id": "f614d474ed924430ae96d37db872fd35",
       "version_major": 2,
       "version_minor": 0
      },
      "text/plain": [
       "HBox(children=(IntProgress(value=0, max=1000), HTML(value='')))"
      ]
     },
     "metadata": {},
     "output_type": "display_data"
    },
    {
     "name": "stdout",
     "output_type": "stream",
     "text": [
      "\n"
     ]
    },
    {
     "data": {
      "application/vnd.jupyter.widget-view+json": {
       "model_id": "e7d74b28d4f642889e5b5075678fdb37",
       "version_major": 2,
       "version_minor": 0
      },
      "text/plain": [
       "HBox(children=(IntProgress(value=0, max=1000), HTML(value='')))"
      ]
     },
     "metadata": {},
     "output_type": "display_data"
    },
    {
     "name": "stdout",
     "output_type": "stream",
     "text": [
      "\n"
     ]
    },
    {
     "data": {
      "application/vnd.jupyter.widget-view+json": {
       "model_id": "086b9ac0640e4ee7bc3eb56a1deb4d6e",
       "version_major": 2,
       "version_minor": 0
      },
      "text/plain": [
       "HBox(children=(IntProgress(value=0, max=1000), HTML(value='')))"
      ]
     },
     "metadata": {},
     "output_type": "display_data"
    },
    {
     "name": "stdout",
     "output_type": "stream",
     "text": [
      "\n"
     ]
    },
    {
     "data": {
      "application/vnd.jupyter.widget-view+json": {
       "model_id": "a047c35c3db44cd7bf2fa8c197e87a61",
       "version_major": 2,
       "version_minor": 0
      },
      "text/plain": [
       "HBox(children=(IntProgress(value=0, max=1000), HTML(value='')))"
      ]
     },
     "metadata": {},
     "output_type": "display_data"
    },
    {
     "name": "stdout",
     "output_type": "stream",
     "text": [
      "\n",
      "CPU times: user 5min 8s, sys: 1.85 s, total: 5min 10s\n",
      "Wall time: 5min 14s\n"
     ]
    },
    {
     "data": {
      "image/png": "[encoded data removed]",
      "text/plain": [
       "<Figure size 720x576 with 4 Axes>"
      ]
     },
     "metadata": {
      "needs_background": "light"
     },
     "output_type": "display_data"
    }
   ],
   "source": [
    "%%time\n",
    "import os\n",
    "from functools import partial\n",
    "import json\n",
    "\n",
    "import geopandas as gpd\n",
    "import matplotlib.pyplot as plt\n",
    "import networkx as nx\n",
    "import pandas as pd\n",
    "import numpy as np\n",
    "from tqdm import tqdm_notebook\n",
    "\n",
    "from gerrychain import (\n",
    "    Election,\n",
    "    Graph,\n",
    "    MarkovChain,\n",
    "    Partition,\n",
    "    accept,\n",
    "    constraints,\n",
    "    updaters,\n",
    ")\n",
    "\n",
    "from gerrychain.metrics import efficiency_gap, mean_median, partisan_gini\n",
    "from gerrychain.proposals import recom\n",
    "from gerrychain.updaters import cut_edges\n",
    "from gerrychain.tree import recursive_tree_part\n",
    "\n",
    "# State specific information\n",
    "state = \"utah\"\n",
    "state_abrev = \"UT\"\n",
    "num_dist = 4\n",
    "# elections_dict = {\"PRES16\":\"PRES16\",\n",
    "#                   \"SEN16\":\"SEN16\",\n",
    "#                   \"GOV16\":\"GOV16\"}\n",
    "\n",
    "# Reading in state data\n",
    "graph_path = \"./\" + state + \".json\"\n",
    "graph = Graph.from_json(graph_path)\n",
    "with open (graph_path, \"r\") as myfile:\n",
    "    data=myfile.readlines()\n",
    "graph_dict = json.loads(data[0])\n",
    "\n",
    "# Calculating state population\n",
    "pop = 0\n",
    "for i in graph.nodes:\n",
    "    pop += graph.nodes[i][\"TOTPOP\"]\n",
    "\n",
    "# Updaters\n",
    "my_updaters = {\n",
    "    \"population\": updaters.Tally(\"TOTPOP\", alias=\"population\"),\n",
    "    \"cut_edges\": cut_edges,\n",
    "    \"SEN16\": Election(\"SEN16\", {\"democratic\":\"SEN16D\",\"republican\":\"SEN16R\"}),\n",
    "    \"PRES16\": Election(\"SEN16\", {\"democratic\":\"PRES16D\",\"republican\":\"PRES16R\"}),\n",
    "    \"GOV16\": Election(\"SEN16\", {\"democratic\":\"GOV16D\",\"republican\":\"GOV16R\"})\n",
    "}\n",
    "\n",
    "# Create an initial partition\n",
    "new_plan = recursive_tree_part(graph,\n",
    "                               range(num_dist),\n",
    "                               pop/num_dist,\n",
    "                               \"TOTPOP\",\n",
    "                               0.05,\n",
    "                               1)\n",
    "initial_partition = Partition(graph,\n",
    "                              new_plan,\n",
    "                              my_updaters)\n",
    "\n",
    "# Proposal specifications\n",
    "proposal = partial(recom,\n",
    "                   pop_col = \"TOTPOP\",\n",
    "                   pop_target = pop/num_dist,\n",
    "                   epsilon = 0.05,\n",
    "                   node_repeats = 3)\n",
    "\n",
    "compactness_bound = constraints.UpperBound(\n",
    "    lambda p: len(p[\"cut_edges\"]), 2 * len(initial_partition[\"cut_edges\"])\n",
    ")\n",
    "\n",
    "# Running the chain\n",
    "chain = MarkovChain(\n",
    "    proposal=proposal,\n",
    "    constraints=[\n",
    "        constraints.within_percent_of_ideal_population(initial_partition, 0.2),\n",
    "        compactness_bound,\n",
    "    ],\n",
    "    accept=accept.always_accept,\n",
    "    initial_state=initial_partition,\n",
    "    total_steps=1000,\n",
    ")\n",
    "\n",
    "# Collecting data from chain\n",
    "SEN16triplets = []\n",
    "PRES16triplets = []\n",
    "GOV16triplets = []\n",
    "\n",
    "\n",
    "for step in tqdm_notebook(chain):\n",
    "    SEN16triplets.append([step[\"SEN16\"].wins(\"republican\"),\n",
    "                     mean_median(step[\"SEN16\"]),\n",
    "                     partisan_gini(step[\"SEN16\"])])\n",
    "    PRES16triplets.append([step[\"PRES16\"].wins(\"republican\"),\n",
    "                     mean_median(step[\"PRES16\"]),\n",
    "                     partisan_gini(step[\"PRES16\"])])\n",
    "    GOV16triplets.append([step[\"GOV16\"].wins(\"republican\"),\n",
    "                     mean_median(step[\"GOV16\"]),\n",
    "                     partisan_gini(step[\"GOV16\"])])\n",
    "    \n",
    "SEN16mm = []\n",
    "SEN16pg = []\n",
    "SEN16mm_winnowed = []\n",
    "SEN16pg_winnowed = []\n",
    "PRES16mm = []\n",
    "PRES16pg = []\n",
    "PRES16mm_winnowed = []\n",
    "PRES16pg_winnowed = []\n",
    "GOV16mm = []\n",
    "GOV16pg = []\n",
    "GOV16mm_winnowed = []\n",
    "GOV16pg_winnowed = []\n",
    "\n",
    "for triple in tqdm_notebook(SEN16triplets):\n",
    "    SEN16mm.append(triple[1])\n",
    "    SEN16pg.append(triple[2])\n",
    "    if triple[0] > (np.mean(SEN16triplets, axis=0)[0] + 2*np.std(SEN16triplets, axis = 0)[0]) or triple[0] < (np.mean(SEN16triplets, axis=0)[0] - 2*np.std(SEN16triplets, axis = 0)[0]):\n",
    "        SEN16mm_winnowed.append(triple[1])\n",
    "        SEN16pg_winnowed.append(triple[2])\n",
    "        \n",
    "for triple in tqdm_notebook(PRES16triplets):\n",
    "    PRES16mm.append(triple[1])\n",
    "    PRES16pg.append(triple[2])\n",
    "    if triple[0] > (np.mean(PRES16triplets, axis=0)[0] + 2*np.std(PRES16triplets, axis = 0)[0]) or triple[0] < (np.mean(PRES16triplets, axis=0)[0] - 2*np.std(PRES16triplets, axis = 0)[0]):\n",
    "        PRES16mm_winnowed.append(triple[1])\n",
    "        PRES16pg_winnowed.append(triple[2])\n",
    "\n",
    "for triple in tqdm_notebook(GOV16triplets):\n",
    "    GOV16mm.append(triple[1])\n",
    "    GOV16pg.append(triple[2])\n",
    "    if triple[0] > (np.mean(GOV16triplets, axis=0)[0] + 2*np.std(GOV16triplets, axis = 0)[0]) or triple[0] < (np.mean(GOV16triplets, axis=0)[0] - 2*np.std(GOV16triplets, axis = 0)[0]):\n",
    "        GOV16mm_winnowed.append(triple[1])\n",
    "        GOV16pg_winnowed.append(triple[2])\n",
    "\n",
    "# Plotting data\n",
    "fig, ax = plt.subplots(2,2, figsize=(10,8), sharex=\"col\", sharey=\"row\")\n",
    "\n",
    "plt.subplots_adjust(wspace=0.3, hspace=0.3)\n",
    "\n",
    "# Variables\n",
    "bins_num = 10\n",
    "bins_num_w = 10\n",
    "title = \"UT-S16: 1000 ReCom plans\"\n",
    "num_outliers = str(len(SEN16mm_winnowed))\n",
    "pct_outliers = str(round(len(SEN16mm_winnowed) / 1000 * 100, 1))\n",
    "title_w = \"UT-S16: \" + num_outliers + \" outlier plans \" + \"(\" + pct_outliers + \"%)\"\n",
    "\n",
    "# Plotting the whole dataset\n",
    "ax[0,0].hist(SEN16mm, bins=bins_num)\n",
    "ax[0,1].hist(SEN16pg, bins=bins_num)\n",
    "\n",
    "ax[0,0].set_title(title)\n",
    "ax[0,0].set_ylabel(\"Frequency\")\n",
    "ax[0,0].set_xlabel(\"Mean-Median Score\")\n",
    "\n",
    "ax[0,1].set_title(title)\n",
    "ax[0,1].set_ylabel(\"Frequency\")\n",
    "ax[0,1].set_xlabel(\"Partisan Gini Score\")\n",
    "\n",
    "# Plotting the winnowed data\n",
    "ax[1,0].hist(SEN16mm_winnowed, bins=bins_num_w)\n",
    "ax[1,1].hist(SEN16pg_winnowed, bins=bins_num_w)\n",
    "\n",
    "ax[1,0].set_title(title_w)\n",
    "ax[1,0].set_ylabel(\"Frequency\")\n",
    "ax[1,0].set_xlabel(\"Mean-Median Score\")\n",
    "\n",
    "ax[1,1].set_title(title_w)\n",
    "ax[1,1].set_ylabel(\"Frequency\")\n",
    "ax[1,1].set_xlabel(\"Partisan Gini Score\")"
   ]
  },
  {
   "cell_type": "code",
   "execution_count": null,
   "metadata": {},
   "outputs": [],
   "source": []
  }
 ],
 "metadata": {
  "kernelspec": {
   "display_name": "Python 3",
   "language": "python",
   "name": "python3"
  },
  "language_info": {
   "codemirror_mode": {
    "name": "ipython",
    "version": 3
   },
   "file_extension": ".py",
   "mimetype": "text/x-python",
   "name": "python",
   "nbconvert_exporter": "python",
   "pygments_lexer": "ipython3",
   "version": "3.7.3"
  }
 },
 "nbformat": 4,
 "nbformat_minor": 2
}
