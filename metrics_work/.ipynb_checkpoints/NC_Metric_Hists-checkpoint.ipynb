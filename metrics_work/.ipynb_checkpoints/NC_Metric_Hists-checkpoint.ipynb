{
 "cells": [
  {
   "cell_type": "markdown",
   "metadata": {},
   "source": [
    "# Imports"
   ]
  },
  {
   "cell_type": "code",
   "execution_count": 24,
   "metadata": {},
   "outputs": [],
   "source": [
    "import os\n",
    "from functools import partial\n",
    "import json\n",
    "\n",
    "import geopandas as gpd\n",
    "import matplotlib.pyplot as plt\n",
    "import networkx as nx\n",
    "import pandas as pd\n",
    "import numpy as np\n",
    "from tqdm import tqdm_notebook\n",
    "\n",
    "from gerrychain import (\n",
    "    Election,\n",
    "    Graph,\n",
    "    MarkovChain,\n",
    "    Partition,\n",
    "    accept,\n",
    "    constraints,\n",
    "    updaters,\n",
    ")\n",
    "\n",
    "from gerrychain.metrics import efficiency_gap, mean_median, partisan_gini\n",
    "from gerrychain.proposals import recom\n",
    "from gerrychain.updaters import cut_edges\n",
    "from gerrychain.tree import recursive_tree_part"
   ]
  },
  {
   "cell_type": "markdown",
   "metadata": {},
   "source": [
    "# Downloading state data"
   ]
  },
  {
   "cell_type": "code",
   "execution_count": 34,
   "metadata": {},
   "outputs": [],
   "source": [
    "graph_path = \"./northcarolina.json\"\n",
    "graph = Graph.from_json(graph_path)\n",
    "with open (graph_path, \"r\") as myfile:\n",
    "    data=myfile.readlines()\n",
    "graph_dict = json.loads(data[0])"
   ]
  },
  {
   "cell_type": "markdown",
   "metadata": {},
   "source": [
    "# Chain stuff"
   ]
  },
  {
   "cell_type": "code",
   "execution_count": 35,
   "metadata": {},
   "outputs": [
    {
     "name": "stdout",
     "output_type": "stream",
     "text": [
      "9535483\n"
     ]
    }
   ],
   "source": [
    "pop_count = 0\n",
    "\n",
    "for i in graph.nodes:\n",
    "    pop_count += graph.nodes[i][\"TOTPOP\"]\n",
    "    \n",
    "print(pop_count)"
   ]
  },
  {
   "cell_type": "code",
   "execution_count": 36,
   "metadata": {},
   "outputs": [],
   "source": [
    "num_dist = 13\n",
    "\n",
    "# Exercise: Compute exact population from your data.\n",
    "pop = pop_count\n",
    "\n",
    "my_updaters = {\n",
    "    \"population\": updaters.Tally(\"TOTPOP\", alias=\"population\"),\n",
    "    \"cut_edges\": cut_edges,\n",
    "    \"SEN16\": Election(\"SEN16\", {\"democratic\":\"EL16G_US_1\",\"republican\":\"EL16G_USS_\"})\n",
    "}\n",
    "\n",
    "\n",
    "new_plan = recursive_tree_part(graph,\n",
    "                               range(num_dist),\n",
    "                               pop/num_dist,\n",
    "                               \"TOTPOP\",\n",
    "                               0.001,\n",
    "                               1)\n",
    "initial_partition = Partition(graph,\n",
    "                              new_plan,\n",
    "                              my_updaters)"
   ]
  },
  {
   "cell_type": "code",
   "execution_count": 37,
   "metadata": {},
   "outputs": [],
   "source": [
    "proposal = partial(recom,\n",
    "                   pop_col = \"TOTPOP\",\n",
    "                   pop_target = pop/num_dist,\n",
    "                   epsilon = 0.005,\n",
    "                   node_repeats = 3)\n",
    "\n",
    "compactness_bound = constraints.UpperBound(\n",
    "    lambda p: len(p[\"cut_edges\"]), 2 * len(initial_partition[\"cut_edges\"])\n",
    ")"
   ]
  },
  {
   "cell_type": "code",
   "execution_count": 38,
   "metadata": {},
   "outputs": [],
   "source": [
    "chain = MarkovChain(\n",
    "    proposal=proposal,\n",
    "    constraints=[\n",
    "        constraints.within_percent_of_ideal_population(initial_partition, 0.005),\n",
    "        compactness_bound,\n",
    "    ],\n",
    "    accept=accept.always_accept,\n",
    "    initial_state=initial_partition,\n",
    "    total_steps=50000,\n",
    ")"
   ]
  },
  {
   "cell_type": "markdown",
   "metadata": {},
   "source": [
    "# Pulling data from chain run"
   ]
  },
  {
   "cell_type": "code",
   "execution_count": 39,
   "metadata": {
    "scrolled": false
   },
   "outputs": [
    {
     "data": {
      "application/vnd.jupyter.widget-view+json": {
       "model_id": "8967f9021c0a4ae7a241bf0e566f1880",
       "version_major": 2,
       "version_minor": 0
      },
      "text/plain": [
       "HBox(children=(IntProgress(value=0, max=50000), HTML(value='')))"
      ]
     },
     "metadata": {},
     "output_type": "display_data"
    },
    {
     "name": "stdout",
     "output_type": "stream",
     "text": [
      "\n",
      "CPU times: user 12h 31min 50s, sys: 1min 48s, total: 12h 33min 39s\n",
      "Wall time: 13h 50min\n"
     ]
    }
   ],
   "source": [
    "%%time\n",
    "\n",
    "triplets_full = []\n",
    "\n",
    "for step in tqdm_notebook(chain):\n",
    "    triplets_full.append([step[\"SEN16\"].wins(\"republican\"),\n",
    "                     mean_median(step[\"SEN16\"]),\n",
    "                     partisan_gini(step[\"SEN16\"])])"
   ]
  },
  {
   "cell_type": "code",
   "execution_count": 112,
   "metadata": {},
   "outputs": [
    {
     "name": "stdout",
     "output_type": "stream",
     "text": [
      "Election Results for SEN16\n",
      "0:\n",
      "  democratic: 0.32\n",
      "  republican: 0.68\n",
      "1:\n",
      "  democratic: 0.5161\n",
      "  republican: 0.4839\n",
      "2:\n",
      "  democratic: 0.5128\n",
      "  republican: 0.4872\n",
      "3:\n",
      "  democratic: 0.5027\n",
      "  republican: 0.4973\n",
      "4:\n",
      "  democratic: 0.307\n",
      "  republican: 0.693\n",
      "5:\n",
      "  democratic: 0.5654\n",
      "  republican: 0.4346\n",
      "6:\n",
      "  democratic: 0.4314\n",
      "  republican: 0.5686\n",
      "7:\n",
      "  democratic: 0.6568\n",
      "  republican: 0.3432\n",
      "8:\n",
      "  democratic: 0.5484\n",
      "  republican: 0.4516\n",
      "9:\n",
      "  democratic: 0.4106\n",
      "  republican: 0.5894\n",
      "10:\n",
      "  democratic: 0.4557\n",
      "  republican: 0.5443\n",
      "11:\n",
      "  democratic: 0.3864\n",
      "  republican: 0.6136\n",
      "12:\n",
      "  democratic: 0.429\n",
      "  republican: 0.571\n"
     ]
    }
   ],
   "source": [
    "vote_vecs = []\n",
    "\n",
    "vote_vecs.append(step[\"SEN16\"])\n",
    "print(vote_vecs[0])"
   ]
  },
  {
   "cell_type": "code",
   "execution_count": 49,
   "metadata": {},
   "outputs": [
    {
     "name": "stdout",
     "output_type": "stream",
     "text": [
      "CPU times: user 70 ms, sys: 4.04 ms, total: 74 ms\n",
      "Wall time: 79.2 ms\n"
     ]
    },
    {
     "data": {
      "image/png": "[encoded data removed]",
      "text/plain": [
       "<Figure size 432x288 with 1 Axes>"
      ]
     },
     "metadata": {
      "needs_background": "light"
     },
     "output_type": "display_data"
    }
   ],
   "source": [
    "%%time\n",
    "SEN16seats = []\n",
    "for triplet in triplets_full:\n",
    "    SEN16seats.append(triplet[0])\n",
    "\n",
    "# Create histogram of Republican seats\n",
    "fig, seats = plt.subplots(figsize=(6,4))\n",
    "\n",
    "# Variables\n",
    "bins_num = 10\n",
    "title = \"NC-S16 Republican Seats Won\"\n",
    "\n",
    "# Plotting dataset\n",
    "seats.hist(SEN16seats, bins=bins_num)\n",
    "\n",
    "seats.set_title(title)\n",
    "seats.set_ylabel(\"Frequency\")\n",
    "seats.set_xlabel(\"# Seats Won\")"
   ]
  },
  {
   "cell_type": "markdown",
   "metadata": {},
   "source": [
    "# Visualization"
   ]
  },
  {
   "cell_type": "code",
   "execution_count": 80,
   "metadata": {},
   "outputs": [
    {
     "data": {
      "application/vnd.jupyter.widget-view+json": {
       "model_id": "1fd76cab3d074bd69225c127a16ac355",
       "version_major": 2,
       "version_minor": 0
      },
      "text/plain": [
       "HBox(children=(IntProgress(value=0, max=50000), HTML(value='')))"
      ]
     },
     "metadata": {},
     "output_type": "display_data"
    },
    {
     "name": "stdout",
     "output_type": "stream",
     "text": [
      "\n",
      "# of outlier districts: 462\n",
      "CPU times: user 99.9 ms, sys: 6.17 ms, total: 106 ms\n",
      "Wall time: 145 ms\n"
     ]
    }
   ],
   "source": [
    "%%time\n",
    "mm = []\n",
    "pg = []\n",
    "\n",
    "mm_rlean = []\n",
    "mm_dlean = []\n",
    "pg_rlean = []\n",
    "pg_dlean = []\n",
    "\n",
    "for triple in tqdm_notebook(triplets_full):\n",
    "    mm.append(triple[1])\n",
    "    pg.append(triple[2])\n",
    "    if triple[0] < 7:\n",
    "        mm_dlean.append(triple[1])\n",
    "        pg_dlean.append(triple[2])\n",
    "    if triple[0] > 10:\n",
    "        mm_rlean.append(triple[1])\n",
    "        pg_rlean.append(triple[2])\n",
    "        \n",
    "mms = [mm_rlean, mm_dlean]\n",
    "pgs = [pg_rlean, pg_dlean]\n",
    "        \n",
    "print(\"# of outlier districts:\",len(mm_dlean) + len(mm_rlean))"
   ]
  },
  {
   "cell_type": "code",
   "execution_count": 85,
   "metadata": {},
   "outputs": [
    {
     "data": {
      "text/plain": [
       "Text(0.5, 0, 'Partisan Gini Score')"
      ]
     },
     "execution_count": 85,
     "metadata": {},
     "output_type": "execute_result"
    },
    {
     "data": {
      "image/png": "[encoded data removed]",
      "text/plain": [
       "<Figure size 720x576 with 4 Axes>"
      ]
     },
     "metadata": {
      "needs_background": "light"
     },
     "output_type": "display_data"
    }
   ],
   "source": [
    "fig, ax = plt.subplots(2,2, figsize=(10,8), sharex=\"col\", sharey=\"row\")\n",
    "\n",
    "plt.subplots_adjust(wspace=0.3, hspace=0.3)\n",
    "\n",
    "# Variables\n",
    "bins_num = 20\n",
    "bins_num_w = 20\n",
    "title = \"NC-S16: 50,000 ReCom plans\"\n",
    "num_outliers = str(len(mm_dlean) + len(mm_rlean))\n",
    "pct_outliers = str(round((len(mm_dlean) + len(mm_rlean)) / 50000 * 100, 1))\n",
    "title_w = \"NC-S16: \" + num_outliers + \" outlier plans \" + \"(\" + pct_outliers + \"%)\"\n",
    "colors = [\"red\", \"blue\"]\n",
    "\n",
    "# Plotting the whole dataset\n",
    "ax[0,0].hist(mm, bins=bins_num)\n",
    "ax[0,1].hist(pg, bins=bins_num)\n",
    "\n",
    "ax[0,0].set_title(title)\n",
    "ax[0,0].set_ylabel(\"Frequency\")\n",
    "ax[0,0].set_xlabel(\"Mean-Median Score\")\n",
    "\n",
    "ax[0,1].set_title(title)\n",
    "ax[0,1].set_ylabel(\"Frequency\")\n",
    "ax[0,1].set_xlabel(\"Partisan Gini Score\")\n",
    "\n",
    "# Plotting the winnowed data\n",
    "ax[1,0].hist(mms, bins=bins_num_w, color=colors)\n",
    "ax[1,1].hist(pgs, bins=bins_num_w, color=colors)\n",
    "ax[1,1].set_ylim((0,40))\n",
    "\n",
    "ax[1,0].set_title(title_w)\n",
    "ax[1,0].set_ylabel(\"Frequency\")\n",
    "ax[1,0].set_xlabel(\"Mean-Median Score\")\n",
    "\n",
    "ax[1,1].set_title(title_w)\n",
    "ax[1,1].set_ylabel(\"Frequency\")\n",
    "ax[1,1].set_xlabel(\"Partisan Gini Score\")"
   ]
  },
  {
   "cell_type": "code",
   "execution_count": 121,
   "metadata": {},
   "outputs": [
    {
     "data": {
      "application/vnd.jupyter.widget-view+json": {
       "model_id": "297c6e9b916a4880ac0a85393cf58fb9",
       "version_major": 2,
       "version_minor": 0
      },
      "text/plain": [
       "HBox(children=(IntProgress(value=0, max=50000), HTML(value='')))"
      ]
     },
     "metadata": {},
     "output_type": "display_data"
    },
    {
     "name": "stdout",
     "output_type": "stream",
     "text": [
      "\n",
      "CPU times: user 345 ms, sys: 23.8 ms, total: 369 ms\n",
      "Wall time: 322 ms\n"
     ]
    },
    {
     "data": {
      "image/png": "[encoded data removed]",
      "text/plain": [
       "<Figure size 1152x288 with 1 Axes>"
      ]
     },
     "metadata": {
      "needs_background": "light"
     },
     "output_type": "display_data"
    },
    {
     "data": {
      "image/png": "[encoded data removed]",
      "text/plain": [
       "<Figure size 1152x576 with 4 Axes>"
      ]
     },
     "metadata": {
      "needs_background": "light"
     },
     "output_type": "display_data"
    }
   ],
   "source": [
    "%%time\n",
    "fig, seats = plt.subplots(figsize=(16,4))\n",
    "fig, ax = plt.subplots(2,2, figsize=(16,8), sharex=\"col\", sharey=\"row\")\n",
    "\n",
    "plt.subplots_adjust(wspace=0.3, hspace=0.3)\n",
    "\n",
    "# Variables\n",
    "inliers = [7,10]\n",
    "bins_num = 20\n",
    "out_bins_num = 6\n",
    "title = \"NC-S16: 50,000 ReCom plans\"\n",
    "\n",
    "# Colors\n",
    "seats_colors = [\"red\", \"blue\", \"lightgray\"]\n",
    "party_colors = [\"red\", \"blue\"]\n",
    "neutral = \"lightgreen\"\n",
    "\n",
    "# Creating Datasets\n",
    "mm = []\n",
    "pg = []\n",
    "mm_rlean = []\n",
    "mm_dlean = []\n",
    "pg_rlean = []\n",
    "pg_dlean = []\n",
    "SEN16seats_routliers = []\n",
    "SEN16seats_doutliers = []\n",
    "SEN16seats_inliers = []\n",
    "\n",
    "for triple in tqdm_notebook(triplets_full):\n",
    "    mm.append(triple[1])\n",
    "    pg.append(triple[2])\n",
    "    if triple[0] < inliers[0]:\n",
    "        SEN16seats_doutliers.append(triple[0])\n",
    "        mm_dlean.append(triple[1])\n",
    "        pg_dlean.append(triple[2])\n",
    "    if triple[0] > inliers[1]:\n",
    "        SEN16seats_routliers.append(triple[0])\n",
    "        mm_rlean.append(triple[1])\n",
    "        pg_rlean.append(triple[2])\n",
    "    if triple[0] >= inliers[0] and triple[0] <= inliers[1]:\n",
    "        SEN16seats_inliers.append(triple[0])\n",
    "\n",
    "mms = [mm_rlean, mm_dlean]\n",
    "pgs = [pg_rlean, pg_dlean]\n",
    "SEN16seats_colored = [SEN16seats_routliers, SEN16seats_doutliers, SEN16seats_inliers]\n",
    "\n",
    "# More variables\n",
    "num_outliers = str(len(mm_dlean) + len(mm_rlean))\n",
    "pct_outliers = str(round((len(mm_dlean) + len(mm_rlean)) / 50000 * 100, 1))\n",
    "title_w = \"NC-S16: \" + num_outliers + \" outlier plans \" + \"(\" + pct_outliers + \"%)\"\n",
    "\n",
    "# Plotting the seats histogram\n",
    "seats.hist(SEN16seats_colored, bins=out_bins_num, stacked=True, color=seats_colors)\n",
    "\n",
    "seats.set_title(\"NC-S16 Republican seats won — outliers colored according to party helped\")\n",
    "seats.set_ylabel(\"Frequency\")\n",
    "seats.set_xlabel(\"# Seats Won\")\n",
    "seats.set_xlim(0, num_dist)\n",
    "seats.axvline(x = num_dist/2, color=neutral, linestyle=\"dashed\", linewidth=2, label=\"50% seats\")\n",
    "seats.axvline(x = num_dist * initial_partition[\"SEN16\"].percent(\"republican\"), color=\"red\", linestyle=\"dashed\", linewidth=2, label=\"proportionality\")\n",
    "seats.legend()\n",
    "# seats.set_xticks(1)\n",
    "\n",
    "# Plotting the whole dataset\n",
    "ax[0,0].hist(mm, bins=2*bins_num, color=neutral)\n",
    "ax[0,1].hist(pg, bins=2*bins_num, color=neutral)\n",
    "\n",
    "ax[0,0].set_title(title)\n",
    "ax[0,0].set_ylabel(\"Frequency\")\n",
    "ax[0,0].set_xlabel(\"Mean-Median Score\")\n",
    "\n",
    "ax[0,1].set_title(title)\n",
    "ax[0,1].set_ylabel(\"Frequency\")\n",
    "ax[0,1].set_xlabel(\"Partisan Gini Score\")\n",
    "\n",
    "# Plotting the winnowed data\n",
    "ax[1,0].hist(mms, bins=bins_num, color=party_colors)\n",
    "ax[1,1].hist(pgs, bins=bins_num, color=party_colors)\n",
    "# ax[1,1].set_ylim((0,40))\n",
    "\n",
    "ax[1,0].set_title(title_w)\n",
    "ax[1,0].set_ylabel(\"Frequency\")\n",
    "ax[1,0].set_xlabel(\"Mean-Median Score\")\n",
    "\n",
    "ax[1,1].set_title(title_w)\n",
    "ax[1,1].set_ylabel(\"Frequency\")\n",
    "ax[1,1].set_xlabel(\"Partisan Gini Score\")"
   ]
  },
  {
   "cell_type": "code",
   "execution_count": null,
   "metadata": {},
   "outputs": [],
   "source": []
  }
 ],
 "metadata": {
  "kernelspec": {
   "display_name": "Python 3",
   "language": "python",
   "name": "python3"
  },
  "language_info": {
   "codemirror_mode": {
    "name": "ipython",
    "version": 3
   },
   "file_extension": ".py",
   "mimetype": "text/x-python",
   "name": "python",
   "nbconvert_exporter": "python",
   "pygments_lexer": "ipython3",
   "version": "3.7.3"
  }
 },
 "nbformat": 4,
 "nbformat_minor": 2
}
