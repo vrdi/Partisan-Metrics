{
 "cells": [
  {
   "cell_type": "markdown",
   "metadata": {},
   "source": [
    "# Imports"
   ]
  },
  {
   "cell_type": "code",
   "execution_count": 141,
   "metadata": {},
   "outputs": [],
   "source": [
    "import os\n",
    "from functools import partial\n",
    "import json\n",
    "\n",
    "import geopandas as gpd\n",
    "import matplotlib.pyplot as plt\n",
    "import networkx as nx\n",
    "import pandas as pd\n",
    "import numpy as np\n",
    "from tqdm import tqdm_notebook\n",
    "import random\n",
    "\n",
    "from gerrychain import (\n",
    "    Election,\n",
    "    Graph,\n",
    "    MarkovChain,\n",
    "    Partition,\n",
    "    accept,\n",
    "    constraints,\n",
    "    updaters,\n",
    ")\n",
    "\n",
    "from gerrychain.metrics import efficiency_gap, mean_median, partisan_gini\n",
    "from gerrychain.proposals import recom\n",
    "from gerrychain.updaters import cut_edges\n",
    "from gerrychain.tree import recursive_tree_part"
   ]
  },
  {
   "cell_type": "markdown",
   "metadata": {},
   "source": [
    "# Downloading state data"
   ]
  },
  {
   "cell_type": "code",
   "execution_count": 191,
   "metadata": {},
   "outputs": [],
   "source": [
    "graph_path = \"./massachusetts.json\"\n",
    "graph = Graph.from_json(graph_path)\n",
    "with open (graph_path, \"r\") as myfile:\n",
    "    data=myfile.readlines()\n",
    "graph_dict = json.loads(data[0])"
   ]
  },
  {
   "cell_type": "markdown",
   "metadata": {},
   "source": [
    "# Chain stuff"
   ]
  },
  {
   "cell_type": "code",
   "execution_count": 192,
   "metadata": {},
   "outputs": [],
   "source": [
    "election = \"SEN14\""
   ]
  },
  {
   "cell_type": "code",
   "execution_count": 193,
   "metadata": {},
   "outputs": [
    {
     "name": "stdout",
     "output_type": "stream",
     "text": [
      "6728169.714491896\n"
     ]
    }
   ],
   "source": [
    "pop_count = 0\n",
    "\n",
    "for i in graph.nodes:\n",
    "    pop_count += graph.nodes[i][\"TOTPOP\"]\n",
    "    \n",
    "print(pop_count)"
   ]
  },
  {
   "cell_type": "code",
   "execution_count": 194,
   "metadata": {},
   "outputs": [],
   "source": [
    "for n in graph.nodes:\n",
    "    graph.nodes[n][election+\"D\"] = int(graph.nodes[n][election+\"D\"].replace(\",\",\"\"))\n",
    "    graph.nodes[n][election+\"R\"] = int(graph.nodes[n][election+\"R\"].replace(\",\",\"\"))"
   ]
  },
  {
   "cell_type": "code",
   "execution_count": 149,
   "metadata": {
    "scrolled": true
   },
   "outputs": [
    {
     "data": {
      "text/plain": [
       "{'boundary_node': True,\n",
       " 'boundary_perim': 0.14079928066162706,\n",
       " 'area': 0.0006839594270970608,\n",
       " 'District': '1-1',\n",
       " 'Name': 'Boston Ward 1 Precinct 1',\n",
       " 'Shape_Le_1': 0.2370997653,\n",
       " 'Shape_Area': 0.00068395943,\n",
       " 'City/Town': 'Boston',\n",
       " 'Ward': '1',\n",
       " 'Pct': '1',\n",
       " 'SEN12D': '604',\n",
       " 'SEN12R': '251',\n",
       " 'PRES12D': '645',\n",
       " 'PRES12R': '188',\n",
       " 'SEN13D': '241',\n",
       " 'SEN13R': '84',\n",
       " 'SEN14D': 439,\n",
       " 'SEN14R': 109,\n",
       " 'PRES16D': '755',\n",
       " 'PRES16R': '189',\n",
       " 'CD': '07',\n",
       " 'TOTPOP': 2127.1376074597397,\n",
       " 'NH_WHITE': 1232.8953012907173,\n",
       " 'NH_BLACK': 58.91581379295309,\n",
       " 'NH_AMIN': 11.999999891822892,\n",
       " 'NH_ASIAN': 66.91581078543187,\n",
       " 'NH_NHPI': 1.000000016734194,\n",
       " 'NH_OTHER': 44.747434355389224,\n",
       " 'HISP': 710.6632473266911,\n",
       " 'H_WHITE': 428.83162612047374,\n",
       " 'H_BLACK': 37.00000046135009,\n",
       " 'H_AMIN': 4.999999662849095,\n",
       " 'H_ASIAN': 5.999999756691586,\n",
       " 'H_NHPI': 4.999999786413395,\n",
       " 'H_OTHER': 228.83162153891337,\n",
       " 'VAP': 1714.474357046681,\n",
       " 'HVAP': 502.8316220818222,\n",
       " 'WVAP': 1071.8952982689327,\n",
       " 'BVAP': 37.91581339079269,\n",
       " 'AMINVAP': 2.999999979631399,\n",
       " 'ASIANVAP': 44.915811911161995,\n",
       " 'NHPIVAP': 0.0,\n",
       " 'OTHERVAP': 26.915810881128152,\n",
       " '2MOREVAP': 27.000000533211583}"
      ]
     },
     "execution_count": 149,
     "metadata": {},
     "output_type": "execute_result"
    }
   ],
   "source": [
    "graph.nodes[0]"
   ]
  },
  {
   "cell_type": "code",
   "execution_count": 205,
   "metadata": {
    "scrolled": true
   },
   "outputs": [
    {
     "name": "stdout",
     "output_type": "stream",
     "text": [
      "CPU times: user 2.78 s, sys: 17.9 ms, total: 2.79 s\n",
      "Wall time: 2.83 s\n"
     ]
    }
   ],
   "source": [
    "%%time\n",
    "num_dist = 9\n",
    "\n",
    "# Exercise: Compute exact population from your data.\n",
    "pop = pop_count\n",
    "\n",
    "my_updaters = {\n",
    "    \"population\": updaters.Tally(\"TOTPOP\", alias=\"population\"),\n",
    "    \"cut_edges\": cut_edges,\n",
    "    election: Election(election, {\"democratic\":\"SEN14D\",\"republican\":\"SEN14R\"})\n",
    "}\n",
    "\n",
    "\n",
    "new_plan = recursive_tree_part(graph,\n",
    "                               range(num_dist),\n",
    "                               pop/num_dist,\n",
    "                               \"TOTPOP\",\n",
    "                               0.005,\n",
    "                               3)\n",
    "initial_partition = Partition(graph,\n",
    "                              new_plan,\n",
    "                              my_updaters)"
   ]
  },
  {
   "cell_type": "code",
   "execution_count": 206,
   "metadata": {
    "scrolled": true
   },
   "outputs": [
    {
     "name": "stdout",
     "output_type": "stream",
     "text": [
      "CPU times: user 21.8 ms, sys: 1.23 ms, total: 23 ms\n",
      "Wall time: 22.8 ms\n"
     ]
    }
   ],
   "source": [
    "%%time\n",
    "proposal = partial(recom,\n",
    "                   pop_col = \"TOTPOP\",\n",
    "                   pop_target = pop/num_dist,\n",
    "                   epsilon = 0.009,\n",
    "                   node_repeats = 3)\n",
    "\n",
    "compactness_bound = constraints.UpperBound(\n",
    "    lambda p: len(p[\"cut_edges\"]), 2 * len(initial_partition[\"cut_edges\"])\n",
    ")"
   ]
  },
  {
   "cell_type": "markdown",
   "metadata": {},
   "source": [
    "## Acceptance Functions"
   ]
  },
  {
   "cell_type": "code",
   "execution_count": 58,
   "metadata": {},
   "outputs": [
    {
     "name": "stdout",
     "output_type": "stream",
     "text": [
      "CPU times: user 9 µs, sys: 1e+03 ns, total: 10 µs\n",
      "Wall time: 17.2 µs\n"
     ]
    }
   ],
   "source": [
    "%%time\n",
    "def push_rep(partition):\n",
    "    bound = 1\n",
    "    if partition.parent is not None:\n",
    "        if sorted(partition.parent[election].percents(\"republican\"))[-1] >= sorted(partition[election].percents(\"republican\"))[-1]:\n",
    "            bound = 0\n",
    "    return random.random() < bound"
   ]
  },
  {
   "cell_type": "code",
   "execution_count": 59,
   "metadata": {},
   "outputs": [
    {
     "name": "stdout",
     "output_type": "stream",
     "text": [
      "CPU times: user 7 µs, sys: 1e+03 ns, total: 8 µs\n",
      "Wall time: 13.1 µs\n"
     ]
    }
   ],
   "source": [
    "%%time\n",
    "def one_rep(partition):\n",
    "    bound = 1\n",
    "    if partition.parent is not None:\n",
    "        if sorted(partition.parent[election].percents(\"republican\"))[-1] < 0.5:\n",
    "            if sorted(partition.parent[election].percents(\"republican\"))[-1] >= sorted(partition[election].percents(\"republican\"))[-1]:\n",
    "                bound = 0\n",
    "        else:\n",
    "            if sorted(partition[election].percents(\"republican\"))[-1] < 0.5:\n",
    "                bound = 0      \n",
    "    return random.random() < bound"
   ]
  },
  {
   "cell_type": "code",
   "execution_count": 155,
   "metadata": {
    "scrolled": true
   },
   "outputs": [
    {
     "name": "stdout",
     "output_type": "stream",
     "text": [
      "CPU times: user 5 µs, sys: 1e+03 ns, total: 6 µs\n",
      "Wall time: 11 µs\n"
     ]
    }
   ],
   "source": [
    "%%time\n",
    "def two_rep(partition):\n",
    "    parent_percents = sorted(partition.parent[election].percents(\"republican\"), reverse=True)\n",
    "    percents = sorted(partition[election].percents(\"republican\"), reverse=True)\n",
    "    \n",
    "    bound = 1\n",
    "    \n",
    "    if partition.parent is not None:\n",
    "        if parent_percents[0] < 0.5:\n",
    "            if parent_percents[0] >= percents[0]:\n",
    "                bound = 0\n",
    "        else:\n",
    "            if percents[0] < 0.5:\n",
    "                bound = 0\n",
    "            else:\n",
    "                if parent_percents[1] < 0.5:\n",
    "                    if parent_percents[1] >= percents[1]:\n",
    "                        bound = 0\n",
    "                    else:\n",
    "                        if percents[1] < 0.5:\n",
    "                            bound = 0\n",
    "                            \n",
    "    return random.random() < bound"
   ]
  },
  {
   "cell_type": "code",
   "execution_count": 177,
   "metadata": {},
   "outputs": [
    {
     "name": "stdout",
     "output_type": "stream",
     "text": [
      "CPU times: user 6 µs, sys: 1 µs, total: 7 µs\n",
      "Wall time: 11.2 µs\n"
     ]
    }
   ],
   "source": [
    "%%time\n",
    "def two_rep_probabalistic(partition):\n",
    "    parent_percents = sorted(partition.parent[election].percents(\"republican\"), reverse=True)\n",
    "    percents = sorted(partition[election].percents(\"republican\"), reverse=True)\n",
    "    \n",
    "    bound = 1\n",
    "    \n",
    "    if partition.parent is not None:\n",
    "        if parent_percents[0] < 0.5:\n",
    "            if parent_percents[0] >= percents[0]:\n",
    "                bound = 5 * (parent_percents[0] - percents[0])\n",
    "        else:\n",
    "            if percents[0] < 0.5:\n",
    "                bound = 0\n",
    "            else:\n",
    "                if parent_percents[1] < 0.5:\n",
    "                    if parent_percents[1] >= percents[1]:\n",
    "                        bound = 5 * (parent_percents[1] - percents[1])\n",
    "                    else:\n",
    "                        if percents[1] < 0.5:\n",
    "                            bound = 0\n",
    "                            \n",
    "    return random.random() < bound"
   ]
  },
  {
   "cell_type": "markdown",
   "metadata": {},
   "source": [
    "# Pulling data from chain run"
   ]
  },
  {
   "cell_type": "code",
   "execution_count": null,
   "metadata": {
    "scrolled": true
   },
   "outputs": [
    {
     "data": {
      "application/vnd.jupyter.widget-view+json": {
       "model_id": "59aff8f260b14bc0a62f0551fd60798c",
       "version_major": 2,
       "version_minor": 0
      },
      "text/plain": [
       "HBox(children=(IntProgress(value=0, max=5000), HTML(value='')))"
      ]
     },
     "metadata": {},
     "output_type": "display_data"
    }
   ],
   "source": [
    "%%time\n",
    "\n",
    "good_step = Partition(graph,\n",
    "                     dict(step.assignment),\n",
    "                     my_updaters)\n",
    "\n",
    "chain = MarkovChain(\n",
    "    proposal=proposal,\n",
    "    constraints=[\n",
    "        constraints.within_percent_of_ideal_population(initial_partition, 0.01),\n",
    "        compactness_bound,\n",
    "    ],\n",
    "    accept=two_rep_probabalistic,\n",
    "    initial_state=good_step,\n",
    "    total_steps=5000,\n",
    ")\n",
    "\n",
    "data = []\n",
    "\n",
    "for step in tqdm_notebook(chain):\n",
    "    data.append([step[election].wins(\"republican\"),\n",
    "                         mean_median(step[election]),\n",
    "                         partisan_gini(step[election]),\n",
    "                         step[election].percents(\"republican\")])"
   ]
  },
  {
   "cell_type": "markdown",
   "metadata": {},
   "source": [
    "# Visualization"
   ]
  },
  {
   "cell_type": "code",
   "execution_count": 208,
   "metadata": {
    "scrolled": false
   },
   "outputs": [
    {
     "name": "stdout",
     "output_type": "stream",
     "text": [
      "CPU times: user 24.7 ms, sys: 2.8 ms, total: 27.5 ms\n",
      "Wall time: 57.8 ms\n"
     ]
    },
    {
     "data": {
      "image/png": "[encoded data removed]",
      "text/plain": [
       "<Figure size 864x576 with 1 Axes>"
      ]
     },
     "metadata": {
      "needs_background": "light"
     },
     "output_type": "display_data"
    }
   ],
   "source": [
    "%%time\n",
    "fig, rep_dist = plt.subplots(figsize=(12,8))\n",
    "\n",
    "most_rep_dist = []\n",
    "secmost_rep_dist = []\n",
    "one_rep_plans = []\n",
    "\n",
    "for plan in data:\n",
    "    most_rep_dist.append(sorted(plan[3])[-1])\n",
    "    secmost_rep_dist.append(sorted(plan[3])[-2])\n",
    "    if sorted(plan[3])[-1] >= 0.5:\n",
    "        one_rep_plans.append(plan)\n",
    "    \n",
    "rep_dist.plot(most_rep_dist, color=\"red\")\n",
    "rep_dist.plot(secmost_rep_dist, color=\"blue\")\n",
    "rep_dist.set_title(\"Republican vote share in most Republican district\")\n",
    "rep_dist.set_ylabel(\"Rep vote share\")\n",
    "rep_dist.set_xlabel(\"Step in chain\")\n",
    "rep_dist.axhline(y = 0.5, color=\"black\")\n",
    "# rep_dist.set_ylim(.495,.52)"
   ]
  },
  {
   "cell_type": "code",
   "execution_count": 67,
   "metadata": {
    "scrolled": true
   },
   "outputs": [
    {
     "data": {
      "text/plain": [
       "4541"
      ]
     },
     "execution_count": 67,
     "metadata": {},
     "output_type": "execute_result"
    }
   ],
   "source": [
    "len(one_rep_plans)"
   ]
  },
  {
   "cell_type": "code",
   "execution_count": 68,
   "metadata": {},
   "outputs": [],
   "source": [
    "copy_orp = one_rep_plans.copy()"
   ]
  },
  {
   "cell_type": "code",
   "execution_count": 69,
   "metadata": {},
   "outputs": [
    {
     "data": {
      "text/plain": [
       "4541"
      ]
     },
     "execution_count": 69,
     "metadata": {},
     "output_type": "execute_result"
    }
   ],
   "source": [
    "len(copy_orp)"
   ]
  },
  {
   "cell_type": "code",
   "execution_count": 25,
   "metadata": {},
   "outputs": [
    {
     "data": {
      "application/vnd.jupyter.widget-view+json": {
       "model_id": "ea0fc9393ab64dd4934f92d2ea516bfc",
       "version_major": 2,
       "version_minor": 0
      },
      "text/plain": [
       "HBox(children=(IntProgress(value=0, max=1000), HTML(value='')))"
      ]
     },
     "metadata": {},
     "output_type": "display_data"
    },
    {
     "name": "stdout",
     "output_type": "stream",
     "text": [
      "\n",
      "CPU times: user 302 ms, sys: 20.2 ms, total: 322 ms\n",
      "Wall time: 254 ms\n"
     ]
    },
    {
     "data": {
      "image/png": "[encoded data removed]",
      "text/plain": [
       "<Figure size 1152x288 with 1 Axes>"
      ]
     },
     "metadata": {
      "needs_background": "light"
     },
     "output_type": "display_data"
    },
    {
     "data": {
      "image/png": "[encoded data removed]",
      "text/plain": [
       "<Figure size 1152x576 with 4 Axes>"
      ]
     },
     "metadata": {
      "needs_background": "light"
     },
     "output_type": "display_data"
    }
   ],
   "source": [
    "%%time\n",
    "# fig, votes = plt.subplots(figsize=(16,4))\n",
    "fig, seats = plt.subplots(figsize=(16,4))\n",
    "fig, ax = plt.subplots(2,2, figsize=(16,8), sharex=\"col\", sharey=\"row\")\n",
    "\n",
    "plt.subplots_adjust(wspace=0.3, hspace=0.3)\n",
    "\n",
    "# Variables\n",
    "inliers = [0,0]\n",
    "bins_num = 20\n",
    "out_bins_num = 10\n",
    "title = \"MA-S14: 5000 ReCom plans\"\n",
    "\n",
    "# Colors\n",
    "seats_colors = [\"red\", \"blue\", \"lightgray\"]\n",
    "party_colors = [\"red\", \"blue\"]\n",
    "neutral = \"lightgreen\"\n",
    "\n",
    "# Creating Datasets\n",
    "mm = []\n",
    "pg = []\n",
    "vs = []\n",
    "mm_routliers = []\n",
    "mm_doutliers = []\n",
    "pg_routliers = []\n",
    "pg_doutliers = []\n",
    "seats_routliers = []\n",
    "seats_doutliers = []\n",
    "seats_inliers = []\n",
    "vs_routliers = []\n",
    "vs_doutliers = []\n",
    "\n",
    "\n",
    "for plan in tqdm_notebook(data):\n",
    "    mm.append(plan[1])\n",
    "    pg.append(plan[2])\n",
    "    vs.append(plan[3])\n",
    "    if plan[0] < inliers[0]:\n",
    "        seats_doutliers.append(plan[0])\n",
    "        mm_doutliers.append(plan[1])\n",
    "        pg_doutliers.append(plan[2])\n",
    "        vs_doutliers.append(plan[3])\n",
    "    if plan[0] > inliers[1]:\n",
    "        seats_routliers.append(plan[0])\n",
    "        mm_routliers.append(plan[1])\n",
    "        pg_routliers.append(plan[2])\n",
    "        vs_routliers.append(plan[3])\n",
    "    if plan[0] >= inliers[0] and plan[0] <= inliers[1]:\n",
    "        seats_inliers.append(plan[0])\n",
    "\n",
    "mms = [mm_routliers, mm_doutliers]\n",
    "pgs = [pg_routliers, pg_doutliers]\n",
    "seats_colored = [seats_routliers, seats_doutliers, seats_inliers]\n",
    "\n",
    "# More variables\n",
    "num_outliers = str(len(mm_doutliers) + len(mm_routliers))\n",
    "pct_outliers = str(round((len(mm_doutliers) + len(mm_routliers)) / 1000 * 100, 1))\n",
    "title_w = \"MA-S14: \" + num_outliers + \" outlier plans \" + \"(\" + pct_outliers + \"%)\"\n",
    "\n",
    "# Plotting the votes shares boxplots\n",
    "# votes.boxplot(vs, positions=range(len(data.columns)))\n",
    "\n",
    "# votes.set_title(\"Votes Shares Boxplots\")\n",
    "# votes.set_ylabel(\"Republican Votes %\")\n",
    "# votes.set_xlabel(\"District #\")\n",
    "\n",
    "\n",
    "# Plotting the seats histogram\n",
    "seats.hist(seats_colored, bins=out_bins_num, stacked=True, color=seats_colors)\n",
    "\n",
    "seats.set_title(\"MA-S14 Republican seats won — outliers colored according to party helped\")\n",
    "seats.set_ylabel(\"Frequency\")\n",
    "seats.set_xlabel(\"# Seats Won\")\n",
    "seats.set_xlim(0, num_dist)\n",
    "seats.axvline(x = num_dist/2, color=neutral, linestyle=\"dashed\", linewidth=2, label=\"50% seats\")\n",
    "seats.axvline(x = num_dist * initial_partition[election].percent(\"republican\"), color=\"red\", linestyle=\"dashed\", linewidth=2, label=\"proportionality\")\n",
    "seats.legend()\n",
    "# seats.set_xticks(1)\n",
    "\n",
    "# Plotting the whole dataset\n",
    "ax[0,0].hist(mm, bins=2*bins_num, color=neutral)\n",
    "ax[0,1].hist(pg, bins=2*bins_num, color=neutral)\n",
    "\n",
    "ax[0,0].set_title(title)\n",
    "ax[0,0].set_ylabel(\"Frequency\")\n",
    "ax[0,0].set_xlabel(\"Mean-Median Score\")\n",
    "\n",
    "ax[0,1].set_title(title)\n",
    "ax[0,1].set_ylabel(\"Frequency\")\n",
    "ax[0,1].set_xlabel(\"Partisan Gini Score\")\n",
    "\n",
    "# Plotting the winnowed data\n",
    "ax[1,0].hist(mms, bins=bins_num, color=party_colors)\n",
    "ax[1,1].hist(pgs, bins=bins_num, color=party_colors)\n",
    "# ax[1,1].set_ylim((0,40))\n",
    "\n",
    "ax[1,0].set_title(title_w)\n",
    "ax[1,0].set_ylabel(\"Frequency\")\n",
    "ax[1,0].set_xlabel(\"Mean-Median Score\")\n",
    "\n",
    "ax[1,1].set_title(title_w)\n",
    "ax[1,1].set_ylabel(\"Frequency\")\n",
    "ax[1,1].set_xlabel(\"Partisan Gini Score\")"
   ]
  },
  {
   "cell_type": "code",
   "execution_count": null,
   "metadata": {},
   "outputs": [],
   "source": []
  }
 ],
 "metadata": {
  "kernelspec": {
   "display_name": "Python 3",
   "language": "python",
   "name": "python3"
  },
  "language_info": {
   "codemirror_mode": {
    "name": "ipython",
    "version": 3
   },
   "file_extension": ".py",
   "mimetype": "text/x-python",
   "name": "python",
   "nbconvert_exporter": "python",
   "pygments_lexer": "ipython3",
   "version": "3.7.3"
  }
 },
 "nbformat": 4,
 "nbformat_minor": 2
}
