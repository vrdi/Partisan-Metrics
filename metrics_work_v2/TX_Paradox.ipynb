{
 "cells": [
  {
   "cell_type": "code",
   "execution_count": 1,
   "metadata": {},
   "outputs": [],
   "source": [
    "import os\n",
    "from functools import partial\n",
    "import json\n",
    "import csv\n",
    "\n",
    "import geopandas as gpd\n",
    "import matplotlib.pyplot as plt\n",
    "import networkx as nx\n",
    "import pandas as pd\n",
    "import numpy as np\n",
    "from tqdm import tqdm_notebook\n",
    "\n",
    "from gerrychain import (\n",
    "    Election,\n",
    "    Graph,\n",
    "    MarkovChain,\n",
    "    Partition,\n",
    "    accept,\n",
    "    constraints,\n",
    "    updaters,\n",
    ")\n",
    "\n",
    "from gerrychain.metrics import efficiency_gap, mean_median, partisan_gini\n",
    "from gerrychain.proposals import recom\n",
    "from gerrychain.updaters import cut_edges\n",
    "from gerrychain.tree import recursive_tree_part"
   ]
  },
  {
   "cell_type": "code",
   "execution_count": 2,
   "metadata": {},
   "outputs": [],
   "source": [
    "graph_path = \"./texas.json\"\n",
    "graph = Graph.from_json(graph_path)\n",
    "with open (graph_path, \"r\") as myfile:\n",
    "    data=myfile.readlines()\n",
    "graph_dict = json.loads(data[0])"
   ]
  },
  {
   "cell_type": "code",
   "execution_count": 29,
   "metadata": {},
   "outputs": [],
   "source": [
    "with open(\"test.csv\", mode=\"w\") as test:\n",
    "    data_writer = csv.writer(test, delimiter=\",\", quotechar='\"', quoting=csv.QUOTE_MINIMAL)   \n",
    "    \n",
    "    data_writer.writerow([\"dem_votes\", \"rep_votes\", \"prec_pop\", \"node_num\"])\n",
    "\n",
    "    for n in graph.nodes:\n",
    "        data_writer.writerow([graph.nodes[n][\"SEN16D\"],\n",
    "                  graph.nodes[n][\"SEN16R\"],\n",
    "                  graph.nodes[n][\"TOTPOP\"],\n",
    "                  graph.nodes[n][\"PrcncID\"]])"
   ]
  },
  {
   "cell_type": "code",
   "execution_count": 4,
   "metadata": {
    "scrolled": true
   },
   "outputs": [
    {
     "data": {
      "text/plain": [
       "{'boundary_node': False,\n",
       " 'area': 5616315.599709552,\n",
       " 'CNTYVTD': '10001',\n",
       " 'VTD': '0001',\n",
       " 'WHITE': 2053.0,\n",
       " 'OTHER': 89.0,\n",
       " 'HISPANIC': 401.0,\n",
       " 'TOTPOP': 3131.0,\n",
       " 'VAP': 2341.0,\n",
       " 'BLACK': 606.0,\n",
       " 'BLKHISP': 989.0,\n",
       " 'WVAP': 1677.0,\n",
       " 'HISPVAP': 217.0,\n",
       " 'BHVAP': 592.0,\n",
       " 'BVAP': 378.0,\n",
       " 'OTHVAP': 72.0,\n",
       " 'COUNTY': 'Anderson',\n",
       " 'FIPS': 1,\n",
       " 'PRES12R': 754,\n",
       " 'PRES12D': 261,\n",
       " 'SEN12R': 713,\n",
       " 'SEN12D': 285,\n",
       " 'TOTVR12': 1629,\n",
       " 'TOTTO12': 1026,\n",
       " 'SEN14R': 441,\n",
       " 'SEN14D': 110,\n",
       " 'GOV14R': 424,\n",
       " 'GOV14D': 130,\n",
       " 'TOTVR14': 1712,\n",
       " 'TOTTO14': 576,\n",
       " 'PRES16D': 262,\n",
       " 'PRES16R': 742,\n",
       " 'TOTVR16': 1799,\n",
       " 'TOTTO16': 1030,\n",
       " 'USCD': '05',\n",
       " 'SEND': 3,\n",
       " 'HD': 8,\n",
       " 'AREA': 6,\n",
       " 'PERIM': 15}"
      ]
     },
     "execution_count": 4,
     "metadata": {},
     "output_type": "execute_result"
    }
   ],
   "source": [
    "graph.nodes[0]"
   ]
  },
  {
   "cell_type": "code",
   "execution_count": 5,
   "metadata": {},
   "outputs": [],
   "source": [
    "TOTPOP = \"TOTPOP\"\n",
    "DEMVOTE = \"SEN12D\"\n",
    "REPVOTE = \"SEN12R\""
   ]
  },
  {
   "cell_type": "code",
   "execution_count": 6,
   "metadata": {},
   "outputs": [
    {
     "name": "stdout",
     "output_type": "stream",
     "text": [
      "25145561.0\n"
     ]
    }
   ],
   "source": [
    "pop_count = 0\n",
    "\n",
    "for i in graph.nodes:\n",
    "    pop_count += graph.nodes[i][TOTPOP]\n",
    "    \n",
    "print(pop_count)"
   ]
  },
  {
   "cell_type": "code",
   "execution_count": 8,
   "metadata": {},
   "outputs": [
    {
     "name": "stdout",
     "output_type": "stream",
     "text": [
      "CPU times: user 27.9 s, sys: 635 ms, total: 28.6 s\n",
      "Wall time: 29 s\n"
     ]
    }
   ],
   "source": [
    "%%time\n",
    "num_dist = 36\n",
    "\n",
    "# Exercise: Compute exact population from your data.\n",
    "pop = pop_count\n",
    "\n",
    "my_updaters = {\n",
    "    \"population\": updaters.Tally(\"TOTPOP\", alias=\"population\"),\n",
    "    \"cut_edges\": cut_edges,\n",
    "    \"SEN12\": Election(\"SEN08\", {\"democratic\":DEMVOTE,\"republican\":REPVOTE})\n",
    "}\n",
    "\n",
    "\n",
    "new_plan = recursive_tree_part(graph,\n",
    "                               range(num_dist),\n",
    "                               pop/num_dist,\n",
    "                               TOTPOP,\n",
    "                               0.004,\n",
    "                               1)\n",
    "initial_partition = Partition(graph,\n",
    "                              new_plan,\n",
    "                              my_updaters)"
   ]
  },
  {
   "cell_type": "code",
   "execution_count": 9,
   "metadata": {},
   "outputs": [
    {
     "data": {
      "application/vnd.jupyter.widget-view+json": {
       "model_id": "812852d38ab04ac395c884f135f57ef5",
       "version_major": 2,
       "version_minor": 0
      },
      "text/plain": [
       "HBox(children=(IntProgress(value=0, max=8941), HTML(value='')))"
      ]
     },
     "metadata": {},
     "output_type": "display_data"
    },
    {
     "name": "stdout",
     "output_type": "stream",
     "text": [
      "\n"
     ]
    }
   ],
   "source": [
    "pop_prec = []\n",
    "reps_prec = []\n",
    "dems_prec = []\n",
    "\n",
    "for n in tqdm_notebook(graph.nodes):\n",
    "    pop_prec.append(graph.nodes[n][TOTPOP])\n",
    "    reps_prec.append(graph.nodes[n][REPVOTE])\n",
    "    dems_prec.append(graph.nodes[n][DEMVOTE])"
   ]
  },
  {
   "cell_type": "code",
   "execution_count": 10,
   "metadata": {},
   "outputs": [
    {
     "data": {
      "text/plain": [
       "-0.38460756552620307"
      ]
     },
     "execution_count": 10,
     "metadata": {},
     "output_type": "execute_result"
    }
   ],
   "source": [
    "(dems_prec[0] - reps_prec[0]) / pop_prec[0]"
   ]
  },
  {
   "cell_type": "code",
   "execution_count": 10,
   "metadata": {},
   "outputs": [],
   "source": [
    "ascending_DPC = []\n",
    "\n",
    "for i in range(len(pop_prec)):\n",
    "    if pop_prec[i] != 0:\n",
    "        ascending_DPC.append([(dems_prec[i] - reps_prec[i]) / pop_prec[i], i])"
   ]
  },
  {
   "cell_type": "code",
   "execution_count": 11,
   "metadata": {},
   "outputs": [
    {
     "data": {
      "text/plain": [
       "8634"
      ]
     },
     "execution_count": 11,
     "metadata": {},
     "output_type": "execute_result"
    }
   ],
   "source": [
    "len(ascending_DPC)"
   ]
  },
  {
   "cell_type": "code",
   "execution_count": 12,
   "metadata": {},
   "outputs": [
    {
     "data": {
      "text/plain": [
       "[[-0.13669754072181411, 0],\n",
       " [-0.21314102564102563, 1],\n",
       " [-0.2723669309173273, 2],\n",
       " [-0.24219841639496972, 3],\n",
       " [-0.25840336134453784, 4],\n",
       " [0.04288407163053723, 5],\n",
       " [0.10842237586423632, 6],\n",
       " [0.03633060853769301, 7],\n",
       " [-0.15886524822695036, 8],\n",
       " [-0.032203864463735646, 9]]"
      ]
     },
     "execution_count": 12,
     "metadata": {},
     "output_type": "execute_result"
    }
   ],
   "source": [
    "ascending_DPC[:10]"
   ]
  },
  {
   "cell_type": "code",
   "execution_count": 13,
   "metadata": {},
   "outputs": [],
   "source": [
    "ascending_DPC.sort()"
   ]
  },
  {
   "cell_type": "code",
   "execution_count": 14,
   "metadata": {
    "scrolled": true
   },
   "outputs": [
    {
     "data": {
      "text/plain": [
       "[[-4.714285714285714, 7829],\n",
       " [-3.227777777777778, 6022],\n",
       " [-1.9898477157360406, 6023],\n",
       " [-1.0338983050847457, 8628],\n",
       " [-1.0, 4560],\n",
       " [-1.0, 4599],\n",
       " [-1.0, 4943],\n",
       " [-0.8571428571428571, 5060],\n",
       " [-0.8333333333333334, 4709],\n",
       " [-0.8085106382978723, 5288]]"
      ]
     },
     "execution_count": 14,
     "metadata": {},
     "output_type": "execute_result"
    }
   ],
   "source": [
    "ascending_DPC[:10]"
   ]
  },
  {
   "cell_type": "code",
   "execution_count": 15,
   "metadata": {},
   "outputs": [],
   "source": [
    "descending_DPC = ascending_DPC.copy()\n",
    "descending_DPC.reverse()"
   ]
  },
  {
   "cell_type": "code",
   "execution_count": 16,
   "metadata": {
    "scrolled": true
   },
   "outputs": [
    {
     "data": {
      "text/plain": [
       "[[4.157894736842105, 3418],\n",
       " [1.75, 2988],\n",
       " [1.5, 2994],\n",
       " [1.5, 816],\n",
       " [1.0, 7413],\n",
       " [1.0, 4992],\n",
       " [1.0, 3062],\n",
       " [1.0, 3027],\n",
       " [1.0, 968],\n",
       " [0.92, 6785]]"
      ]
     },
     "execution_count": 16,
     "metadata": {},
     "output_type": "execute_result"
    }
   ],
   "source": [
    "descending_DPC[:10]"
   ]
  },
  {
   "cell_type": "code",
   "execution_count": 17,
   "metadata": {},
   "outputs": [
    {
     "data": {
      "text/plain": [
       "[[-4.714285714285714, 7829],\n",
       " [-3.227777777777778, 6022],\n",
       " [-1.9898477157360406, 6023],\n",
       " [-1.0338983050847457, 8628],\n",
       " [-1.0, 4560],\n",
       " [-1.0, 4599],\n",
       " [-1.0, 4943],\n",
       " [-0.8571428571428571, 5060],\n",
       " [-0.8333333333333334, 4709],\n",
       " [-0.8085106382978723, 5288]]"
      ]
     },
     "execution_count": 17,
     "metadata": {},
     "output_type": "execute_result"
    }
   ],
   "source": [
    "ascending_DPC[:10]"
   ]
  },
  {
   "cell_type": "code",
   "execution_count": 18,
   "metadata": {
    "scrolled": true
   },
   "outputs": [
    {
     "name": "stdout",
     "output_type": "stream",
     "text": [
      "698487.8055555555\n"
     ]
    }
   ],
   "source": [
    "I = pop_count/36\n",
    "print(I)"
   ]
  },
  {
   "cell_type": "code",
   "execution_count": 19,
   "metadata": {},
   "outputs": [],
   "source": [
    "pop_counter = 0\n",
    "dem_qdist_1 = []\n",
    "dem_qdist_2 = []\n",
    "\n",
    "for j in descending_DPC:\n",
    "    if pop_counter <= I:\n",
    "        dem_qdist_1.append(j[1])\n",
    "        pop_counter += graph.nodes[j[1]][TOTPOP]\n",
    "    elif pop_counter > I and pop_counter <= 2*I:\n",
    "        dem_qdist_2.append(j[1])\n",
    "        pop_counter += graph.nodes[j[1]][TOTPOP]\n",
    "    else:\n",
    "        break"
   ]
  },
  {
   "cell_type": "code",
   "execution_count": 20,
   "metadata": {},
   "outputs": [
    {
     "name": "stdout",
     "output_type": "stream",
     "text": [
      "0.0731084833331031 0.1612265854933206\n",
      "0.1109692922846619\n"
     ]
    }
   ],
   "source": [
    "dem_votes_qdist_1 = 0\n",
    "rep_votes_qdist_1 = 0\n",
    "total_pop_qdist_1 = 0\n",
    "dem_votes_qdist_2 = 0\n",
    "rep_votes_qdist_2 = 0\n",
    "total_pop_qdist_2 = 0\n",
    "\n",
    "for n in dem_qdist_1:\n",
    "    dem_votes_qdist_1 += graph.nodes[n][DEMVOTE]\n",
    "    rep_votes_qdist_1 += graph.nodes[n][REPVOTE]\n",
    "    total_pop_qdist_1 += graph.nodes[n][TOTPOP]\n",
    "    \n",
    "for n in dem_qdist_2:\n",
    "    dem_votes_qdist_2 += graph.nodes[n][DEMVOTE]\n",
    "    rep_votes_qdist_2 += graph.nodes[n][REPVOTE]\n",
    "    total_pop_qdist_2 += graph.nodes[n][TOTPOP]\n",
    "    \n",
    "votes_qdist_1 = rep_votes_qdist_1 + dem_votes_qdist_1\n",
    "votes_qdist_2 = rep_votes_qdist_2 + dem_votes_qdist_2\n",
    "\n",
    "rep_vs_qdist_1 = rep_votes_qdist_1 / votes_qdist_1\n",
    "rep_vs_qdist_2 = rep_votes_qdist_2 / votes_qdist_2\n",
    "\n",
    "print(rep_vs_qdist_1, rep_vs_qdist_2)\n",
    "\n",
    "overall_rep_vs = (rep_votes_qdist_1 + rep_votes_qdist_2) / (votes_qdist_1 + votes_qdist_2)\n",
    "print(overall_rep_vs)"
   ]
  },
  {
   "cell_type": "code",
   "execution_count": 23,
   "metadata": {},
   "outputs": [],
   "source": [
    "pop_counter = 0\n",
    "rep_qdist_1 = []\n",
    "rep_qdist_2 = []\n",
    "\n",
    "for j in ascending_DPC:\n",
    "    if pop_counter <= I:\n",
    "        rep_qdist_1.append(j[1])\n",
    "        pop_counter += graph.nodes[j[1]][TOTPOP]\n",
    "    elif pop_counter > I and pop_counter <= 2*I:\n",
    "        rep_qdist_2.append(j[1])\n",
    "        pop_counter += graph.nodes[j[1]][TOTPOP]\n",
    "    else:\n",
    "        break"
   ]
  },
  {
   "cell_type": "code",
   "execution_count": 24,
   "metadata": {},
   "outputs": [
    {
     "name": "stdout",
     "output_type": "stream",
     "text": [
      "0.8410830359458935 0.8206926608170143\n",
      "0.8316152871707079\n"
     ]
    }
   ],
   "source": [
    "dem_votes_qdist_1 = 0\n",
    "rep_votes_qdist_1 = 0\n",
    "total_pop_qdist_1 = 0\n",
    "dem_votes_qdist_2 = 0\n",
    "rep_votes_qdist_2 = 0\n",
    "total_pop_qdist_2 = 0\n",
    "\n",
    "for n in rep_qdist_1:\n",
    "    dem_votes_qdist_1 += graph.nodes[n][DEMVOTE]\n",
    "    rep_votes_qdist_1 += graph.nodes[n][REPVOTE]\n",
    "    total_pop_qdist_1 += graph.nodes[n][TOTPOP]\n",
    "    \n",
    "for n in rep_qdist_2:\n",
    "    dem_votes_qdist_2 += graph.nodes[n][DEMVOTE]\n",
    "    rep_votes_qdist_2 += graph.nodes[n][REPVOTE]\n",
    "    total_pop_qdist_2 += graph.nodes[n][TOTPOP]\n",
    "    \n",
    "votes_qdist_1 = rep_votes_qdist_1 + dem_votes_qdist_1\n",
    "votes_qdist_2 = rep_votes_qdist_2 + dem_votes_qdist_2\n",
    "\n",
    "rep_vs_qdist_1 = rep_votes_qdist_1 / votes_qdist_1\n",
    "rep_vs_qdist_2 = rep_votes_qdist_2 / votes_qdist_2\n",
    "\n",
    "print(rep_vs_qdist_1, rep_vs_qdist_2)\n",
    "\n",
    "overall_rep_vs = (rep_votes_qdist_1 + rep_votes_qdist_2) / (votes_qdist_1 + votes_qdist_2)\n",
    "print(overall_rep_vs)"
   ]
  },
  {
   "cell_type": "code",
   "execution_count": null,
   "metadata": {},
   "outputs": [],
   "source": []
  }
 ],
 "metadata": {
  "kernelspec": {
   "display_name": "Python 3",
   "language": "python",
   "name": "python3"
  },
  "language_info": {
   "codemirror_mode": {
    "name": "ipython",
    "version": 3
   },
   "file_extension": ".py",
   "mimetype": "text/x-python",
   "name": "python",
   "nbconvert_exporter": "python",
   "pygments_lexer": "ipython3",
   "version": "3.7.3"
  }
 },
 "nbformat": 4,
 "nbformat_minor": 2
}
