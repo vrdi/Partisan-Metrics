{
 "cells": [
  {
   "cell_type": "code",
   "execution_count": 21,
   "metadata": {},
   "outputs": [],
   "source": [
    "import os\n",
    "from functools import partial\n",
    "import json\n",
    "import csv\n",
    "\n",
    "import geopandas as gpd\n",
    "import matplotlib.pyplot as plt\n",
    "import networkx as nx\n",
    "import pandas as pd\n",
    "import numpy as np\n",
    "from tqdm import tqdm_notebook\n",
    "\n",
    "from gerrychain import (\n",
    "    Election,\n",
    "    Graph,\n",
    "    MarkovChain,\n",
    "    Partition,\n",
    "    accept,\n",
    "    constraints,\n",
    "    updaters,\n",
    ")\n",
    "\n",
    "from gerrychain.metrics import efficiency_gap, mean_median, partisan_gini\n",
    "from gerrychain.proposals import recom\n",
    "from gerrychain.updaters import cut_edges\n",
    "from gerrychain.tree import recursive_tree_part"
   ]
  },
  {
   "cell_type": "code",
   "execution_count": 2,
   "metadata": {},
   "outputs": [],
   "source": [
    "graph_path = \"./utah.json\"\n",
    "graph = Graph.from_json(graph_path)\n",
    "with open (graph_path, \"r\") as myfile:\n",
    "    data=myfile.readlines()\n",
    "graph_dict = json.loads(data[0])"
   ]
  },
  {
   "cell_type": "code",
   "execution_count": 29,
   "metadata": {},
   "outputs": [],
   "source": [
    "with open(\"test.csv\", mode=\"w\") as test:\n",
    "    data_writer = csv.writer(test, delimiter=\",\", quotechar='\"', quoting=csv.QUOTE_MINIMAL)   \n",
    "    \n",
    "    data_writer.writerow([\"dem_votes\", \"rep_votes\", \"prec_pop\", \"node_num\"])\n",
    "\n",
    "    for n in graph.nodes:\n",
    "        data_writer.writerow([graph.nodes[n][\"SEN16D\"],\n",
    "                  graph.nodes[n][\"SEN16R\"],\n",
    "                  graph.nodes[n][\"TOTPOP\"],\n",
    "                  graph.nodes[n][\"PrcncID\"]])"
   ]
  },
  {
   "cell_type": "code",
   "execution_count": 3,
   "metadata": {},
   "outputs": [
    {
     "name": "stdout",
     "output_type": "stream",
     "text": [
      "2764056.0566752497\n"
     ]
    }
   ],
   "source": [
    "pop_count = 0\n",
    "\n",
    "for i in graph.nodes:\n",
    "    pop_count += graph.nodes[i][\"TOTPOP\"]\n",
    "    \n",
    "print(pop_count)"
   ]
  },
  {
   "cell_type": "code",
   "execution_count": 4,
   "metadata": {},
   "outputs": [
    {
     "name": "stdout",
     "output_type": "stream",
     "text": [
      "CPU times: user 4.66 s, sys: 67.3 ms, total: 4.73 s\n",
      "Wall time: 4.89 s\n"
     ]
    }
   ],
   "source": [
    "%%time\n",
    "num_dist = 4\n",
    "\n",
    "# Exercise: Compute exact population from your data.\n",
    "pop = pop_count\n",
    "\n",
    "my_updaters = {\n",
    "    \"population\": updaters.Tally(\"TOTPOP\", alias=\"population\"),\n",
    "    \"cut_edges\": cut_edges,\n",
    "    \"SEN16\": Election(\"SEN16\", {\"democratic\":\"SEN16D\",\"republican\":\"SEN16R\"}),\n",
    "    \"PRES16\": Election(\"SEN16\", {\"democratic\":\"PRES16D\",\"republican\":\"PRES16R\"}),\n",
    "    \"GOV16\": Election(\"SEN16\", {\"democratic\":\"GOV16D\",\"republican\":\"GOV16R\"})\n",
    "}\n",
    "\n",
    "\n",
    "new_plan = recursive_tree_part(graph,\n",
    "                               range(num_dist),\n",
    "                               pop/num_dist,\n",
    "                               \"TOTPOP\",\n",
    "                               0.004,\n",
    "                               1)\n",
    "initial_partition = Partition(graph,\n",
    "                              new_plan,\n",
    "                              my_updaters)"
   ]
  },
  {
   "cell_type": "raw",
   "metadata": {},
   "source": []
  },
  {
   "cell_type": "code",
   "execution_count": 20,
   "metadata": {},
   "outputs": [
    {
     "data": {
      "text/plain": [
       "{'boundary_node': True,\n",
       " 'boundary_perim': 2498.664338104136,\n",
       " 'area': 751464858.6173844,\n",
       " 'CountyID': 7,\n",
       " 'VistaID': 'DU11',\n",
       " 'PrcncID': 'DU11',\n",
       " 'SbPrcnc': None,\n",
       " 'AliasNm': None,\n",
       " 'DsslvID': '7PDU11',\n",
       " 'cnty_nm': 'Duchesne County',\n",
       " 'cnty_fp': 49013,\n",
       " 'jrsdctn': 'Duchesne',\n",
       " 'PRES16D': 20.0,\n",
       " 'PRES16R': 219,\n",
       " 'PRES16I': 17,\n",
       " 'SEN16D': 27,\n",
       " 'SEN16R': 221,\n",
       " 'GOV16D': 24,\n",
       " 'GOV16R': 215,\n",
       " 'TOTPOP': 504.4102544747859,\n",
       " 'NH_WHITE': 430.29685596634425,\n",
       " 'NH_BLACK': 0.004635374238234,\n",
       " 'NH_AMIN': 1.01699533316232,\n",
       " 'NH_ASIAN': 1.001545124746078,\n",
       " 'NH_NHPI': 0.004635374238234,\n",
       " 'NH_OTHER': 5.473073877000391,\n",
       " 'NH_2MORE': 6.001544832824667,\n",
       " 'HISP': 60.610968592231686,\n",
       " 'H_WHITE': 18.991745359867213,\n",
       " 'H_BLACK': 0.004635374238234,\n",
       " 'H_AMIN': 3.003090249492156,\n",
       " 'H_ASIAN': 0.003090249492156,\n",
       " 'H_NHPI': 0.0,\n",
       " 'H_OTHER': 36.25389455933765,\n",
       " 'H_2MORE': 2.354512799804279,\n",
       " 'VAP': 337.0797582972571,\n",
       " 'HVAP': 33.244119822079185,\n",
       " 'WVAP': 298.57512561836774,\n",
       " 'BVAP': 0.004635374238234,\n",
       " 'AMINVAP': 1.01699533316232,\n",
       " 'ASIANVAP': 1.001545124746078,\n",
       " 'NHPIVAP': 0.004635374238234,\n",
       " 'OTHERVAP': 3.231156525679183,\n",
       " '2MOREVAP': 0.001545124746078,\n",
       " 'CD': 1.0,\n",
       " 'SENDIST': 26.0,\n",
       " 'HDIST': 69.0}"
      ]
     },
     "execution_count": 20,
     "metadata": {},
     "output_type": "execute_result"
    }
   ],
   "source": [
    "graph.nodes[0]"
   ]
  },
  {
   "cell_type": "code",
   "execution_count": 9,
   "metadata": {},
   "outputs": [
    {
     "data": {
      "application/vnd.jupyter.widget-view+json": {
       "model_id": "42b68731fbd5427f857509df95e60576",
       "version_major": 2,
       "version_minor": 0
      },
      "text/plain": [
       "HBox(children=(IntProgress(value=0, max=2123), HTML(value='')))"
      ]
     },
     "metadata": {},
     "output_type": "display_data"
    },
    {
     "name": "stdout",
     "output_type": "stream",
     "text": [
      "\n"
     ]
    }
   ],
   "source": [
    "pop_prec = []\n",
    "reps_prec = []\n",
    "dems_prec = []\n",
    "\n",
    "for n in tqdm_notebook(graph.nodes):\n",
    "    pop_prec.append(graph.nodes[n][\"TOTPOP\"])\n",
    "    reps_prec.append(graph.nodes[n][\"SEN16R\"])\n",
    "    dems_prec.append(graph.nodes[n][\"SEN16D\"])"
   ]
  },
  {
   "cell_type": "code",
   "execution_count": 10,
   "metadata": {},
   "outputs": [
    {
     "data": {
      "text/plain": [
       "-0.38460756552620307"
      ]
     },
     "execution_count": 10,
     "metadata": {},
     "output_type": "execute_result"
    }
   ],
   "source": [
    "(dems_prec[0] - reps_prec[0]) / pop_prec[0]"
   ]
  },
  {
   "cell_type": "code",
   "execution_count": 79,
   "metadata": {},
   "outputs": [],
   "source": [
    "ascending_DPC = []\n",
    "\n",
    "for i in range(len(pop_prec)):\n",
    "    if pop_prec[i] != 0:\n",
    "        ascending_DPC.append([(dems_prec[i] - reps_prec[i]) / pop_prec[i], i])"
   ]
  },
  {
   "cell_type": "code",
   "execution_count": 80,
   "metadata": {},
   "outputs": [
    {
     "data": {
      "text/plain": [
       "2119"
      ]
     },
     "execution_count": 80,
     "metadata": {},
     "output_type": "execute_result"
    }
   ],
   "source": [
    "len(ascending_DPC)"
   ]
  },
  {
   "cell_type": "code",
   "execution_count": 81,
   "metadata": {},
   "outputs": [
    {
     "data": {
      "text/plain": [
       "[[-0.38460756552620307, 0],\n",
       " [-0.3130068205501431, 1],\n",
       " [-0.28875666363466074, 2],\n",
       " [-0.3016532241283324, 3],\n",
       " [-0.16906031750569048, 4],\n",
       " [-0.32026278007817355, 5],\n",
       " [-0.16872770425064787, 6],\n",
       " [-0.15076657045552386, 7],\n",
       " [-0.33661980586580514, 8],\n",
       " [-0.15659297915626635, 9]]"
      ]
     },
     "execution_count": 81,
     "metadata": {},
     "output_type": "execute_result"
    }
   ],
   "source": [
    "ascending_DPC[:10]"
   ]
  },
  {
   "cell_type": "code",
   "execution_count": 82,
   "metadata": {},
   "outputs": [],
   "source": [
    "ascending_DPC.sort()"
   ]
  },
  {
   "cell_type": "code",
   "execution_count": 83,
   "metadata": {
    "scrolled": true
   },
   "outputs": [
    {
     "data": {
      "text/plain": [
       "[[-33.47983173963706, 1362],\n",
       " [-23.7976727460307, 1829],\n",
       " [-20.22352546835022, 1670],\n",
       " [-14.031384817544831, 1252],\n",
       " [-10.502181943758941, 1313],\n",
       " [-6.687244415233582, 1311],\n",
       " [-6.660755182224414, 1169],\n",
       " [-6.371563798385555, 1351],\n",
       " [-5.0321267703814705, 1689],\n",
       " [-3.976267330082986, 713]]"
      ]
     },
     "execution_count": 83,
     "metadata": {},
     "output_type": "execute_result"
    }
   ],
   "source": [
    "ascending_DPC[:10]"
   ]
  },
  {
   "cell_type": "code",
   "execution_count": 85,
   "metadata": {},
   "outputs": [],
   "source": [
    "descending_DPC = ascending_DPC.copy()\n",
    "descending_DPC.reverse()"
   ]
  },
  {
   "cell_type": "code",
   "execution_count": 86,
   "metadata": {
    "scrolled": true
   },
   "outputs": [
    {
     "data": {
      "text/plain": [
       "[[13167.481966601481, 1629],\n",
       " [1.6727098944409131, 949],\n",
       " [0.5673002453763357, 944],\n",
       " [0.5224389262643541, 1879],\n",
       " [0.5056939270948492, 904],\n",
       " [0.4880164482201221, 923],\n",
       " [0.4592834882284874, 926],\n",
       " [0.45871102012966836, 910],\n",
       " [0.4438528834219532, 1893],\n",
       " [0.4045767740199276, 60]]"
      ]
     },
     "execution_count": 86,
     "metadata": {},
     "output_type": "execute_result"
    }
   ],
   "source": [
    "descending_DPC[:10]"
   ]
  },
  {
   "cell_type": "code",
   "execution_count": 87,
   "metadata": {},
   "outputs": [
    {
     "data": {
      "text/plain": [
       "[[-33.47983173963706, 1362],\n",
       " [-23.7976727460307, 1829],\n",
       " [-20.22352546835022, 1670],\n",
       " [-14.031384817544831, 1252],\n",
       " [-10.502181943758941, 1313],\n",
       " [-6.687244415233582, 1311],\n",
       " [-6.660755182224414, 1169],\n",
       " [-6.371563798385555, 1351],\n",
       " [-5.0321267703814705, 1689],\n",
       " [-3.976267330082986, 713]]"
      ]
     },
     "execution_count": 87,
     "metadata": {},
     "output_type": "execute_result"
    }
   ],
   "source": [
    "ascending_DPC[:10]"
   ]
  },
  {
   "cell_type": "code",
   "execution_count": 36,
   "metadata": {
    "scrolled": true
   },
   "outputs": [
    {
     "name": "stdout",
     "output_type": "stream",
     "text": [
      "691014.0141688124\n"
     ]
    }
   ],
   "source": [
    "I = pop_count/4\n",
    "print(I)"
   ]
  },
  {
   "cell_type": "code",
   "execution_count": 111,
   "metadata": {},
   "outputs": [],
   "source": [
    "pop_counter = 0\n",
    "dem_qdist_1 = []\n",
    "dem_qdist_2 = []\n",
    "\n",
    "for j in descending_DPC:\n",
    "    if pop_counter <= I:\n",
    "        dem_qdist_1.append(j[1])\n",
    "        pop_counter += graph.nodes[j[1]][\"TOTPOP\"]\n",
    "    elif pop_counter > I and pop_counter <= 2*I:\n",
    "        dem_qdist_2.append(j[1])\n",
    "        pop_counter += graph.nodes[j[1]][\"TOTPOP\"]\n",
    "    else:\n",
    "        break"
   ]
  },
  {
   "cell_type": "code",
   "execution_count": 119,
   "metadata": {},
   "outputs": [
    {
     "name": "stdout",
     "output_type": "stream",
     "text": [
      "0.42558558047923367 0.6721111941795372\n",
      "0.5510361257965515\n"
     ]
    }
   ],
   "source": [
    "dem_votes_qdist_1 = 0\n",
    "rep_votes_qdist_1 = 0\n",
    "total_pop_qdist_1 = 0\n",
    "dem_votes_qdist_2 = 0\n",
    "rep_votes_qdist_2 = 0\n",
    "total_pop_qdist_2 = 0\n",
    "\n",
    "for n in dem_qdist_1:\n",
    "    dem_votes_qdist_1 += graph.nodes[n][\"SEN16D\"]\n",
    "    rep_votes_qdist_1 += graph.nodes[n][\"SEN16R\"]\n",
    "    total_pop_qdist_1 += graph.nodes[n][\"TOTPOP\"]\n",
    "    \n",
    "for n in dem_qdist_2:\n",
    "    dem_votes_qdist_2 += graph.nodes[n][\"SEN16D\"]\n",
    "    rep_votes_qdist_2 += graph.nodes[n][\"SEN16R\"]\n",
    "    total_pop_qdist_2 += graph.nodes[n][\"TOTPOP\"]\n",
    "    \n",
    "votes_qdist_1 = rep_votes_qdist_1 + dem_votes_qdist_1\n",
    "votes_qdist_2 = rep_votes_qdist_2 + dem_votes_qdist_2\n",
    "\n",
    "rep_vs_qdist_1 = rep_votes_qdist_1 / votes_qdist_1\n",
    "rep_vs_qdist_2 = rep_votes_qdist_2 / votes_qdist_2\n",
    "\n",
    "print(rep_vs_qdist_1, rep_vs_qdist_2)\n",
    "\n",
    "overall_rep_vs = (rep_votes_qdist_1 + rep_votes_qdist_2) / (votes_qdist_1 + votes_qdist_2)\n",
    "print(overall_rep_vs)"
   ]
  },
  {
   "cell_type": "code",
   "execution_count": 120,
   "metadata": {},
   "outputs": [],
   "source": [
    "pop_counter = 0\n",
    "rep_qdist_1 = []\n",
    "rep_qdist_2 = []\n",
    "\n",
    "for j in ascending_DPC:\n",
    "    if pop_counter <= I:\n",
    "        rep_qdist_1.append(j[1])\n",
    "        pop_counter += graph.nodes[j[1]][\"TOTPOP\"]\n",
    "    elif pop_counter > I and pop_counter <= 2*I:\n",
    "        rep_qdist_2.append(j[1])\n",
    "        pop_counter += graph.nodes[j[1]][\"TOTPOP\"]\n",
    "    else:\n",
    "        break"
   ]
  },
  {
   "cell_type": "code",
   "execution_count": 121,
   "metadata": {},
   "outputs": [
    {
     "name": "stdout",
     "output_type": "stream",
     "text": [
      "0.8579890859102712 0.788031379787725\n",
      "0.8279558133637631\n"
     ]
    }
   ],
   "source": [
    "dem_votes_qdist_1 = 0\n",
    "rep_votes_qdist_1 = 0\n",
    "total_pop_qdist_1 = 0\n",
    "dem_votes_qdist_2 = 0\n",
    "rep_votes_qdist_2 = 0\n",
    "total_pop_qdist_2 = 0\n",
    "\n",
    "for n in rep_qdist_1:\n",
    "    dem_votes_qdist_1 += graph.nodes[n][\"SEN16D\"]\n",
    "    rep_votes_qdist_1 += graph.nodes[n][\"SEN16R\"]\n",
    "    total_pop_qdist_1 += graph.nodes[n][\"TOTPOP\"]\n",
    "    \n",
    "for n in rep_qdist_2:\n",
    "    dem_votes_qdist_2 += graph.nodes[n][\"SEN16D\"]\n",
    "    rep_votes_qdist_2 += graph.nodes[n][\"SEN16R\"]\n",
    "    total_pop_qdist_2 += graph.nodes[n][\"TOTPOP\"]\n",
    "    \n",
    "votes_qdist_1 = rep_votes_qdist_1 + dem_votes_qdist_1\n",
    "votes_qdist_2 = rep_votes_qdist_2 + dem_votes_qdist_2\n",
    "\n",
    "rep_vs_qdist_1 = rep_votes_qdist_1 / votes_qdist_1\n",
    "rep_vs_qdist_2 = rep_votes_qdist_2 / votes_qdist_2\n",
    "\n",
    "print(rep_vs_qdist_1, rep_vs_qdist_2)\n",
    "\n",
    "overall_rep_vs = (rep_votes_qdist_1 + rep_votes_qdist_2) / (votes_qdist_1 + votes_qdist_2)\n",
    "print(overall_rep_vs)"
   ]
  },
  {
   "cell_type": "code",
   "execution_count": null,
   "metadata": {},
   "outputs": [],
   "source": []
  }
 ],
 "metadata": {
  "kernelspec": {
   "display_name": "Python 3",
   "language": "python",
   "name": "python3"
  },
  "language_info": {
   "codemirror_mode": {
    "name": "ipython",
    "version": 3
   },
   "file_extension": ".py",
   "mimetype": "text/x-python",
   "name": "python",
   "nbconvert_exporter": "python",
   "pygments_lexer": "ipython3",
   "version": "3.7.3"
  }
 },
 "nbformat": 4,
 "nbformat_minor": 2
}
