{
 "cells": [
  {
   "cell_type": "code",
   "execution_count": 1,
   "metadata": {},
   "outputs": [],
   "source": [
    "import os\n",
    "from functools import partial\n",
    "import json\n",
    "import csv\n",
    "\n",
    "import geopandas as gpd\n",
    "import matplotlib.pyplot as plt\n",
    "import networkx as nx\n",
    "import pandas as pd\n",
    "import numpy as np\n",
    "from tqdm import tqdm_notebook\n",
    "\n",
    "from gerrychain import (\n",
    "    Election,\n",
    "    Graph,\n",
    "    MarkovChain,\n",
    "    Partition,\n",
    "    accept,\n",
    "    constraints,\n",
    "    updaters,\n",
    ")\n",
    "\n",
    "from gerrychain.metrics import efficiency_gap, mean_median, partisan_gini\n",
    "from gerrychain.proposals import recom\n",
    "from gerrychain.updaters import cut_edges\n",
    "from gerrychain.tree import recursive_tree_part"
   ]
  },
  {
   "cell_type": "code",
   "execution_count": 2,
   "metadata": {},
   "outputs": [],
   "source": [
    "graph_path = \"./missouri.json\"\n",
    "graph = Graph.from_json(graph_path)\n",
    "with open (graph_path, \"r\") as myfile:\n",
    "    data=myfile.readlines()\n",
    "graph_dict = json.loads(data[0])"
   ]
  },
  {
   "cell_type": "code",
   "execution_count": 29,
   "metadata": {},
   "outputs": [],
   "source": [
    "with open(\"test.csv\", mode=\"w\") as test:\n",
    "    data_writer = csv.writer(test, delimiter=\",\", quotechar='\"', quoting=csv.QUOTE_MINIMAL)   \n",
    "    \n",
    "    data_writer.writerow([\"dem_votes\", \"rep_votes\", \"prec_pop\", \"node_num\"])\n",
    "\n",
    "    for n in graph.nodes:\n",
    "        data_writer.writerow([graph.nodes[n][\"SEN16D\"],\n",
    "                  graph.nodes[n][\"SEN16R\"],\n",
    "                  graph.nodes[n][\"TOTPOP\"],\n",
    "                  graph.nodes[n][\"PrcncID\"]])"
   ]
  },
  {
   "cell_type": "code",
   "execution_count": 6,
   "metadata": {
    "scrolled": true
   },
   "outputs": [
    {
     "data": {
      "text/plain": [
       "{'boundary_node': False,\n",
       " 'area': 117386667.93554994,\n",
       " 'STATEFP10': '29',\n",
       " 'COUNTYFP10': '003',\n",
       " 'VTDST10': '21',\n",
       " 'GEOID10': '2900321',\n",
       " 'VTDI10': 'P',\n",
       " 'NAME10': 'Clay',\n",
       " 'NAMELSAD10': 'Clay Voting District',\n",
       " 'LSAD10': 'V2',\n",
       " 'MTFCC10': 'G5240',\n",
       " 'FUNCSTAT10': 'S',\n",
       " 'ALAND10': 117237507,\n",
       " 'AWATER10': 161472,\n",
       " 'INTPTLAT10': '+40.0917961',\n",
       " 'INTPTLON10': '-094.9668992',\n",
       " 'POP100': 259,\n",
       " 'VAP': 183,\n",
       " 'COUNTY': 'ANDREW',\n",
       " 'PR_RV08': 79.0,\n",
       " 'PR_DV08': 27.0,\n",
       " 'PR_OTHV08': 2.0,\n",
       " 'USH_DV08': 25.0,\n",
       " 'USH_RV08': 81.0,\n",
       " 'GOV_DV08': 42.0,\n",
       " 'GOV_RV08': 63.0,\n",
       " 'LG_RV08': 78.0,\n",
       " 'LG_DV08': 21.0,\n",
       " 'SS_DV08': 48.0,\n",
       " 'SS_RV08': 53.0,\n",
       " 'TR_OTHV08': 2.0,\n",
       " 'TR_DV08': 22.0,\n",
       " 'TR_RV08': 81.0,\n",
       " 'AG_RV08': 69.0,\n",
       " 'AG_DV08': 29.0,\n",
       " 'GOV_OTHV08': 1.0,\n",
       " 'LG_OTH08': 4.0,\n",
       " 'SS_OTHV08': 4.0,\n",
       " 'SUMVAP': 183,\n",
       " 'VAPSHARE': 1.0,\n",
       " 'P_08': 0.25471699238,\n",
       " 'USH_08': 0.23584905267,\n",
       " 'GOV_08': 0.40000000596,\n",
       " 'TR_08': 0.21359223127,\n",
       " 'AG_08': 0.29591837525,\n",
       " 'LG_08': 0.21212121844,\n",
       " 'AV': 0.268699646,\n",
       " 'NDV': 29.0195617676,\n",
       " 'NRV': 78.9804382324,\n",
       " 'CD': '06'}"
      ]
     },
     "execution_count": 6,
     "metadata": {},
     "output_type": "execute_result"
    }
   ],
   "source": [
    "graph.nodes[2]"
   ]
  },
  {
   "cell_type": "code",
   "execution_count": 7,
   "metadata": {},
   "outputs": [
    {
     "name": "stdout",
     "output_type": "stream",
     "text": [
      "5843434\n"
     ]
    }
   ],
   "source": [
    "pop_count = 0\n",
    "\n",
    "for i in graph.nodes:\n",
    "    pop_count += graph.nodes[i][\"POP100\"]\n",
    "    \n",
    "print(pop_count)"
   ]
  },
  {
   "cell_type": "code",
   "execution_count": 9,
   "metadata": {},
   "outputs": [
    {
     "name": "stdout",
     "output_type": "stream",
     "text": [
      "CPU times: user 8.68 s, sys: 154 ms, total: 8.84 s\n",
      "Wall time: 8.97 s\n"
     ]
    }
   ],
   "source": [
    "%%time\n",
    "num_dist = 8\n",
    "\n",
    "# Exercise: Compute exact population from your data.\n",
    "pop = pop_count\n",
    "\n",
    "my_updaters = {\n",
    "    \"population\": updaters.Tally(\"TOTPOP\", alias=\"population\"),\n",
    "    \"cut_edges\": cut_edges,\n",
    "    \"SS08\": Election(\"SS08\", {\"democratic\":\"SS_DV08\",\"republican\":\"SS_RV08\"})\n",
    "}\n",
    "\n",
    "\n",
    "new_plan = recursive_tree_part(graph,\n",
    "                               range(num_dist),\n",
    "                               pop/num_dist,\n",
    "                               \"POP100\",\n",
    "                               0.004,\n",
    "                               1)\n",
    "initial_partition = Partition(graph,\n",
    "                              new_plan,\n",
    "                              my_updaters)"
   ]
  },
  {
   "cell_type": "code",
   "execution_count": 10,
   "metadata": {},
   "outputs": [
    {
     "data": {
      "application/vnd.jupyter.widget-view+json": {
       "model_id": "8ad76cea0b794e6c9745e5680a574c84",
       "version_major": 2,
       "version_minor": 0
      },
      "text/plain": [
       "HBox(children=(IntProgress(value=0, max=4707), HTML(value='')))"
      ]
     },
     "metadata": {},
     "output_type": "display_data"
    },
    {
     "name": "stdout",
     "output_type": "stream",
     "text": [
      "\n"
     ]
    }
   ],
   "source": [
    "pop_prec = []\n",
    "reps_prec = []\n",
    "dems_prec = []\n",
    "\n",
    "for n in tqdm_notebook(graph.nodes):\n",
    "    pop_prec.append(graph.nodes[n][\"POP100\"])\n",
    "    reps_prec.append(graph.nodes[n][\"SS_RV08\"])\n",
    "    dems_prec.append(graph.nodes[n][\"SS_DV08\"])"
   ]
  },
  {
   "cell_type": "code",
   "execution_count": 10,
   "metadata": {},
   "outputs": [
    {
     "data": {
      "text/plain": [
       "-0.38460756552620307"
      ]
     },
     "execution_count": 10,
     "metadata": {},
     "output_type": "execute_result"
    }
   ],
   "source": [
    "(dems_prec[0] - reps_prec[0]) / pop_prec[0]"
   ]
  },
  {
   "cell_type": "code",
   "execution_count": 14,
   "metadata": {},
   "outputs": [],
   "source": [
    "ascending_DPC = []\n",
    "\n",
    "for i in range(len(pop_prec)):\n",
    "    if pop_prec[i] != 0:\n",
    "        ascending_DPC.append([(dems_prec[i] - reps_prec[i]) / pop_prec[i], i])"
   ]
  },
  {
   "cell_type": "code",
   "execution_count": 12,
   "metadata": {},
   "outputs": [
    {
     "data": {
      "text/plain": [
       "4484"
      ]
     },
     "execution_count": 12,
     "metadata": {},
     "output_type": "execute_result"
    }
   ],
   "source": [
    "len(ascending_DPC)"
   ]
  },
  {
   "cell_type": "code",
   "execution_count": 15,
   "metadata": {},
   "outputs": [
    {
     "data": {
      "text/plain": [
       "[[0.03360957642725598, 0],\n",
       " [0.041666666666666664, 1],\n",
       " [-0.019305019305019305, 2],\n",
       " [-0.00936768149882904, 3],\n",
       " [0.019021739130434784, 4],\n",
       " [0.028368794326241134, 5],\n",
       " [0.06408094435075885, 6],\n",
       " [0.02258064516129032, 7],\n",
       " [-0.02422145328719723, 8],\n",
       " [0.11475409836065574, 9]]"
      ]
     },
     "execution_count": 15,
     "metadata": {},
     "output_type": "execute_result"
    }
   ],
   "source": [
    "ascending_DPC[:10]"
   ]
  },
  {
   "cell_type": "code",
   "execution_count": 16,
   "metadata": {},
   "outputs": [],
   "source": [
    "ascending_DPC.sort()"
   ]
  },
  {
   "cell_type": "code",
   "execution_count": 20,
   "metadata": {
    "scrolled": true
   },
   "outputs": [
    {
     "data": {
      "text/plain": [
       "[[-0.2490566037735849, 74],\n",
       " [-0.24871794871794872, 73],\n",
       " [-0.21524663677130046, 64],\n",
       " [-0.20903954802259886, 1706],\n",
       " [-0.2, 65],\n",
       " [-0.19480519480519481, 67],\n",
       " [-0.19318181818181818, 4260],\n",
       " [-0.18882978723404256, 1953],\n",
       " [-0.15717092337917485, 4687],\n",
       " [-0.156794425087108, 1707]]"
      ]
     },
     "execution_count": 20,
     "metadata": {},
     "output_type": "execute_result"
    }
   ],
   "source": [
    "ascending_DPC[:10]"
   ]
  },
  {
   "cell_type": "code",
   "execution_count": 18,
   "metadata": {},
   "outputs": [],
   "source": [
    "descending_DPC = ascending_DPC.copy()\n",
    "descending_DPC.reverse()"
   ]
  },
  {
   "cell_type": "code",
   "execution_count": 21,
   "metadata": {
    "scrolled": true
   },
   "outputs": [
    {
     "data": {
      "text/plain": [
       "[[1.5, 2420],\n",
       " [0.8753246753246753, 2299],\n",
       " [0.8181818181818182, 4524],\n",
       " [0.7865168539325843, 4556],\n",
       " [0.7742663656884876, 1491],\n",
       " [0.6993006993006993, 4523],\n",
       " [0.6972477064220184, 4631],\n",
       " [0.6953807811566667, 1443],\n",
       " [0.6771561771561772, 4492],\n",
       " [0.6288556424503586, 1486]]"
      ]
     },
     "execution_count": 21,
     "metadata": {},
     "output_type": "execute_result"
    }
   ],
   "source": [
    "descending_DPC[:10]"
   ]
  },
  {
   "cell_type": "code",
   "execution_count": 87,
   "metadata": {},
   "outputs": [
    {
     "data": {
      "text/plain": [
       "[[-33.47983173963706, 1362],\n",
       " [-23.7976727460307, 1829],\n",
       " [-20.22352546835022, 1670],\n",
       " [-14.031384817544831, 1252],\n",
       " [-10.502181943758941, 1313],\n",
       " [-6.687244415233582, 1311],\n",
       " [-6.660755182224414, 1169],\n",
       " [-6.371563798385555, 1351],\n",
       " [-5.0321267703814705, 1689],\n",
       " [-3.976267330082986, 713]]"
      ]
     },
     "execution_count": 87,
     "metadata": {},
     "output_type": "execute_result"
    }
   ],
   "source": [
    "ascending_DPC[:10]"
   ]
  },
  {
   "cell_type": "code",
   "execution_count": 22,
   "metadata": {
    "scrolled": true
   },
   "outputs": [
    {
     "name": "stdout",
     "output_type": "stream",
     "text": [
      "730429.25\n"
     ]
    }
   ],
   "source": [
    "I = pop_count/8\n",
    "print(I)"
   ]
  },
  {
   "cell_type": "code",
   "execution_count": 24,
   "metadata": {},
   "outputs": [],
   "source": [
    "pop_counter = 0\n",
    "dem_qdist_1 = []\n",
    "dem_qdist_2 = []\n",
    "\n",
    "for j in descending_DPC:\n",
    "    if pop_counter <= I:\n",
    "        dem_qdist_1.append(j[1])\n",
    "        pop_counter += graph.nodes[j[1]][\"POP100\"]\n",
    "    elif pop_counter > I and pop_counter <= 2*I:\n",
    "        dem_qdist_2.append(j[1])\n",
    "        pop_counter += graph.nodes[j[1]][\"POP100\"]\n",
    "    else:\n",
    "        break"
   ]
  },
  {
   "cell_type": "code",
   "execution_count": 25,
   "metadata": {},
   "outputs": [
    {
     "name": "stdout",
     "output_type": "stream",
     "text": [
      "0.11239639141363246 0.27391988415010965\n",
      "0.18822666239099747\n"
     ]
    }
   ],
   "source": [
    "dem_votes_qdist_1 = 0\n",
    "rep_votes_qdist_1 = 0\n",
    "total_pop_qdist_1 = 0\n",
    "dem_votes_qdist_2 = 0\n",
    "rep_votes_qdist_2 = 0\n",
    "total_pop_qdist_2 = 0\n",
    "\n",
    "for n in dem_qdist_1:\n",
    "    dem_votes_qdist_1 += graph.nodes[n][\"SS_DV08\"]\n",
    "    rep_votes_qdist_1 += graph.nodes[n][\"SS_RV08\"]\n",
    "    total_pop_qdist_1 += graph.nodes[n][\"POP100\"]\n",
    "    \n",
    "for n in dem_qdist_2:\n",
    "    dem_votes_qdist_2 += graph.nodes[n][\"SS_DV08\"]\n",
    "    rep_votes_qdist_2 += graph.nodes[n][\"SS_RV08\"]\n",
    "    total_pop_qdist_2 += graph.nodes[n][\"POP100\"]\n",
    "    \n",
    "votes_qdist_1 = rep_votes_qdist_1 + dem_votes_qdist_1\n",
    "votes_qdist_2 = rep_votes_qdist_2 + dem_votes_qdist_2\n",
    "\n",
    "rep_vs_qdist_1 = rep_votes_qdist_1 / votes_qdist_1\n",
    "rep_vs_qdist_2 = rep_votes_qdist_2 / votes_qdist_2\n",
    "\n",
    "print(rep_vs_qdist_1, rep_vs_qdist_2)\n",
    "\n",
    "overall_rep_vs = (rep_votes_qdist_1 + rep_votes_qdist_2) / (votes_qdist_1 + votes_qdist_2)\n",
    "print(overall_rep_vs)"
   ]
  },
  {
   "cell_type": "code",
   "execution_count": 26,
   "metadata": {},
   "outputs": [],
   "source": [
    "pop_counter = 0\n",
    "rep_qdist_1 = []\n",
    "rep_qdist_2 = []\n",
    "\n",
    "for j in ascending_DPC:\n",
    "    if pop_counter <= I:\n",
    "        rep_qdist_1.append(j[1])\n",
    "        pop_counter += graph.nodes[j[1]][\"POP100\"]\n",
    "    elif pop_counter > I and pop_counter <= 2*I:\n",
    "        rep_qdist_2.append(j[1])\n",
    "        pop_counter += graph.nodes[j[1]][\"POP100\"]\n",
    "    else:\n",
    "        break"
   ]
  },
  {
   "cell_type": "code",
   "execution_count": 27,
   "metadata": {},
   "outputs": [
    {
     "name": "stdout",
     "output_type": "stream",
     "text": [
      "0.5481209868370575 0.47443044583197963\n",
      "0.5128520526359723\n"
     ]
    }
   ],
   "source": [
    "dem_votes_qdist_1 = 0\n",
    "rep_votes_qdist_1 = 0\n",
    "total_pop_qdist_1 = 0\n",
    "dem_votes_qdist_2 = 0\n",
    "rep_votes_qdist_2 = 0\n",
    "total_pop_qdist_2 = 0\n",
    "\n",
    "for n in rep_qdist_1:\n",
    "    dem_votes_qdist_1 += graph.nodes[n][\"SS_DV08\"]\n",
    "    rep_votes_qdist_1 += graph.nodes[n][\"SS_RV08\"]\n",
    "    total_pop_qdist_1 += graph.nodes[n][\"POP100\"]\n",
    "    \n",
    "for n in rep_qdist_2:\n",
    "    dem_votes_qdist_2 += graph.nodes[n][\"SS_DV08\"]\n",
    "    rep_votes_qdist_2 += graph.nodes[n][\"SS_RV08\"]\n",
    "    total_pop_qdist_2 += graph.nodes[n][\"POP100\"]\n",
    "    \n",
    "votes_qdist_1 = rep_votes_qdist_1 + dem_votes_qdist_1\n",
    "votes_qdist_2 = rep_votes_qdist_2 + dem_votes_qdist_2\n",
    "\n",
    "rep_vs_qdist_1 = rep_votes_qdist_1 / votes_qdist_1\n",
    "rep_vs_qdist_2 = rep_votes_qdist_2 / votes_qdist_2\n",
    "\n",
    "print(rep_vs_qdist_1, rep_vs_qdist_2)\n",
    "\n",
    "overall_rep_vs = (rep_votes_qdist_1 + rep_votes_qdist_2) / (votes_qdist_1 + votes_qdist_2)\n",
    "print(overall_rep_vs)"
   ]
  },
  {
   "cell_type": "code",
   "execution_count": null,
   "metadata": {},
   "outputs": [],
   "source": []
  }
 ],
 "metadata": {
  "kernelspec": {
   "display_name": "Python 3",
   "language": "python",
   "name": "python3"
  },
  "language_info": {
   "codemirror_mode": {
    "name": "ipython",
    "version": 3
   },
   "file_extension": ".py",
   "mimetype": "text/x-python",
   "name": "python",
   "nbconvert_exporter": "python",
   "pygments_lexer": "ipython3",
   "version": "3.7.3"
  }
 },
 "nbformat": 4,
 "nbformat_minor": 2
}
