{
 "cells": [
  {
   "cell_type": "markdown",
   "metadata": {},
   "source": [
    "# Imports"
   ]
  },
  {
   "cell_type": "code",
   "execution_count": 64,
   "metadata": {},
   "outputs": [],
   "source": [
    "import os\n",
    "from functools import partial\n",
    "import json\n",
    "\n",
    "import geopandas as gpd\n",
    "import matplotlib.pyplot as plt\n",
    "import networkx as nx\n",
    "import pandas as pd\n",
    "import numpy as np\n",
    "from tqdm import tqdm_notebook\n",
    "\n",
    "from gerrychain import (\n",
    "    Election,\n",
    "    Graph,\n",
    "    MarkovChain,\n",
    "    Partition,\n",
    "    accept,\n",
    "    constraints,\n",
    "    updaters,\n",
    ")\n",
    "\n",
    "from gerrychain.metrics import efficiency_gap, mean_median, partisan_gini\n",
    "from gerrychain.proposals import recom\n",
    "from gerrychain.updaters import cut_edges\n",
    "from gerrychain.tree import recursive_tree_part"
   ]
  },
  {
   "cell_type": "markdown",
   "metadata": {},
   "source": [
    "# Downloading state data"
   ]
  },
  {
   "cell_type": "code",
   "execution_count": 65,
   "metadata": {},
   "outputs": [],
   "source": [
    "graph_path = \"./georgia.json\"\n",
    "graph = Graph.from_json(graph_path)\n",
    "with open (graph_path, \"r\") as myfile:\n",
    "    data=myfile.readlines()\n",
    "graph_dict = json.loads(data[0])"
   ]
  },
  {
   "cell_type": "markdown",
   "metadata": {},
   "source": [
    "# Chain stuff"
   ]
  },
  {
   "cell_type": "code",
   "execution_count": 66,
   "metadata": {},
   "outputs": [
    {
     "name": "stdout",
     "output_type": "stream",
     "text": [
      "9687653\n"
     ]
    }
   ],
   "source": [
    "pop_count = 0\n",
    "\n",
    "for i in graph.nodes:\n",
    "    pop_count += graph.nodes[i][\"TOTPOP\"]\n",
    "    \n",
    "print(pop_count)"
   ]
  },
  {
   "cell_type": "code",
   "execution_count": 67,
   "metadata": {},
   "outputs": [],
   "source": [
    "num_dist = 14\n",
    "\n",
    "# Exercise: Compute exact population from your data.\n",
    "pop = pop_count\n",
    "\n",
    "my_updaters = {\n",
    "    \"population\": updaters.Tally(\"TOTPOP\", alias=\"population\"),\n",
    "    \"cut_edges\": cut_edges,\n",
    "    \"SEN16\": Election(\"SEN16\", {\"democratic\":\"SEN16D\",\"republican\":\"SEN16R\"})\n",
    "}\n",
    "\n",
    "\n",
    "new_plan = recursive_tree_part(graph,\n",
    "                               range(num_dist),\n",
    "                               pop/num_dist,\n",
    "                               \"TOTPOP\",\n",
    "                               0.05,\n",
    "                               1)\n",
    "initial_partition = Partition(graph,\n",
    "                              new_plan,\n",
    "                              my_updaters)"
   ]
  },
  {
   "cell_type": "code",
   "execution_count": 68,
   "metadata": {},
   "outputs": [],
   "source": [
    "proposal = partial(recom,\n",
    "                   pop_col = \"TOTPOP\",\n",
    "                   pop_target = pop/num_dist,\n",
    "                   epsilon = 0.05,\n",
    "                   node_repeats = 3)\n",
    "\n",
    "compactness_bound = constraints.UpperBound(\n",
    "    lambda p: len(p[\"cut_edges\"]), 2 * len(initial_partition[\"cut_edges\"])\n",
    ")"
   ]
  },
  {
   "cell_type": "code",
   "execution_count": 69,
   "metadata": {},
   "outputs": [
    {
     "name": "stdout",
     "output_type": "stream",
     "text": [
      "CPU times: user 9.14 ms, sys: 167 µs, total: 9.31 ms\n",
      "Wall time: 9.27 ms\n"
     ]
    }
   ],
   "source": [
    "%%time\n",
    "chain = MarkovChain(\n",
    "    proposal=proposal,\n",
    "    constraints=[\n",
    "        constraints.within_percent_of_ideal_population(initial_partition, 0.3),\n",
    "        compactness_bound,\n",
    "    ],\n",
    "    accept=accept.always_accept,\n",
    "    initial_state=initial_partition,\n",
    "    total_steps=50000,\n",
    ")"
   ]
  },
  {
   "cell_type": "markdown",
   "metadata": {},
   "source": [
    "# Pulling data from chain run"
   ]
  },
  {
   "cell_type": "code",
   "execution_count": 70,
   "metadata": {},
   "outputs": [
    {
     "data": {
      "application/vnd.jupyter.widget-view+json": {
       "model_id": "1ca5158f325b4d23bea852788debd408",
       "version_major": 2,
       "version_minor": 0
      },
      "text/plain": [
       "HBox(children=(IntProgress(value=0, max=2664), HTML(value='')))"
      ]
     },
     "metadata": {},
     "output_type": "display_data"
    },
    {
     "name": "stdout",
     "output_type": "stream",
     "text": [
      "\n"
     ]
    }
   ],
   "source": [
    "# Changing data from strings to ints\n",
    "\n",
    "for node in tqdm_notebook(graph.nodes):\n",
    "    graph.nodes[node][\"SEN16D\"] = int(graph.nodes[node][\"SEN16D\"])\n",
    "    graph.nodes[node][\"SEN16R\"] = int(graph.nodes[node][\"SEN16R\"])"
   ]
  },
  {
   "cell_type": "code",
   "execution_count": 71,
   "metadata": {
    "scrolled": false
   },
   "outputs": [
    {
     "data": {
      "application/vnd.jupyter.widget-view+json": {
       "model_id": "5b974ed7fc8d458aa1ab8f5ee2f9027d",
       "version_major": 2,
       "version_minor": 0
      },
      "text/plain": [
       "HBox(children=(IntProgress(value=0, max=50000), HTML(value='')))"
      ]
     },
     "metadata": {},
     "output_type": "display_data"
    },
    {
     "name": "stdout",
     "output_type": "stream",
     "text": [
      "\n",
      "CPU times: user 1h 56min 10s, sys: 21.1 s, total: 1h 56min 32s\n",
      "Wall time: 2h 3min 11s\n"
     ]
    }
   ],
   "source": [
    "%%time\n",
    "\n",
    "triplets_full = []\n",
    "\n",
    "for step in tqdm_notebook(chain):\n",
    "    triplets_full.append([step[\"SEN16\"].wins(\"republican\"),\n",
    "                     mean_median(step[\"SEN16\"]),\n",
    "                     partisan_gini(step[\"SEN16\"])])"
   ]
  },
  {
   "cell_type": "code",
   "execution_count": 72,
   "metadata": {},
   "outputs": [
    {
     "data": {
      "application/vnd.jupyter.widget-view+json": {
       "model_id": "40d7a94fee194be989e263eedbc0f458",
       "version_major": 2,
       "version_minor": 0
      },
      "text/plain": [
       "HBox(children=(IntProgress(value=0, max=50000), HTML(value='')))"
      ]
     },
     "metadata": {},
     "output_type": "display_data"
    },
    {
     "name": "stdout",
     "output_type": "stream",
     "text": [
      "\n",
      "# of outlier districts: 4827\n",
      "CPU times: user 2h 33min 20s, sys: 1min 31s, total: 2h 34min 52s\n",
      "Wall time: 2h 43min 2s\n"
     ]
    }
   ],
   "source": [
    "%%time\n",
    "mm = []\n",
    "pg = []\n",
    "mm_winnowed = []\n",
    "pg_winnowed = []\n",
    "\n",
    "for triple in tqdm_notebook(triplets_full):\n",
    "    mm.append(triple[1])\n",
    "    pg.append(triple[2])\n",
    "    if triple[0] > (np.mean(triplets_full, axis=0)[0] + 2*np.std(triplets_full, axis = 0)[0]) or triple[0] < (np.mean(triplets_full, axis=0)[0] - 2*np.std(triplets_full, axis = 0)[0]):\n",
    "        mm_winnowed.append(triple[1])\n",
    "        pg_winnowed.append(triple[2])\n",
    "        \n",
    "print(\"# of outlier districts:\",len(mm_winnowed))"
   ]
  },
  {
   "cell_type": "markdown",
   "metadata": {},
   "source": [
    "# Visualization"
   ]
  },
  {
   "cell_type": "code",
   "execution_count": 113,
   "metadata": {},
   "outputs": [
    {
     "data": {
      "text/plain": [
       "Text(0.5, 0, 'Partisan Gini Score')"
      ]
     },
     "execution_count": 113,
     "metadata": {},
     "output_type": "execute_result"
    },
    {
     "data": {
      "image/png": "[encoded data removed]",
      "text/plain": [
       "<Figure size 720x576 with 4 Axes>"
      ]
     },
     "metadata": {
      "needs_background": "light"
     },
     "output_type": "display_data"
    }
   ],
   "source": [
    "fig, ax = plt.subplots(2,2, figsize=(10,8), sharex=\"col\", sharey=\"row\")\n",
    "\n",
    "plt.subplots_adjust(wspace=0.3, hspace=0.3)\n",
    "\n",
    "# Variables\n",
    "bins_num = 40\n",
    "bins_num_w = 40\n",
    "title = \"GA-S16: 50,000 ReCom plans\"\n",
    "num_outliers = str(len(mm_winnowed))\n",
    "pct_outliers = str(round(len(mm_winnowed) / 50000 * 100, 1))\n",
    "title_w = \"GA-S16: \" + num_outliers + \" outlier plans \" + \"(\" + pct_outliers + \"%)\"\n",
    "\n",
    "# Plotting the whole dataset\n",
    "ax[0,0].hist(mm, bins=bins_num)\n",
    "ax[0,1].hist(pg, bins=bins_num)\n",
    "\n",
    "ax[0,0].set_title(title)\n",
    "ax[0,0].set_ylabel(\"Frequency\")\n",
    "ax[0,0].set_xlabel(\"Mean-Median Score\")\n",
    "\n",
    "ax[0,1].set_title(title)\n",
    "ax[0,1].set_ylabel(\"Frequency\")\n",
    "ax[0,1].set_xlabel(\"Partisan Gini Score\")\n",
    "\n",
    "# Plotting the winnowed data\n",
    "ax[1,0].hist(mm_winnowed, bins=bins_num_w)\n",
    "ax[1,1].hist(pg_winnowed, bins=bins_num_w)\n",
    "\n",
    "ax[1,0].set_title(title_w)\n",
    "ax[1,0].set_ylabel(\"Frequency\")\n",
    "ax[1,0].set_xlabel(\"Mean-Median Score\")\n",
    "\n",
    "ax[1,1].set_title(title_w)\n",
    "ax[1,1].set_ylabel(\"Frequency\")\n",
    "ax[1,1].set_xlabel(\"Partisan Gini Score\")"
   ]
  },
  {
   "cell_type": "code",
   "execution_count": null,
   "metadata": {},
   "outputs": [],
   "source": []
  }
 ],
 "metadata": {
  "kernelspec": {
   "display_name": "Python 3",
   "language": "python",
   "name": "python3"
  },
  "language_info": {
   "codemirror_mode": {
    "name": "ipython",
    "version": 3
   },
   "file_extension": ".py",
   "mimetype": "text/x-python",
   "name": "python",
   "nbconvert_exporter": "python",
   "pygments_lexer": "ipython3",
   "version": "3.7.3"
  }
 },
 "nbformat": 4,
 "nbformat_minor": 2
}
