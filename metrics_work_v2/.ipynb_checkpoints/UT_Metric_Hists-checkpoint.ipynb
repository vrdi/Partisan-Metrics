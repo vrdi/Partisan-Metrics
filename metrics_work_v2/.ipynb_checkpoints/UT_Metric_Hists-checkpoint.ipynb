{
 "cells": [
  {
   "cell_type": "markdown",
   "metadata": {},
   "source": [
    "# Imports"
   ]
  },
  {
   "cell_type": "code",
   "execution_count": 2,
   "metadata": {},
   "outputs": [],
   "source": [
    "import os\n",
    "from functools import partial\n",
    "import json\n",
    "\n",
    "import geopandas as gpd\n",
    "import matplotlib.pyplot as plt\n",
    "import networkx as nx\n",
    "import pandas as pd\n",
    "import numpy as np\n",
    "from tqdm import tqdm_notebook\n",
    "\n",
    "from gerrychain import (\n",
    "    Election,\n",
    "    Graph,\n",
    "    MarkovChain,\n",
    "    Partition,\n",
    "    accept,\n",
    "    constraints,\n",
    "    updaters,\n",
    ")\n",
    "\n",
    "from gerrychain.metrics import efficiency_gap, mean_median, partisan_gini\n",
    "from gerrychain.proposals import recom\n",
    "from gerrychain.updaters import cut_edges\n",
    "from gerrychain.tree import recursive_tree_part"
   ]
  },
  {
   "cell_type": "markdown",
   "metadata": {},
   "source": [
    "# Downloading state data"
   ]
  },
  {
   "cell_type": "code",
   "execution_count": 3,
   "metadata": {},
   "outputs": [],
   "source": [
    "graph_path = \"./utah.json\"\n",
    "graph = Graph.from_json(graph_path)\n",
    "with open (graph_path, \"r\") as myfile:\n",
    "    data=myfile.readlines()\n",
    "graph_dict = json.loads(data[0])"
   ]
  },
  {
   "cell_type": "markdown",
   "metadata": {},
   "source": [
    "# Chain stuff"
   ]
  },
  {
   "cell_type": "code",
   "execution_count": 4,
   "metadata": {
    "scrolled": true
   },
   "outputs": [
    {
     "name": "stdout",
     "output_type": "stream",
     "text": [
      "2764056.0566752497\n"
     ]
    }
   ],
   "source": [
    "pop_count = 0\n",
    "\n",
    "for i in graph.nodes:\n",
    "    pop_count += graph.nodes[i][\"TOTPOP\"]\n",
    "    \n",
    "print(pop_count)"
   ]
  },
  {
   "cell_type": "code",
   "execution_count": 5,
   "metadata": {},
   "outputs": [
    {
     "data": {
      "text/plain": [
       "{'boundary_node': True,\n",
       " 'boundary_perim': 2498.664338104136,\n",
       " 'area': 751464858.6173844,\n",
       " 'CountyID': 7,\n",
       " 'VistaID': 'DU11',\n",
       " 'PrcncID': 'DU11',\n",
       " 'SbPrcnc': None,\n",
       " 'AliasNm': None,\n",
       " 'DsslvID': '7PDU11',\n",
       " 'cnty_nm': 'Duchesne County',\n",
       " 'cnty_fp': 49013,\n",
       " 'jrsdctn': 'Duchesne',\n",
       " 'PRES16D': 20.0,\n",
       " 'PRES16R': 219,\n",
       " 'PRES16I': 17,\n",
       " 'SEN16D': 27,\n",
       " 'SEN16R': 221,\n",
       " 'GOV16D': 24,\n",
       " 'GOV16R': 215,\n",
       " 'TOTPOP': 504.4102544747859,\n",
       " 'NH_WHITE': 430.29685596634425,\n",
       " 'NH_BLACK': 0.004635374238234,\n",
       " 'NH_AMIN': 1.01699533316232,\n",
       " 'NH_ASIAN': 1.001545124746078,\n",
       " 'NH_NHPI': 0.004635374238234,\n",
       " 'NH_OTHER': 5.473073877000391,\n",
       " 'NH_2MORE': 6.001544832824667,\n",
       " 'HISP': 60.610968592231686,\n",
       " 'H_WHITE': 18.991745359867213,\n",
       " 'H_BLACK': 0.004635374238234,\n",
       " 'H_AMIN': 3.003090249492156,\n",
       " 'H_ASIAN': 0.003090249492156,\n",
       " 'H_NHPI': 0.0,\n",
       " 'H_OTHER': 36.25389455933765,\n",
       " 'H_2MORE': 2.354512799804279,\n",
       " 'VAP': 337.0797582972571,\n",
       " 'HVAP': 33.244119822079185,\n",
       " 'WVAP': 298.57512561836774,\n",
       " 'BVAP': 0.004635374238234,\n",
       " 'AMINVAP': 1.01699533316232,\n",
       " 'ASIANVAP': 1.001545124746078,\n",
       " 'NHPIVAP': 0.004635374238234,\n",
       " 'OTHERVAP': 3.231156525679183,\n",
       " '2MOREVAP': 0.001545124746078,\n",
       " 'CD': 1.0,\n",
       " 'SENDIST': 26.0,\n",
       " 'HDIST': 69.0}"
      ]
     },
     "execution_count": 5,
     "metadata": {},
     "output_type": "execute_result"
    }
   ],
   "source": [
    "graph.nodes[0]"
   ]
  },
  {
   "cell_type": "code",
   "execution_count": 9,
   "metadata": {},
   "outputs": [
    {
     "name": "stdout",
     "output_type": "stream",
     "text": [
      "CPU times: user 3.97 s, sys: 46.2 ms, total: 4.02 s\n",
      "Wall time: 4.1 s\n"
     ]
    }
   ],
   "source": [
    "%%time\n",
    "num_dist = 4\n",
    "\n",
    "# Exercise: Compute exact population from your data.\n",
    "pop = pop_count\n",
    "\n",
    "my_updaters = {\n",
    "    \"population\": updaters.Tally(\"TOTPOP\", alias=\"population\"),\n",
    "    \"cut_edges\": cut_edges,\n",
    "    \"SEN16\": Election(\"SEN16\", {\"democratic\":\"SEN16D\",\"republican\":\"SEN16R\"}),\n",
    "    \"PRES16\": Election(\"SEN16\", {\"democratic\":\"PRES16D\",\"republican\":\"PRES16R\"}),\n",
    "    \"GOV16\": Election(\"SEN16\", {\"democratic\":\"GOV16D\",\"republican\":\"GOV16R\"})\n",
    "}\n",
    "\n",
    "\n",
    "new_plan = recursive_tree_part(graph,\n",
    "                               range(num_dist),\n",
    "                               pop/num_dist,\n",
    "                               \"TOTPOP\",\n",
    "                               0.005,\n",
    "                               1)\n",
    "initial_partition = Partition(graph,\n",
    "                              new_plan,\n",
    "                              my_updaters)"
   ]
  },
  {
   "cell_type": "code",
   "execution_count": 10,
   "metadata": {},
   "outputs": [
    {
     "name": "stdout",
     "output_type": "stream",
     "text": [
      "CPU times: user 17.3 ms, sys: 372 µs, total: 17.7 ms\n",
      "Wall time: 19.4 ms\n"
     ]
    }
   ],
   "source": [
    "%%time\n",
    "proposal = partial(recom,\n",
    "                   pop_col = \"TOTPOP\",\n",
    "                   pop_target = pop/num_dist,\n",
    "                   epsilon = 0.01,\n",
    "                   node_repeats = 3)\n",
    "\n",
    "compactness_bound = constraints.UpperBound(\n",
    "    lambda p: len(p[\"cut_edges\"]), 2 * len(initial_partition[\"cut_edges\"])\n",
    ")"
   ]
  },
  {
   "cell_type": "code",
   "execution_count": 11,
   "metadata": {},
   "outputs": [
    {
     "name": "stdout",
     "output_type": "stream",
     "text": [
      "CPU times: user 8.3 ms, sys: 497 µs, total: 8.8 ms\n",
      "Wall time: 10.4 ms\n"
     ]
    }
   ],
   "source": [
    "%%time\n",
    "chain = MarkovChain(\n",
    "    proposal=proposal,\n",
    "    constraints=[\n",
    "        constraints.within_percent_of_ideal_population(initial_partition, 0.01),\n",
    "        compactness_bound,\n",
    "    ],\n",
    "    accept=accept.always_accept,\n",
    "    initial_state=initial_partition,\n",
    "    total_steps=100,\n",
    ")"
   ]
  },
  {
   "cell_type": "markdown",
   "metadata": {},
   "source": [
    "# Pulling data from chain run"
   ]
  },
  {
   "cell_type": "code",
   "execution_count": 12,
   "metadata": {
    "scrolled": true
   },
   "outputs": [
    {
     "data": {
      "application/vnd.jupyter.widget-view+json": {
       "model_id": "ec5117ee801644e99e781220a0321524",
       "version_major": 2,
       "version_minor": 0
      },
      "text/plain": [
       "HBox(children=(IntProgress(value=0), HTML(value='')))"
      ]
     },
     "metadata": {},
     "output_type": "display_data"
    },
    {
     "name": "stdout",
     "output_type": "stream",
     "text": [
      "\n",
      "CPU times: user 1min 35s, sys: 842 ms, total: 1min 36s\n",
      "Wall time: 1min 36s\n"
     ]
    }
   ],
   "source": [
    "%%time\n",
    "\n",
    "SEN16triplets = []\n",
    "PRES16triplets = []\n",
    "GOV16triplets = []\n",
    "\n",
    "\n",
    "for step in tqdm_notebook(chain):\n",
    "    SEN16triplets.append([step[\"SEN16\"].wins(\"republican\"),\n",
    "                     mean_median(step[\"SEN16\"]),\n",
    "                     partisan_gini(step[\"SEN16\"])])\n",
    "    PRES16triplets.append([step[\"PRES16\"].wins(\"republican\"),\n",
    "                     mean_median(step[\"PRES16\"]),\n",
    "                     partisan_gini(step[\"PRES16\"])])\n",
    "    GOV16triplets.append([step[\"GOV16\"].wins(\"republican\"),\n",
    "                     mean_median(step[\"GOV16\"]),\n",
    "                     partisan_gini(step[\"GOV16\"])])"
   ]
  },
  {
   "cell_type": "code",
   "execution_count": 214,
   "metadata": {},
   "outputs": [
    {
     "data": {
      "application/vnd.jupyter.widget-view+json": {
       "model_id": "1e6334ec3444496892ef8feadee51dcf",
       "version_major": 2,
       "version_minor": 0
      },
      "text/plain": [
       "HBox(children=(IntProgress(value=0, max=10000), HTML(value='')))"
      ]
     },
     "metadata": {},
     "output_type": "display_data"
    },
    {
     "data": {
      "application/vnd.jupyter.widget-view+json": {
       "model_id": "848c26286e66471a99453d52ed141a02",
       "version_major": 2,
       "version_minor": 0
      },
      "text/plain": [
       "HBox(children=(IntProgress(value=0, max=10000), HTML(value='')))"
      ]
     },
     "metadata": {},
     "output_type": "display_data"
    },
    {
     "data": {
      "application/vnd.jupyter.widget-view+json": {
       "model_id": "93b37ee9118041ec8574bf4a9a87047f",
       "version_major": 2,
       "version_minor": 0
      },
      "text/plain": [
       "HBox(children=(IntProgress(value=0, max=10000), HTML(value='')))"
      ]
     },
     "metadata": {},
     "output_type": "display_data"
    },
    {
     "name": "stdout",
     "output_type": "stream",
     "text": [
      "CPU times: user 17min 21s, sys: 9.9 s, total: 17min 31s\n",
      "Wall time: 18min 19s\n"
     ]
    }
   ],
   "source": [
    "%%time\n",
    "SEN16mm = []\n",
    "SEN16pg = []\n",
    "SEN16mm_winnowed = []\n",
    "SEN16pg_winnowed = []\n",
    "PRES16mm = []\n",
    "PRES16pg = []\n",
    "PRES16mm_winnowed = []\n",
    "PRES16pg_winnowed = []\n",
    "GOV16mm = []\n",
    "GOV16pg = []\n",
    "GOV16mm_winnowed = []\n",
    "GOV16pg_winnowed = []\n",
    "\n",
    "for triple in tqdm_notebook(SEN16triplets):\n",
    "    SEN16mm.append(triple[1])\n",
    "    SEN16pg.append(triple[2])\n",
    "    if triple[0] > (np.mean(SEN16triplets, axis=0)[0] + 2*np.std(SEN16triplets, axis = 0)[0]) or triple[0] < (np.mean(SEN16triplets, axis=0)[0] - 2*np.std(SEN16triplets, axis = 0)[0]):\n",
    "        SEN16mm_winnowed.append(triple[1])\n",
    "        SEN16pg_winnowed.append(triple[2])\n",
    "        \n",
    "for triple in tqdm_notebook(PRES16triplets):\n",
    "    PRES16mm.append(triple[1])\n",
    "    PRES16pg.append(triple[2])\n",
    "    if triple[0] > (np.mean(PRES16triplets, axis=0)[0] + 2*np.std(PRES16triplets, axis = 0)[0]) or triple[0] < (np.mean(PRES16triplets, axis=0)[0] - 2*np.std(PRES16triplets, axis = 0)[0]):\n",
    "        PRES16mm_winnowed.append(triple[1])\n",
    "        PRES16pg_winnowed.append(triple[2])\n",
    "\n",
    "for triple in tqdm_notebook(GOV16triplets):\n",
    "    GOV16mm.append(triple[1])\n",
    "    GOV16pg.append(triple[2])\n",
    "    if triple[0] > (np.mean(GOV16triplets, axis=0)[0] + 2*np.std(GOV16triplets, axis = 0)[0]) or triple[0] < (np.mean(GOV16triplets, axis=0)[0] - 2*np.std(GOV16triplets, axis = 0)[0]):\n",
    "        GOV16mm_winnowed.append(triple[1])\n",
    "        GOV16pg_winnowed.append(triple[2])\n",
    "        \n"
   ]
  },
  {
   "cell_type": "markdown",
   "metadata": {},
   "source": [
    "# Visualization"
   ]
  },
  {
   "cell_type": "code",
   "execution_count": 219,
   "metadata": {},
   "outputs": [
    {
     "data": {
      "text/plain": [
       "Text(0.5, 0, 'Partisan Gini Score')"
      ]
     },
     "execution_count": 219,
     "metadata": {},
     "output_type": "execute_result"
    },
    {
     "data": {
      "image/png": "[encoded data removed]",
      "text/plain": [
       "<Figure size 720x576 with 4 Axes>"
      ]
     },
     "metadata": {
      "needs_background": "light"
     },
     "output_type": "display_data"
    }
   ],
   "source": [
    "fig, ax = plt.subplots(2,2, figsize=(10,8), sharex=\"col\", sharey=\"row\")\n",
    "\n",
    "plt.subplots_adjust(wspace=0.3, hspace=0.3)\n",
    "\n",
    "# Variables\n",
    "bins_num = 20\n",
    "bins_num_w = 20\n",
    "title = \"UT-S16: 10,000 ReCom plans\"\n",
    "num_outliers = str(len(SEN16mm_winnowed))\n",
    "pct_outliers = str(round(len(SEN16mm_winnowed) / 10000 * 100, 1))\n",
    "title_w = \"UT-S16: \" + num_outliers + \" outlier plans \" + \"(\" + pct_outliers + \"%)\"\n",
    "\n",
    "# Plotting the whole dataset\n",
    "ax[0,0].hist(SEN16mm, bins=bins_num)\n",
    "ax[0,1].hist(SEN16pg, bins=bins_num)\n",
    "\n",
    "ax[0,0].set_title(title)\n",
    "ax[0,0].set_ylabel(\"Frequency\")\n",
    "ax[0,0].set_xlabel(\"Mean-Median Score\")\n",
    "\n",
    "ax[0,1].set_title(title)\n",
    "ax[0,1].set_ylabel(\"Frequency\")\n",
    "ax[0,1].set_xlabel(\"Partisan Gini Score\")\n",
    "\n",
    "# Plotting the winnowed data\n",
    "ax[1,0].hist(SEN16mm_winnowed, bins=bins_num_w)\n",
    "ax[1,1].hist(SEN16pg_winnowed, bins=bins_num_w)\n",
    "\n",
    "ax[1,0].set_title(title_w)\n",
    "ax[1,0].set_ylabel(\"Frequency\")\n",
    "ax[1,0].set_xlabel(\"Mean-Median Score\")\n",
    "\n",
    "ax[1,1].set_title(title_w)\n",
    "ax[1,1].set_ylabel(\"Frequency\")\n",
    "ax[1,1].set_xlabel(\"Partisan Gini Score\")"
   ]
  },
  {
   "cell_type": "code",
   "execution_count": 218,
   "metadata": {},
   "outputs": [
    {
     "data": {
      "text/plain": [
       "Text(0.5, 0, 'Partisan Gini Score')"
      ]
     },
     "execution_count": 218,
     "metadata": {},
     "output_type": "execute_result"
    },
    {
     "data": {
      "image/png": "[encoded data removed]",
      "text/plain": [
       "<Figure size 720x576 with 4 Axes>"
      ]
     },
     "metadata": {
      "needs_background": "light"
     },
     "output_type": "display_data"
    }
   ],
   "source": [
    "fig, ax = plt.subplots(2,2, figsize=(10,8), sharex=\"col\", sharey=\"row\")\n",
    "\n",
    "plt.subplots_adjust(wspace=0.3, hspace=0.3)\n",
    "\n",
    "# Variables\n",
    "bins_num = 20\n",
    "bins_num_w = 20\n",
    "title = \"UT-PRES16: 1000 ReCom plans\"\n",
    "num_outliers = str(len(SEN16mm_winnowed))\n",
    "pct_outliers = str(round(len(SEN16mm_winnowed) / 1000 * 100, 1))\n",
    "title_w = \"UT-PRES16: \" + num_outliers + \" outlier plans \" + \"(\" + pct_outliers + \"%)\"\n",
    "\n",
    "# Plotting the whole dataset\n",
    "ax[0,0].hist(PRES16mm, bins=bins_num)\n",
    "ax[0,1].hist(PRES16pg, bins=bins_num)\n",
    "\n",
    "ax[0,0].set_title(title)\n",
    "ax[0,0].set_ylabel(\"Frequency\")\n",
    "ax[0,0].set_xlabel(\"Mean-Median Score\")\n",
    "\n",
    "ax[0,1].set_title(title)\n",
    "ax[0,1].set_ylabel(\"Frequency\")\n",
    "ax[0,1].set_xlabel(\"Partisan Gini Score\")\n",
    "\n",
    "# Plotting the winnowed data\n",
    "ax[1,0].hist(PRES16mm_winnowed, bins=bins_num_w)\n",
    "ax[1,1].hist(PRES16pg_winnowed, bins=bins_num_w)\n",
    "\n",
    "ax[1,0].set_title(title_w)\n",
    "ax[1,0].set_ylabel(\"Frequency\")\n",
    "ax[1,0].set_xlabel(\"Mean-Median Score\")\n",
    "\n",
    "ax[1,1].set_title(title_w)\n",
    "ax[1,1].set_ylabel(\"Frequency\")\n",
    "ax[1,1].set_xlabel(\"Partisan Gini Score\")"
   ]
  },
  {
   "cell_type": "code",
   "execution_count": null,
   "metadata": {},
   "outputs": [],
   "source": []
  }
 ],
 "metadata": {
  "kernelspec": {
   "display_name": "Python 3",
   "language": "python",
   "name": "python3"
  },
  "language_info": {
   "codemirror_mode": {
    "name": "ipython",
    "version": 3
   },
   "file_extension": ".py",
   "mimetype": "text/x-python",
   "name": "python",
   "nbconvert_exporter": "python",
   "pygments_lexer": "ipython3",
   "version": "3.7.3"
  }
 },
 "nbformat": 4,
 "nbformat_minor": 2
}
