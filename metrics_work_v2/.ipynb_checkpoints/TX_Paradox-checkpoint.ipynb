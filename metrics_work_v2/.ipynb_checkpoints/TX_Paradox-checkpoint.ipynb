{
 "cells": [
  {
   "cell_type": "code",
   "execution_count": 2,
   "metadata": {},
   "outputs": [],
   "source": [
    "import os\n",
    "from functools import partial\n",
    "import json\n",
    "import csv\n",
    "\n",
    "import geopandas as gpd\n",
    "import matplotlib.pyplot as plt\n",
    "import networkx as nx\n",
    "import pandas as pd\n",
    "import numpy as np\n",
    "from tqdm import tqdm_notebook\n",
    "\n",
    "from gerrychain import (\n",
    "    Election,\n",
    "    Graph,\n",
    "    MarkovChain,\n",
    "    Partition,\n",
    "    accept,\n",
    "    constraints,\n",
    "    updaters,\n",
    ")\n",
    "\n",
    "from gerrychain.metrics import efficiency_gap, mean_median, partisan_gini\n",
    "from gerrychain.proposals import recom\n",
    "from gerrychain.updaters import cut_edges\n",
    "from gerrychain.tree import recursive_tree_part"
   ]
  },
  {
   "cell_type": "code",
   "execution_count": 5,
   "metadata": {},
   "outputs": [],
   "source": [
    "graph_path = \"./MA_02_10.json\"\n",
    "graph = Graph.from_json(graph_path)\n",
    "with open (graph_path, \"r\") as myfile:\n",
    "    data=myfile.readlines()\n",
    "graph_dict = json.loads(data[0])"
   ]
  },
  {
   "cell_type": "code",
   "execution_count": 29,
   "metadata": {},
   "outputs": [],
   "source": [
    "with open(\"test.csv\", mode=\"w\") as test:\n",
    "    data_writer = csv.writer(test, delimiter=\",\", quotechar='\"', quoting=csv.QUOTE_MINIMAL)   \n",
    "    \n",
    "    data_writer.writerow([\"dem_votes\", \"rep_votes\", \"prec_pop\", \"node_num\"])\n",
    "\n",
    "    for n in graph.nodes:\n",
    "        data_writer.writerow([graph.nodes[n][\"SEN16D\"],\n",
    "                  graph.nodes[n][\"SEN16R\"],\n",
    "                  graph.nodes[n][\"TOTPOP\"],\n",
    "                  graph.nodes[n][\"PrcncID\"]])"
   ]
  },
  {
   "cell_type": "code",
   "execution_count": 8,
   "metadata": {
    "scrolled": true
   },
   "outputs": [
    {
     "data": {
      "text/plain": [
       "{'boundary_node': False,\n",
       " 'area': 9908136.500937812,\n",
       " 'STATEFP10': '25',\n",
       " 'COUNTYFP10': '027',\n",
       " 'VTDST10': '1929',\n",
       " 'GEOID10': '250271929',\n",
       " 'VTDI10': 'A',\n",
       " 'NAME10': 'Auburn Precinct 1',\n",
       " 'NAMELSAD10': 'Auburn Precinct 1',\n",
       " 'LSAD10': '00',\n",
       " 'MTFCC10': 'G5240',\n",
       " 'FUNCSTAT10': 'N',\n",
       " 'ALAND10': 9520890,\n",
       " 'AWATER10': 381891,\n",
       " 'INTPTLAT10': '+42.1867741',\n",
       " 'INTPTLON10': '-071.8266174',\n",
       " 'City/Town': 'Auburn',\n",
       " 'Ward': '-',\n",
       " 'Pct': '1',\n",
       " 'SEN02D': 1046,\n",
       " 'SEN02R': 264,\n",
       " 'PRES04D': 1006,\n",
       " 'PRES04R': 821,\n",
       " 'SEN06D': 808,\n",
       " 'SEN06R': 473,\n",
       " 'PRES08D': 946,\n",
       " 'PRES08R': 843,\n",
       " 'SEN08D': 1024,\n",
       " 'SEN08R': 702,\n",
       " 'SEN10R': 842,\n",
       " 'SEN10D': 500,\n",
       " 'POP2000': 3150,\n",
       " 'CD': '02'}"
      ]
     },
     "execution_count": 8,
     "metadata": {},
     "output_type": "execute_result"
    }
   ],
   "source": [
    "graph.nodes[135]"
   ]
  },
  {
   "cell_type": "code",
   "execution_count": 9,
   "metadata": {},
   "outputs": [
    {
     "name": "stdout",
     "output_type": "stream",
     "text": [
      "6345208\n"
     ]
    }
   ],
   "source": [
    "pop_count = 0\n",
    "\n",
    "for i in graph.nodes:\n",
    "    pop_count += graph.nodes[i][\"POP2000\"]\n",
    "    \n",
    "print(pop_count)"
   ]
  },
  {
   "cell_type": "code",
   "execution_count": 10,
   "metadata": {},
   "outputs": [
    {
     "name": "stdout",
     "output_type": "stream",
     "text": [
      "CPU times: user 3.41 s, sys: 41 ms, total: 3.45 s\n",
      "Wall time: 3.55 s\n"
     ]
    }
   ],
   "source": [
    "%%time\n",
    "num_dist = 9\n",
    "\n",
    "# Exercise: Compute exact population from your data.\n",
    "pop = pop_count\n",
    "\n",
    "my_updaters = {\n",
    "    \"population\": updaters.Tally(\"TOTPOP\", alias=\"population\"),\n",
    "    \"cut_edges\": cut_edges,\n",
    "    \"SEN08\": Election(\"SEN08\", {\"democratic\":\"SEN08D\",\"republican\":\"SEN08R\"})\n",
    "}\n",
    "\n",
    "\n",
    "new_plan = recursive_tree_part(graph,\n",
    "                               range(num_dist),\n",
    "                               pop/num_dist,\n",
    "                               \"POP2000\",\n",
    "                               0.004,\n",
    "                               1)\n",
    "initial_partition = Partition(graph,\n",
    "                              new_plan,\n",
    "                              my_updaters)"
   ]
  },
  {
   "cell_type": "code",
   "execution_count": 11,
   "metadata": {},
   "outputs": [
    {
     "data": {
      "application/vnd.jupyter.widget-view+json": {
       "model_id": "e33f24d8501c4ce78667d90db61f83e0",
       "version_major": 2,
       "version_minor": 0
      },
      "text/plain": [
       "HBox(children=(IntProgress(value=0, max=2156), HTML(value='')))"
      ]
     },
     "metadata": {},
     "output_type": "display_data"
    },
    {
     "name": "stdout",
     "output_type": "stream",
     "text": [
      "\n"
     ]
    }
   ],
   "source": [
    "pop_prec = []\n",
    "reps_prec = []\n",
    "dems_prec = []\n",
    "\n",
    "for n in tqdm_notebook(graph.nodes):\n",
    "    pop_prec.append(graph.nodes[n][\"POP2000\"])\n",
    "    reps_prec.append(graph.nodes[n][\"SEN08R\"])\n",
    "    dems_prec.append(graph.nodes[n][\"SEN08D\"])"
   ]
  },
  {
   "cell_type": "code",
   "execution_count": 10,
   "metadata": {},
   "outputs": [
    {
     "data": {
      "text/plain": [
       "-0.38460756552620307"
      ]
     },
     "execution_count": 10,
     "metadata": {},
     "output_type": "execute_result"
    }
   ],
   "source": [
    "(dems_prec[0] - reps_prec[0]) / pop_prec[0]"
   ]
  },
  {
   "cell_type": "code",
   "execution_count": 12,
   "metadata": {},
   "outputs": [],
   "source": [
    "ascending_DPC = []\n",
    "\n",
    "for i in range(len(pop_prec)):\n",
    "    if pop_prec[i] != 0:\n",
    "        ascending_DPC.append([(dems_prec[i] - reps_prec[i]) / pop_prec[i], i])"
   ]
  },
  {
   "cell_type": "code",
   "execution_count": 13,
   "metadata": {},
   "outputs": [
    {
     "data": {
      "text/plain": [
       "2155"
      ]
     },
     "execution_count": 13,
     "metadata": {},
     "output_type": "execute_result"
    }
   ],
   "source": [
    "len(ascending_DPC)"
   ]
  },
  {
   "cell_type": "code",
   "execution_count": 14,
   "metadata": {},
   "outputs": [
    {
     "data": {
      "text/plain": [
       "[[0.5286294791281861, 0],\n",
       " [0.34633735616053885, 1],\n",
       " [0.2007492975335623, 2],\n",
       " [0.19064966605950212, 3],\n",
       " [0.29475437135720234, 4],\n",
       " [0.3044013542628501, 5],\n",
       " [0.13661453541858326, 6],\n",
       " [0.21033210332103322, 7],\n",
       " [0.32798489853704577, 8],\n",
       " [0.20913016656384947, 9]]"
      ]
     },
     "execution_count": 14,
     "metadata": {},
     "output_type": "execute_result"
    }
   ],
   "source": [
    "ascending_DPC[:10]"
   ]
  },
  {
   "cell_type": "code",
   "execution_count": 15,
   "metadata": {},
   "outputs": [],
   "source": [
    "ascending_DPC.sort()"
   ]
  },
  {
   "cell_type": "code",
   "execution_count": 16,
   "metadata": {
    "scrolled": true
   },
   "outputs": [
    {
     "data": {
      "text/plain": [
       "[[-0.03835532371893219, 594],\n",
       " [-0.035525950596724955, 2041],\n",
       " [-0.027484939759036143, 710],\n",
       " [-0.027133166726169226, 998],\n",
       " [-0.020537124802527645, 1047],\n",
       " [-0.019223520542781758, 711],\n",
       " [-0.01737047020065888, 1138],\n",
       " [-0.012492563950029744, 1155],\n",
       " [-0.012, 538],\n",
       " [-0.009850275807722617, 2038]]"
      ]
     },
     "execution_count": 16,
     "metadata": {},
     "output_type": "execute_result"
    }
   ],
   "source": [
    "ascending_DPC[:10]"
   ]
  },
  {
   "cell_type": "code",
   "execution_count": 17,
   "metadata": {},
   "outputs": [],
   "source": [
    "descending_DPC = ascending_DPC.copy()\n",
    "descending_DPC.reverse()"
   ]
  },
  {
   "cell_type": "code",
   "execution_count": 20,
   "metadata": {
    "scrolled": true
   },
   "outputs": [
    {
     "data": {
      "text/plain": [
       "[[0.7180406212664278, 184],\n",
       " [0.6482558139534884, 2025],\n",
       " [0.6346020761245674, 338],\n",
       " [0.5996668517490283, 344],\n",
       " [0.5615384615384615, 1498],\n",
       " [0.5363800360793747, 428],\n",
       " [0.5312883435582823, 178],\n",
       " [0.5286294791281861, 0],\n",
       " [0.5115126785193821, 2057],\n",
       " [0.5014691478942214, 328]]"
      ]
     },
     "execution_count": 20,
     "metadata": {},
     "output_type": "execute_result"
    }
   ],
   "source": [
    "descending_DPC[:10]"
   ]
  },
  {
   "cell_type": "code",
   "execution_count": 21,
   "metadata": {},
   "outputs": [
    {
     "data": {
      "text/plain": [
       "[[-0.03835532371893219, 594],\n",
       " [-0.035525950596724955, 2041],\n",
       " [-0.027484939759036143, 710],\n",
       " [-0.027133166726169226, 998],\n",
       " [-0.020537124802527645, 1047],\n",
       " [-0.019223520542781758, 711],\n",
       " [-0.01737047020065888, 1138],\n",
       " [-0.012492563950029744, 1155],\n",
       " [-0.012, 538],\n",
       " [-0.009850275807722617, 2038]]"
      ]
     },
     "execution_count": 21,
     "metadata": {},
     "output_type": "execute_result"
    }
   ],
   "source": [
    "ascending_DPC[:10]"
   ]
  },
  {
   "cell_type": "code",
   "execution_count": 22,
   "metadata": {
    "scrolled": true
   },
   "outputs": [
    {
     "name": "stdout",
     "output_type": "stream",
     "text": [
      "705023.1111111111\n"
     ]
    }
   ],
   "source": [
    "I = pop_count/9\n",
    "print(I)"
   ]
  },
  {
   "cell_type": "code",
   "execution_count": 24,
   "metadata": {},
   "outputs": [],
   "source": [
    "pop_counter = 0\n",
    "dem_qdist_1 = []\n",
    "dem_qdist_2 = []\n",
    "\n",
    "for j in descending_DPC:\n",
    "    if pop_counter <= I:\n",
    "        dem_qdist_1.append(j[1])\n",
    "        pop_counter += graph.nodes[j[1]][\"POP2000\"]\n",
    "    elif pop_counter > I and pop_counter <= 2*I:\n",
    "        dem_qdist_2.append(j[1])\n",
    "        pop_counter += graph.nodes[j[1]][\"POP2000\"]\n",
    "    else:\n",
    "        break"
   ]
  },
  {
   "cell_type": "code",
   "execution_count": 25,
   "metadata": {},
   "outputs": [
    {
     "name": "stdout",
     "output_type": "stream",
     "text": [
      "0.1524636173754766 0.2306286298900194\n",
      "0.1896217588384531\n"
     ]
    }
   ],
   "source": [
    "dem_votes_qdist_1 = 0\n",
    "rep_votes_qdist_1 = 0\n",
    "total_pop_qdist_1 = 0\n",
    "dem_votes_qdist_2 = 0\n",
    "rep_votes_qdist_2 = 0\n",
    "total_pop_qdist_2 = 0\n",
    "\n",
    "for n in dem_qdist_1:\n",
    "    dem_votes_qdist_1 += graph.nodes[n][\"SEN08D\"]\n",
    "    rep_votes_qdist_1 += graph.nodes[n][\"SEN08R\"]\n",
    "    total_pop_qdist_1 += graph.nodes[n][\"POP2000\"]\n",
    "    \n",
    "for n in dem_qdist_2:\n",
    "    dem_votes_qdist_2 += graph.nodes[n][\"SEN08D\"]\n",
    "    rep_votes_qdist_2 += graph.nodes[n][\"SEN08R\"]\n",
    "    total_pop_qdist_2 += graph.nodes[n][\"POP2000\"]\n",
    "    \n",
    "votes_qdist_1 = rep_votes_qdist_1 + dem_votes_qdist_1\n",
    "votes_qdist_2 = rep_votes_qdist_2 + dem_votes_qdist_2\n",
    "\n",
    "rep_vs_qdist_1 = rep_votes_qdist_1 / votes_qdist_1\n",
    "rep_vs_qdist_2 = rep_votes_qdist_2 / votes_qdist_2\n",
    "\n",
    "print(rep_vs_qdist_1, rep_vs_qdist_2)\n",
    "\n",
    "overall_rep_vs = (rep_votes_qdist_1 + rep_votes_qdist_2) / (votes_qdist_1 + votes_qdist_2)\n",
    "print(overall_rep_vs)"
   ]
  },
  {
   "cell_type": "code",
   "execution_count": 27,
   "metadata": {},
   "outputs": [],
   "source": [
    "pop_counter = 0\n",
    "rep_qdist_1 = []\n",
    "rep_qdist_2 = []\n",
    "\n",
    "for j in ascending_DPC:\n",
    "    if pop_counter <= I:\n",
    "        rep_qdist_1.append(j[1])\n",
    "        pop_counter += graph.nodes[j[1]][\"POP2000\"]\n",
    "    elif pop_counter > I and pop_counter <= 2*I:\n",
    "        rep_qdist_2.append(j[1])\n",
    "        pop_counter += graph.nodes[j[1]][\"POP2000\"]\n",
    "    else:\n",
    "        break"
   ]
  },
  {
   "cell_type": "code",
   "execution_count": 29,
   "metadata": {},
   "outputs": [
    {
     "name": "stdout",
     "output_type": "stream",
     "text": [
      "0.4620794885212607 0.4125960399537792\n",
      "0.43871535872952494\n"
     ]
    }
   ],
   "source": [
    "dem_votes_qdist_1 = 0\n",
    "rep_votes_qdist_1 = 0\n",
    "total_pop_qdist_1 = 0\n",
    "dem_votes_qdist_2 = 0\n",
    "rep_votes_qdist_2 = 0\n",
    "total_pop_qdist_2 = 0\n",
    "\n",
    "for n in rep_qdist_1:\n",
    "    dem_votes_qdist_1 += graph.nodes[n][\"SEN08D\"]\n",
    "    rep_votes_qdist_1 += graph.nodes[n][\"SEN08R\"]\n",
    "    total_pop_qdist_1 += graph.nodes[n][\"POP2000\"]\n",
    "    \n",
    "for n in rep_qdist_2:\n",
    "    dem_votes_qdist_2 += graph.nodes[n][\"SEN08D\"]\n",
    "    rep_votes_qdist_2 += graph.nodes[n][\"SEN08R\"]\n",
    "    total_pop_qdist_2 += graph.nodes[n][\"POP2000\"]\n",
    "    \n",
    "votes_qdist_1 = rep_votes_qdist_1 + dem_votes_qdist_1\n",
    "votes_qdist_2 = rep_votes_qdist_2 + dem_votes_qdist_2\n",
    "\n",
    "rep_vs_qdist_1 = rep_votes_qdist_1 / votes_qdist_1\n",
    "rep_vs_qdist_2 = rep_votes_qdist_2 / votes_qdist_2\n",
    "\n",
    "print(rep_vs_qdist_1, rep_vs_qdist_2)\n",
    "\n",
    "overall_rep_vs = (rep_votes_qdist_1 + rep_votes_qdist_2) / (votes_qdist_1 + votes_qdist_2)\n",
    "print(overall_rep_vs)"
   ]
  },
  {
   "cell_type": "code",
   "execution_count": null,
   "metadata": {},
   "outputs": [],
   "source": []
  }
 ],
 "metadata": {
  "kernelspec": {
   "display_name": "Python 3",
   "language": "python",
   "name": "python3"
  },
  "language_info": {
   "codemirror_mode": {
    "name": "ipython",
    "version": 3
   },
   "file_extension": ".py",
   "mimetype": "text/x-python",
   "name": "python",
   "nbconvert_exporter": "python",
   "pygments_lexer": "ipython3",
   "version": "3.7.3"
  }
 },
 "nbformat": 4,
 "nbformat_minor": 2
}
