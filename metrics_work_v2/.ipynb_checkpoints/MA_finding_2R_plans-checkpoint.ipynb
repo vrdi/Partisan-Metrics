{
 "cells": [
  {
   "cell_type": "markdown",
   "metadata": {},
   "source": [
    "# Imports"
   ]
  },
  {
   "cell_type": "code",
   "execution_count": 1,
   "metadata": {},
   "outputs": [],
   "source": [
    "import os\n",
    "from functools import partial\n",
    "import json\n",
    "\n",
    "import geopandas as gpd\n",
    "import matplotlib.pyplot as plt\n",
    "import networkx as nx\n",
    "import pandas as pd\n",
    "import numpy as np\n",
    "from tqdm import tqdm_notebook\n",
    "import random\n",
    "\n",
    "from gerrychain import (\n",
    "    Election,\n",
    "    Graph,\n",
    "    MarkovChain,\n",
    "    Partition,\n",
    "    accept,\n",
    "    constraints,\n",
    "    updaters,\n",
    ")\n",
    "\n",
    "from gerrychain.metrics import efficiency_gap, mean_median, partisan_gini\n",
    "from gerrychain.proposals import recom\n",
    "from gerrychain.updaters import cut_edges\n",
    "from gerrychain.tree import recursive_tree_part"
   ]
  },
  {
   "cell_type": "markdown",
   "metadata": {},
   "source": [
    "# Downloading state data"
   ]
  },
  {
   "cell_type": "code",
   "execution_count": 2,
   "metadata": {},
   "outputs": [],
   "source": [
    "graph_path = \"./massachusetts.json\"\n",
    "graph = Graph.from_json(graph_path)\n",
    "with open (graph_path, \"r\") as myfile:\n",
    "    data=myfile.readlines()\n",
    "graph_dict = json.loads(data[0])"
   ]
  },
  {
   "cell_type": "markdown",
   "metadata": {},
   "source": [
    "# Chain stuff"
   ]
  },
  {
   "cell_type": "code",
   "execution_count": 3,
   "metadata": {},
   "outputs": [],
   "source": [
    "election = \"SEN14\""
   ]
  },
  {
   "cell_type": "code",
   "execution_count": 4,
   "metadata": {},
   "outputs": [],
   "source": [
    "for n in graph.nodes:\n",
    "    graph.nodes[n][election+\"D\"] = int(graph.nodes[n][election+\"D\"].replace(\",\",\"\"))\n",
    "    graph.nodes[n][election+\"R\"] = int(graph.nodes[n][election+\"R\"].replace(\",\",\"\"))"
   ]
  },
  {
   "cell_type": "code",
   "execution_count": 5,
   "metadata": {},
   "outputs": [
    {
     "name": "stdout",
     "output_type": "stream",
     "text": [
      "6728169.714491896\n"
     ]
    }
   ],
   "source": [
    "pop_count = 0\n",
    "\n",
    "for i in graph.nodes:\n",
    "    pop_count += graph.nodes[i][\"TOTPOP\"]\n",
    "    \n",
    "print(pop_count)"
   ]
  },
  {
   "cell_type": "code",
   "execution_count": 6,
   "metadata": {
    "scrolled": true
   },
   "outputs": [
    {
     "data": {
      "text/plain": [
       "{'boundary_node': True,\n",
       " 'boundary_perim': 0.14079928066162706,\n",
       " 'area': 0.0006839594270970608,\n",
       " 'District': '1-1',\n",
       " 'Name': 'Boston Ward 1 Precinct 1',\n",
       " 'Shape_Le_1': 0.2370997653,\n",
       " 'Shape_Area': 0.00068395943,\n",
       " 'City/Town': 'Boston',\n",
       " 'Ward': '1',\n",
       " 'Pct': '1',\n",
       " 'SEN12D': '604',\n",
       " 'SEN12R': '251',\n",
       " 'PRES12D': '645',\n",
       " 'PRES12R': '188',\n",
       " 'SEN13D': '241',\n",
       " 'SEN13R': '84',\n",
       " 'SEN14D': 439,\n",
       " 'SEN14R': 109,\n",
       " 'PRES16D': '755',\n",
       " 'PRES16R': '189',\n",
       " 'CD': '07',\n",
       " 'TOTPOP': 2127.1376074597397,\n",
       " 'NH_WHITE': 1232.8953012907173,\n",
       " 'NH_BLACK': 58.91581379295309,\n",
       " 'NH_AMIN': 11.999999891822892,\n",
       " 'NH_ASIAN': 66.91581078543187,\n",
       " 'NH_NHPI': 1.000000016734194,\n",
       " 'NH_OTHER': 44.747434355389224,\n",
       " 'HISP': 710.6632473266911,\n",
       " 'H_WHITE': 428.83162612047374,\n",
       " 'H_BLACK': 37.00000046135009,\n",
       " 'H_AMIN': 4.999999662849095,\n",
       " 'H_ASIAN': 5.999999756691586,\n",
       " 'H_NHPI': 4.999999786413395,\n",
       " 'H_OTHER': 228.83162153891337,\n",
       " 'VAP': 1714.474357046681,\n",
       " 'HVAP': 502.8316220818222,\n",
       " 'WVAP': 1071.8952982689327,\n",
       " 'BVAP': 37.91581339079269,\n",
       " 'AMINVAP': 2.999999979631399,\n",
       " 'ASIANVAP': 44.915811911161995,\n",
       " 'NHPIVAP': 0.0,\n",
       " 'OTHERVAP': 26.915810881128152,\n",
       " '2MOREVAP': 27.000000533211583}"
      ]
     },
     "execution_count": 6,
     "metadata": {},
     "output_type": "execute_result"
    }
   ],
   "source": [
    "graph.nodes[0]"
   ]
  },
  {
   "cell_type": "code",
   "execution_count": 7,
   "metadata": {},
   "outputs": [
    {
     "name": "stdout",
     "output_type": "stream",
     "text": [
      "CPU times: user 3.85 s, sys: 94 ms, total: 3.95 s\n",
      "Wall time: 3.96 s\n"
     ]
    }
   ],
   "source": [
    "%%time\n",
    "num_dist = 9\n",
    "\n",
    "# Exercise: Compute exact population from your data.\n",
    "pop = pop_count\n",
    "\n",
    "my_updaters = {\n",
    "    \"population\": updaters.Tally(\"TOTPOP\", alias=\"population\"),\n",
    "    \"cut_edges\": cut_edges,\n",
    "    election: Election(election, {\"democratic\":\"SEN14D\",\"republican\":\"SEN14R\"})\n",
    "}\n",
    "\n",
    "\n",
    "new_plan = recursive_tree_part(graph,\n",
    "                               range(num_dist),\n",
    "                               pop/num_dist,\n",
    "                               \"TOTPOP\",\n",
    "                               0.005,\n",
    "                               3)\n",
    "initial_partition = Partition(graph,\n",
    "                              new_plan,\n",
    "                              my_updaters)\n",
    "\n",
    "proposal = partial(recom,\n",
    "                   pop_col = \"TOTPOP\",\n",
    "                   pop_target = pop/num_dist,\n",
    "                   epsilon = 0.009,\n",
    "                   node_repeats = 3)\n",
    "\n",
    "compactness_bound = constraints.UpperBound(\n",
    "    lambda p: len(p[\"cut_edges\"]), 2 * len(initial_partition[\"cut_edges\"])\n",
    ")"
   ]
  },
  {
   "cell_type": "markdown",
   "metadata": {},
   "source": [
    "## Acceptance Functions"
   ]
  },
  {
   "cell_type": "code",
   "execution_count": 8,
   "metadata": {},
   "outputs": [
    {
     "name": "stdout",
     "output_type": "stream",
     "text": [
      "CPU times: user 6 µs, sys: 3 µs, total: 9 µs\n",
      "Wall time: 13.1 µs\n"
     ]
    }
   ],
   "source": [
    "%%time\n",
    "def push_rep(partition):\n",
    "    bound = 1\n",
    "    if partition.parent is not None:\n",
    "        if sorted(partition.parent[election].percents(\"republican\"))[-1] >= sorted(partition[election].percents(\"republican\"))[-1]:\n",
    "            bound = 0\n",
    "    return random.random() < bound"
   ]
  },
  {
   "cell_type": "code",
   "execution_count": 9,
   "metadata": {},
   "outputs": [
    {
     "name": "stdout",
     "output_type": "stream",
     "text": [
      "CPU times: user 5 µs, sys: 0 ns, total: 5 µs\n",
      "Wall time: 10 µs\n"
     ]
    }
   ],
   "source": [
    "%%time\n",
    "def one_rep(partition):\n",
    "    bound = 1\n",
    "    if partition.parent is not None:\n",
    "        if sorted(partition.parent[election].percents(\"republican\"))[-1] < 0.5:\n",
    "            if sorted(partition.parent[election].percents(\"republican\"))[-1] >= sorted(partition[election].percents(\"republican\"))[-1]:\n",
    "                bound = 0\n",
    "        else:\n",
    "            if sorted(partition[election].percents(\"republican\"))[-1] < 0.5:\n",
    "                bound = 0      \n",
    "    return random.random() < bound"
   ]
  },
  {
   "cell_type": "code",
   "execution_count": 10,
   "metadata": {},
   "outputs": [
    {
     "name": "stdout",
     "output_type": "stream",
     "text": [
      "CPU times: user 5 µs, sys: 1 µs, total: 6 µs\n",
      "Wall time: 9.06 µs\n"
     ]
    }
   ],
   "source": [
    "%%time \n",
    "def one_rep_probabalistic(partition):\n",
    "    parent_percents = sorted(partition.parent[election].percents(\"republican\"), reverse=True)\n",
    "    percents = sorted(partition[election].percents(\"republican\"), reverse=True)\n",
    "    \n",
    "    bound = 1\n",
    "    \n",
    "    if partition.parent is not None:\n",
    "        if parent_percents[0] < 0.5:\n",
    "            if parent_percents[0] >= percents[0]:\n",
    "                bound = 10 * (parent_percents[0] - percents[0]) # If 0R, choose a worse 0R partition very rarely (proportional to how much of a loss it is)\n",
    "        else:\n",
    "            if percents[0] < 0.5:\n",
    "                bound = 0 # If 1R, don't choose a 0R partition\n",
    "                            \n",
    "    return random.random() < bound"
   ]
  },
  {
   "cell_type": "code",
   "execution_count": 11,
   "metadata": {},
   "outputs": [
    {
     "name": "stdout",
     "output_type": "stream",
     "text": [
      "CPU times: user 4 µs, sys: 1 µs, total: 5 µs\n",
      "Wall time: 10 µs\n"
     ]
    }
   ],
   "source": [
    "%%time\n",
    "def two_rep_probabalistic(partition):\n",
    "    parent_percents = sorted(partition.parent[election].percents(\"republican\"), reverse=True)\n",
    "    percents = sorted(partition[election].percents(\"republican\"), reverse=True)\n",
    "    \n",
    "    bound = 1\n",
    "    \n",
    "    if partition.parent is not None:\n",
    "        if parent_percents[0] < 0.5:\n",
    "            if parent_percents[0] >= percents[0]:\n",
    "                bound = 10 * (parent_percents[0] - percents[0]) # If 0R, choose a 0R partition very rarely (proportional to how much of a loss it is)\n",
    "        else:\n",
    "            if percents[0] < 0.5:\n",
    "                bound = 0 # If 1R, don't choose a 0R partition\n",
    "            else:\n",
    "                if parent_percents[1] < 0.5:\n",
    "                    if parent_percents[1] >= percents[1]:\n",
    "                        bound = 10 * (parent_percents[1] - percents[1]) # If 1R, choose a worse 1R partition very rarely (proportional to the loss)\n",
    "                    else:\n",
    "                        if percents[1] < 0.5:\n",
    "                            bound = 0 # If 2R, don't choose a 1R partition\n",
    "                            \n",
    "    return random.random() < bound"
   ]
  },
  {
   "cell_type": "markdown",
   "metadata": {},
   "source": [
    "# Pulling data from chain run"
   ]
  },
  {
   "cell_type": "code",
   "execution_count": null,
   "metadata": {
    "scrolled": true
   },
   "outputs": [
    {
     "data": {
      "application/vnd.jupyter.widget-view+json": {
       "model_id": "92b4b9eeffb7452c99efff1d1976519c",
       "version_major": 2,
       "version_minor": 0
      },
      "text/plain": [
       "HBox(children=(IntProgress(value=0, max=10000), HTML(value='')))"
      ]
     },
     "metadata": {},
     "output_type": "display_data"
    }
   ],
   "source": [
    "%%time\n",
    "\n",
    "last_step = Partition(graph,\n",
    "                     dict(step.assignment),\n",
    "                     my_updaters)\n",
    "\n",
    "chain = MarkovChain(\n",
    "    proposal=proposal,\n",
    "    constraints=[\n",
    "        constraints.within_percent_of_ideal_population(initial_partition, 0.01),\n",
    "        compactness_bound,\n",
    "    ],\n",
    "    accept=accept.always_accept,\n",
    "    initial_state=initial_partition,\n",
    "    total_steps=10000,\n",
    ")\n",
    "\n",
    "data = []\n",
    "\n",
    "for step in tqdm_notebook(chain):\n",
    "    data.append([step[election].wins(\"republican\"),\n",
    "                        mean_median(step[election]),\n",
    "                        partisan_gini(step[election]),\n",
    "                        step[election].percents(\"republican\")],\n",
    "                        efficiency_gap(step[election]))"
   ]
  },
  {
   "cell_type": "markdown",
   "metadata": {},
   "source": [
    "# Visualization"
   ]
  },
  {
   "cell_type": "code",
   "execution_count": 11,
   "metadata": {
    "scrolled": false
   },
   "outputs": [
    {
     "name": "stdout",
     "output_type": "stream",
     "text": [
      "CPU times: user 50.6 ms, sys: 6.24 ms, total: 56.8 ms\n",
      "Wall time: 105 ms\n"
     ]
    },
    {
     "data": {
      "image/png": "[encoded data removed]",
      "text/plain": [
       "<Figure size 864x576 with 1 Axes>"
      ]
     },
     "metadata": {
      "needs_background": "light"
     },
     "output_type": "display_data"
    }
   ],
   "source": [
    "%%time\n",
    "fig, rep_dist = plt.subplots(figsize=(12,8))\n",
    "\n",
    "most_rep_dist = []\n",
    "secmost_rep_dist = []\n",
    "one_rep_plans = []\n",
    "\n",
    "for plan in data:\n",
    "    most_rep_dist.append(sorted(plan[3])[-1])\n",
    "    secmost_rep_dist.append(sorted(plan[3])[-2])\n",
    "    if sorted(plan[3])[-1] >= 0.5:\n",
    "        one_rep_plans.append(plan)\n",
    "    \n",
    "rep_dist.plot(most_rep_dist, color=\"red\")\n",
    "# rep_dist.plot(secmost_rep_dist, color=\"red\")\n",
    "rep_dist.set_title(\"Republican vote share in most Republican district\")\n",
    "rep_dist.set_ylabel(\"Rep vote share\")\n",
    "rep_dist.set_xlabel(\"Step in chain\")\n",
    "rep_dist.axhline(y = 0.5, color=\"black\")"
   ]
  },
  {
   "cell_type": "code",
   "execution_count": 56,
   "metadata": {
    "scrolled": true
   },
   "outputs": [
    {
     "data": {
      "text/plain": [
       "2000"
      ]
     },
     "execution_count": 56,
     "metadata": {},
     "output_type": "execute_result"
    }
   ],
   "source": [
    "len(one_rep_plans)"
   ]
  },
  {
   "cell_type": "code",
   "execution_count": 57,
   "metadata": {},
   "outputs": [],
   "source": [
    "copy_orp = one_rep_plans.copy()"
   ]
  },
  {
   "cell_type": "code",
   "execution_count": 58,
   "metadata": {},
   "outputs": [
    {
     "data": {
      "text/plain": [
       "2000"
      ]
     },
     "execution_count": 58,
     "metadata": {},
     "output_type": "execute_result"
    }
   ],
   "source": [
    "len(copy_orp)"
   ]
  },
  {
   "cell_type": "code",
   "execution_count": 13,
   "metadata": {},
   "outputs": [
    {
     "ename": "NameError",
     "evalue": "name 'copy_orp' is not defined",
     "output_type": "error",
     "traceback": [
      "\u001b[0;31m---------------------------------------------------------------------------\u001b[0m",
      "\u001b[0;31mNameError\u001b[0m                                 Traceback (most recent call last)",
      "\u001b[0;32m<ipython-input-13-6ff9abfbcad0>\u001b[0m in \u001b[0;36m<module>\u001b[0;34m\u001b[0m\n\u001b[1;32m      1\u001b[0m \u001b[0munique_plans\u001b[0m \u001b[0;34m=\u001b[0m \u001b[0;34m[\u001b[0m\u001b[0;34m]\u001b[0m\u001b[0;34m\u001b[0m\u001b[0;34m\u001b[0m\u001b[0m\n\u001b[1;32m      2\u001b[0m \u001b[0;34m\u001b[0m\u001b[0m\n\u001b[0;32m----> 3\u001b[0;31m \u001b[0;32mfor\u001b[0m \u001b[0mi\u001b[0m \u001b[0;32min\u001b[0m \u001b[0mrange\u001b[0m\u001b[0;34m(\u001b[0m\u001b[0mlen\u001b[0m\u001b[0;34m(\u001b[0m\u001b[0mcopy_orp\u001b[0m\u001b[0;34m)\u001b[0m \u001b[0;34m-\u001b[0m \u001b[0;36m2\u001b[0m\u001b[0;34m)\u001b[0m\u001b[0;34m:\u001b[0m\u001b[0;34m\u001b[0m\u001b[0;34m\u001b[0m\u001b[0m\n\u001b[0m\u001b[1;32m      4\u001b[0m     \u001b[0;32mif\u001b[0m \u001b[0mcopy_orp\u001b[0m\u001b[0;34m[\u001b[0m\u001b[0mi\u001b[0m\u001b[0;34m]\u001b[0m\u001b[0;34m[\u001b[0m\u001b[0;36m3\u001b[0m\u001b[0;34m]\u001b[0m \u001b[0;34m!=\u001b[0m \u001b[0mcopy_orp\u001b[0m\u001b[0;34m[\u001b[0m\u001b[0mi\u001b[0m\u001b[0;34m+\u001b[0m\u001b[0;36m1\u001b[0m\u001b[0;34m]\u001b[0m\u001b[0;34m[\u001b[0m\u001b[0;36m3\u001b[0m\u001b[0;34m]\u001b[0m\u001b[0;34m:\u001b[0m\u001b[0;34m\u001b[0m\u001b[0;34m\u001b[0m\u001b[0m\n\u001b[1;32m      5\u001b[0m         \u001b[0munique_plans\u001b[0m\u001b[0;34m.\u001b[0m\u001b[0mappend\u001b[0m\u001b[0;34m(\u001b[0m\u001b[0mcopy_orp\u001b[0m\u001b[0;34m[\u001b[0m\u001b[0mi\u001b[0m\u001b[0;34m]\u001b[0m\u001b[0;34m)\u001b[0m\u001b[0;34m\u001b[0m\u001b[0;34m\u001b[0m\u001b[0m\n",
      "\u001b[0;31mNameError\u001b[0m: name 'copy_orp' is not defined"
     ]
    }
   ],
   "source": [
    "unique_plans = []\n",
    "\n",
    "for i in range(len(copy_orp) - 2):\n",
    "    if copy_orp[i][3] != copy_orp[i+1][3]:\n",
    "        unique_plans.append(copy_orp[i])"
   ]
  },
  {
   "cell_type": "code",
   "execution_count": 60,
   "metadata": {},
   "outputs": [
    {
     "data": {
      "text/plain": [
       "1460"
      ]
     },
     "execution_count": 60,
     "metadata": {},
     "output_type": "execute_result"
    }
   ],
   "source": [
    "len(unique_plans)"
   ]
  },
  {
   "cell_type": "code",
   "execution_count": 44,
   "metadata": {},
   "outputs": [
    {
     "data": {
      "text/plain": [
       "[[1,\n",
       "  -0.011747941400197637,\n",
       "  0.02915592418194033,\n",
       "  (0.16952756822346288,\n",
       "   0.41312316715542524,\n",
       "   0.35827474352408,\n",
       "   0.4263870244028026,\n",
       "   0.4724795472448742,\n",
       "   0.5008842382855132,\n",
       "   0.35514057812609007,\n",
       "   0.4210414165510288,\n",
       "   0.30298423748093245,\n",
       "   0.31966761840134184)],\n",
       " [1,\n",
       "  -0.011769234730494404,\n",
       "  0.029280230379153595,\n",
       "  (0.16952756822346288,\n",
       "   0.41312316715542524,\n",
       "   0.35827474352408,\n",
       "   0.42596979225828496,\n",
       "   0.472683846086423,\n",
       "   0.5008842382855132,\n",
       "   0.35514057812609007,\n",
       "   0.4210414165510288,\n",
       "   0.30298423748093245,\n",
       "   0.31966761840134184)],\n",
       " [1,\n",
       "  -0.03220835796153576,\n",
       "  0.04045866923656005,\n",
       "  (0.16952756822346288,\n",
       "   0.41312316715542524,\n",
       "   0.35827474352408,\n",
       "   0.42596979225828496,\n",
       "   0.43186037024984303,\n",
       "   0.5008842382855132,\n",
       "   0.39995022399203584,\n",
       "   0.4210414165510288,\n",
       "   0.30298423748093245,\n",
       "   0.31966761840134184)],\n",
       " [1,\n",
       "  -0.032151902471012295,\n",
       "  0.042385730257386414,\n",
       "  (0.16952756822346288,\n",
       "   0.41312316715542524,\n",
       "   0.36337467352876285,\n",
       "   0.42596979225828496,\n",
       "   0.43186037024984303,\n",
       "   0.5008842382855132,\n",
       "   0.39995022399203584,\n",
       "   0.4210414165510288,\n",
       "   0.30298423748093245,\n",
       "   0.3151322433018929)],\n",
       " [1,\n",
       "  -0.042774757074381276,\n",
       "  0.05294807421163106,\n",
       "  (0.16952756822346288,\n",
       "   0.41312316715542524,\n",
       "   0.36337467352876285,\n",
       "   0.42596979225828496,\n",
       "   0.43186037024984303,\n",
       "   0.5008842382855132,\n",
       "   0.2775626185793111,\n",
       "   0.4210414165510288,\n",
       "   0.30298423748093245,\n",
       "   0.43674726547589277)],\n",
       " [1,\n",
       "  -0.04254443338874325,\n",
       "  0.0527798079914543,\n",
       "  (0.16952756822346288,\n",
       "   0.41312316715542524,\n",
       "   0.36337467352876285,\n",
       "   0.42596979225828496,\n",
       "   0.43186037024984303,\n",
       "   0.5008842382855132,\n",
       "   0.2775626185793111,\n",
       "   0.4371012946582776,\n",
       "   0.30298423748093245,\n",
       "   0.42055411463252984)],\n",
       " [1,\n",
       "  -0.04220337342864744,\n",
       "  0.052521568595216304,\n",
       "  (0.16952756822346288,\n",
       "   0.41312316715542524,\n",
       "   0.36337467352876285,\n",
       "   0.42596979225828496,\n",
       "   0.43186037024984303,\n",
       "   0.5008842382855132,\n",
       "   0.2775626185793111,\n",
       "   0.43768602409954505,\n",
       "   0.30298423748093245,\n",
       "   0.4198476470926074)],\n",
       " [1,\n",
       "  -0.023849913775279896,\n",
       "  0.03545452912451439,\n",
       "  (0.16952756822346288,\n",
       "   0.41312316715542524,\n",
       "   0.36337467352876285,\n",
       "   0.42596979225828496,\n",
       "   0.43186037024984303,\n",
       "   0.5008842382855132,\n",
       "   0.3830330839221003,\n",
       "   0.33167733943789585,\n",
       "   0.30298423748093245,\n",
       "   0.4198476470926074)],\n",
       " [1,\n",
       "  -0.023952183801466798,\n",
       "  0.03565906917688819,\n",
       "  (0.1695368005787674,\n",
       "   0.41312316715542524,\n",
       "   0.36337467352876285,\n",
       "   0.42596979225828496,\n",
       "   0.43186037024984303,\n",
       "   0.5008842382855132,\n",
       "   0.3830330839221003,\n",
       "   0.33064540682072224,\n",
       "   0.30298423748093245,\n",
       "   0.4198476470926074)],\n",
       " [1,\n",
       "  -0.02412614228919563,\n",
       "  0.035752645010991776,\n",
       "  (0.1695368005787674,\n",
       "   0.41312316715542524,\n",
       "   0.36337467352876285,\n",
       "   0.42596979225828496,\n",
       "   0.43186037024984303,\n",
       "   0.38345698582435717,\n",
       "   0.5008402610172522,\n",
       "   0.33064540682072224,\n",
       "   0.30298423748093245,\n",
       "   0.4198476470926074)]]"
      ]
     },
     "execution_count": 44,
     "metadata": {},
     "output_type": "execute_result"
    }
   ],
   "source": [
    "unique_plans[:10]"
   ]
  },
  {
   "cell_type": "code",
   "execution_count": 12,
   "metadata": {},
   "outputs": [
    {
     "name": "stdout",
     "output_type": "stream",
     "text": [
      "CPU times: user 66.4 ms, sys: 7.15 ms, total: 73.5 ms\n",
      "Wall time: 73.3 ms\n"
     ]
    },
    {
     "data": {
      "image/png": "[encoded data removed]",
      "text/plain": [
       "<Figure size 864x576 with 1 Axes>"
      ]
     },
     "metadata": {
      "needs_background": "light"
     },
     "output_type": "display_data"
    }
   ],
   "source": [
    "%%time\n",
    "# all_plans = []\n",
    "outliers = []\n",
    "\n",
    "colors = [\"lightgreen\", \"red\"]\n",
    "\n",
    "for plan in one_rep_plans:\n",
    "    outliers.append(plan[2])\n",
    "        \n",
    "fig, pg_compare = plt.subplots(figsize=(12,8))\n",
    "\n",
    "# pg_compare[0].hist(all_plans, color=colors[0])\n",
    "pg_compare.hist(outliers, color=colors[1], bins=40)\n",
    "pg_compare.set_title(\"PG for 9D-1R, MA-SEN14 — 2000 steps\")\n",
    "pg_compare.set_xlabel(\"Partisan Gini Score\")\n",
    "pg_compare.set_ylabel(\"Frequency\")"
   ]
  },
  {
   "cell_type": "code",
   "execution_count": 50,
   "metadata": {},
   "outputs": [
    {
     "data": {
      "text/plain": [
       "1000"
      ]
     },
     "execution_count": 50,
     "metadata": {},
     "output_type": "execute_result"
    }
   ],
   "source": [
    "len(all_plans)"
   ]
  },
  {
   "cell_type": "code",
   "execution_count": 51,
   "metadata": {},
   "outputs": [
    {
     "data": {
      "text/plain": [
       "657"
      ]
     },
     "execution_count": 51,
     "metadata": {},
     "output_type": "execute_result"
    }
   ],
   "source": [
    "len(outliers)"
   ]
  },
  {
   "cell_type": "code",
   "execution_count": null,
   "metadata": {},
   "outputs": [],
   "source": []
  }
 ],
 "metadata": {
  "kernelspec": {
   "display_name": "Python 3",
   "language": "python",
   "name": "python3"
  },
  "language_info": {
   "codemirror_mode": {
    "name": "ipython",
    "version": 3
   },
   "file_extension": ".py",
   "mimetype": "text/x-python",
   "name": "python",
   "nbconvert_exporter": "python",
   "pygments_lexer": "ipython3",
   "version": "3.7.3"
  }
 },
 "nbformat": 4,
 "nbformat_minor": 2
}
