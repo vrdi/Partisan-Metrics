{
 "cells": [
  {
   "cell_type": "code",
   "execution_count": 3,
   "metadata": {},
   "outputs": [],
   "source": [
    "import os\n",
    "from functools import partial\n",
    "import json\n",
    "import csv\n",
    "\n",
    "import geopandas as gpd\n",
    "import matplotlib.pyplot as plt\n",
    "import networkx as nx\n",
    "import pandas as pd\n",
    "import numpy as np\n",
    "from tqdm import tqdm_notebook\n",
    "\n",
    "from gerrychain import (\n",
    "    Election,\n",
    "    Graph,\n",
    "    MarkovChain,\n",
    "    Partition,\n",
    "    accept,\n",
    "    constraints,\n",
    "    updaters,\n",
    ")\n",
    "\n",
    "from gerrychain.metrics import efficiency_gap, mean_median, partisan_gini\n",
    "from gerrychain.proposals import recom\n",
    "from gerrychain.updaters import cut_edges\n",
    "from gerrychain.tree import recursive_tree_part"
   ]
  },
  {
   "cell_type": "code",
   "execution_count": 17,
   "metadata": {},
   "outputs": [],
   "source": [
    "graph_path = \"./texas.json\"\n",
    "graph = Graph.from_json(graph_path)\n",
    "# with open (graph_path, \"r\") as myfile:\n",
    "#     data=myfile.readlines()\n",
    "# graph_dict = json.loads(data[0])"
   ]
  },
  {
   "cell_type": "code",
   "execution_count": 18,
   "metadata": {
    "scrolled": true
   },
   "outputs": [
    {
     "data": {
      "text/plain": [
       "{'boundary_node': False,\n",
       " 'area': 5616315.599709552,\n",
       " 'CNTYVTD': '10001',\n",
       " 'VTD': '0001',\n",
       " 'WHITE': 2053.0,\n",
       " 'OTHER': 89.0,\n",
       " 'HISPANIC': 401.0,\n",
       " 'TOTPOP': 3131.0,\n",
       " 'VAP': 2341.0,\n",
       " 'BLACK': 606.0,\n",
       " 'BLKHISP': 989.0,\n",
       " 'WVAP': 1677.0,\n",
       " 'HISPVAP': 217.0,\n",
       " 'BHVAP': 592.0,\n",
       " 'BVAP': 378.0,\n",
       " 'OTHVAP': 72.0,\n",
       " 'COUNTY': 'Anderson',\n",
       " 'FIPS': 1,\n",
       " 'PRES12R': 754,\n",
       " 'PRES12D': 261,\n",
       " 'SEN12R': 713,\n",
       " 'SEN12D': 285,\n",
       " 'TOTVR12': 1629,\n",
       " 'TOTTO12': 1026,\n",
       " 'SEN14R': 441,\n",
       " 'SEN14D': 110,\n",
       " 'GOV14R': 424,\n",
       " 'GOV14D': 130,\n",
       " 'TOTVR14': 1712,\n",
       " 'TOTTO14': 576,\n",
       " 'PRES16D': 262,\n",
       " 'PRES16R': 742,\n",
       " 'TOTVR16': 1799,\n",
       " 'TOTTO16': 1030,\n",
       " 'USCD': '05',\n",
       " 'SEND': 3,\n",
       " 'HD': 8,\n",
       " 'AREA': 6,\n",
       " 'PERIM': 15}"
      ]
     },
     "execution_count": 18,
     "metadata": {},
     "output_type": "execute_result"
    }
   ],
   "source": [
    "graph.nodes[0]"
   ]
  },
  {
   "cell_type": "code",
   "execution_count": 42,
   "metadata": {},
   "outputs": [
    {
     "data": {
      "text/plain": [
       "23532113"
      ]
     },
     "execution_count": 42,
     "metadata": {},
     "output_type": "execute_result"
    }
   ],
   "source": [
    "x = \"23,532,113\"\n",
    "int(x.replace(\",\",\"\"))"
   ]
  },
  {
   "cell_type": "code",
   "execution_count": 4,
   "metadata": {},
   "outputs": [],
   "source": [
    "def num_feasible_districts(state, num_dists, election):\n",
    "    graph = Graph.from_json(\"./\"+state+\".json\")\n",
    "    \n",
    "    TOTPOP = \"TOTPOP\"\n",
    "    DEMVOTE = election+\"D\"\n",
    "    REPVOTE = election+\"R\"\n",
    "    \n",
    "    # Ensure data are integers\n",
    "    for n in graph.nodes:\n",
    "        if type(graph.nodes[n][DEMVOTE]) != int:\n",
    "            graph.nodes[n][DEMVOTE] = int(graph.nodes[n][DEMVOTE].replace(\",\", \"\"))\n",
    "        if type(graph.nodes[n][REPVOTE]) != int:\n",
    "            graph.nodes[n][REPVOTE] = int(graph.nodes[n][REPVOTE].replace(\",\", \"\"))\n",
    "        \n",
    "    # Find the ideal population I\n",
    "    pop_count = 0\n",
    "    for i in graph.nodes:\n",
    "        pop_count += graph.nodes[i][TOTPOP]\n",
    "    I = pop_count / num_dists\n",
    "    \n",
    "    # Create lists of total pop, dem, and rep voters per precinct\n",
    "    prec_pop = []\n",
    "    prec_dem = []\n",
    "    prec_rep = []\n",
    "    for n in graph.nodes:\n",
    "        prec_pop.append(graph.nodes[n][TOTPOP])\n",
    "        prec_rep.append(graph.nodes[n][REPVOTE])\n",
    "        prec_dem.append(graph.nodes[n][DEMVOTE])\n",
    "        \n",
    "    # Create a sorted list of deltas according to a specific, hard-coded metric\n",
    "    \n",
    "    def metric(i):\n",
    "        if prec_pop[i] == 0:\n",
    "            return 0\n",
    "        else:\n",
    "            return ((prec_dem[i] - prec_rep[i]) / prec_pop[i])\n",
    "    \n",
    "    deltas = []\n",
    "    for i in range(len(prec_pop)):\n",
    "        deltas.append(metric(i))\n",
    "    deltas = sorted(deltas, reverse=True)\n",
    "    \n",
    "    # Greedily create precincts\n",
    "    quasi_dist_pop = 0\n",
    "    for i in range(len(prec_pop)):\n",
    "        if sum(deltas[:i]) > 0:\n",
    "            quasi_dist_pop += prec_pop[i]\n",
    "    print(quasi_dist_pop)\n",
    "    print(pop_count)\n",
    "        \n",
    "    for m in range(num_dists+1):\n",
    "        if quasi_dist_pop < m*I:\n",
    "            return m"
   ]
  },
  {
   "cell_type": "code",
   "execution_count": 5,
   "metadata": {},
   "outputs": [
    {
     "name": "stdout",
     "output_type": "stream",
     "text": [
      "2763551.646420775\n",
      "2764056.0566752497\n"
     ]
    },
    {
     "data": {
      "text/plain": [
       "4"
      ]
     },
     "execution_count": 5,
     "metadata": {},
     "output_type": "execute_result"
    }
   ],
   "source": [
    "num_feasible_districts(\"utah\", 4, \"SEN16\")"
   ]
  },
  {
   "cell_type": "code",
   "execution_count": 115,
   "metadata": {},
   "outputs": [
    {
     "data": {
      "text/plain": [
       "int"
      ]
     },
     "execution_count": 115,
     "metadata": {},
     "output_type": "execute_result"
    }
   ],
   "source": [
    "type(4)"
   ]
  },
  {
   "cell_type": "code",
   "execution_count": 55,
   "metadata": {},
   "outputs": [
    {
     "data": {
      "text/plain": [
       "0.15513805916585297"
      ]
     },
     "execution_count": 55,
     "metadata": {},
     "output_type": "execute_result"
    }
   ],
   "source": [
    "(dems_prec[0] - reps_prec[0]) / pop_prec[0]"
   ]
  },
  {
   "cell_type": "code",
   "execution_count": 56,
   "metadata": {},
   "outputs": [],
   "source": [
    "ascending_DPC = []\n",
    "\n",
    "for i in range(len(pop_prec)):\n",
    "    if pop_prec[i] != 0:\n",
    "        ascending_DPC.append([(dems_prec[i] - reps_prec[i]) / pop_prec[i], i])"
   ]
  },
  {
   "cell_type": "code",
   "execution_count": 57,
   "metadata": {},
   "outputs": [
    {
     "data": {
      "text/plain": [
       "2151"
      ]
     },
     "execution_count": 57,
     "metadata": {},
     "output_type": "execute_result"
    }
   ],
   "source": [
    "len(ascending_DPC)"
   ]
  },
  {
   "cell_type": "code",
   "execution_count": 58,
   "metadata": {},
   "outputs": [
    {
     "data": {
      "text/plain": [
       "[[0.15513805916585297, 0],\n",
       " [0.08476434853983664, 1],\n",
       " [0.11658429409694146, 2],\n",
       " [0.05704169941933123, 3],\n",
       " [0.06030021301432776, 4],\n",
       " [0.05507495868539885, 5],\n",
       " [0.06986900144351958, 6],\n",
       " [0.08094972551527486, 7],\n",
       " [0.07970010748071214, 8],\n",
       " [0.0536413364003675, 9]]"
      ]
     },
     "execution_count": 58,
     "metadata": {},
     "output_type": "execute_result"
    }
   ],
   "source": [
    "ascending_DPC[:10]"
   ]
  },
  {
   "cell_type": "code",
   "execution_count": 59,
   "metadata": {},
   "outputs": [],
   "source": [
    "ascending_DPC.sort()"
   ]
  },
  {
   "cell_type": "code",
   "execution_count": 60,
   "metadata": {
    "scrolled": true
   },
   "outputs": [
    {
     "data": {
      "text/plain": [
       "[[-0.11742222308712807, 2139],\n",
       " [-0.09979575425162523, 483],\n",
       " [-0.09854153577032118, 1146],\n",
       " [-0.09803887865351182, 600],\n",
       " [-0.09737363694990964, 1794],\n",
       " [-0.09672432397490777, 2092],\n",
       " [-0.09361270636404077, 1157],\n",
       " [-0.09277138802468476, 594],\n",
       " [-0.0924794033033475, 319],\n",
       " [-0.0921568644249277, 1676]]"
      ]
     },
     "execution_count": 60,
     "metadata": {},
     "output_type": "execute_result"
    }
   ],
   "source": [
    "ascending_DPC[:10]"
   ]
  },
  {
   "cell_type": "code",
   "execution_count": 61,
   "metadata": {},
   "outputs": [],
   "source": [
    "descending_DPC = ascending_DPC.copy()\n",
    "descending_DPC.reverse()"
   ]
  },
  {
   "cell_type": "code",
   "execution_count": 62,
   "metadata": {
    "scrolled": true
   },
   "outputs": [
    {
     "data": {
      "text/plain": [
       "[[0.5145762918354982, 194],\n",
       " [0.45074265408756103, 2030],\n",
       " [0.4334006335789255, 196],\n",
       " [0.41915852539265136, 2116],\n",
       " [0.4124343177682886, 98],\n",
       " [0.40581159674896566, 199],\n",
       " [0.3867488296432796, 1473],\n",
       " [0.3843283622066546, 198],\n",
       " [0.3756281370644132, 1447],\n",
       " [0.3642433146318682, 2057]]"
      ]
     },
     "execution_count": 62,
     "metadata": {},
     "output_type": "execute_result"
    }
   ],
   "source": [
    "descending_DPC[:10]"
   ]
  },
  {
   "cell_type": "code",
   "execution_count": 17,
   "metadata": {},
   "outputs": [
    {
     "data": {
      "text/plain": [
       "[[-4.714285714285714, 7829],\n",
       " [-3.227777777777778, 6022],\n",
       " [-1.9898477157360406, 6023],\n",
       " [-1.0338983050847457, 8628],\n",
       " [-1.0, 4560],\n",
       " [-1.0, 4599],\n",
       " [-1.0, 4943],\n",
       " [-0.8571428571428571, 5060],\n",
       " [-0.8333333333333334, 4709],\n",
       " [-0.8085106382978723, 5288]]"
      ]
     },
     "execution_count": 17,
     "metadata": {},
     "output_type": "execute_result"
    }
   ],
   "source": [
    "ascending_DPC[:10]"
   ]
  },
  {
   "cell_type": "code",
   "execution_count": 65,
   "metadata": {
    "scrolled": true
   },
   "outputs": [
    {
     "name": "stdout",
     "output_type": "stream",
     "text": [
      "672816.9714491896\n"
     ]
    }
   ],
   "source": [
    "I = pop_count/10\n",
    "print(I)"
   ]
  },
  {
   "cell_type": "code",
   "execution_count": 66,
   "metadata": {},
   "outputs": [],
   "source": [
    "pop_counter = 0\n",
    "dem_qdist_1 = []\n",
    "dem_qdist_2 = []\n",
    "\n",
    "for j in descending_DPC:\n",
    "    if pop_counter <= I:\n",
    "        dem_qdist_1.append(j[1])\n",
    "        pop_counter += graph.nodes[j[1]][TOTPOP]\n",
    "    elif pop_counter > I and pop_counter <= 2*I:\n",
    "        dem_qdist_2.append(j[1])\n",
    "        pop_counter += graph.nodes[j[1]][TOTPOP]\n",
    "    else:\n",
    "        break"
   ]
  },
  {
   "cell_type": "code",
   "execution_count": 67,
   "metadata": {},
   "outputs": [
    {
     "name": "stdout",
     "output_type": "stream",
     "text": [
      "0.16982165985852346 0.2582378723219999\n",
      "0.21077508306610301\n"
     ]
    }
   ],
   "source": [
    "dem_votes_qdist_1 = 0\n",
    "rep_votes_qdist_1 = 0\n",
    "total_pop_qdist_1 = 0\n",
    "dem_votes_qdist_2 = 0\n",
    "rep_votes_qdist_2 = 0\n",
    "total_pop_qdist_2 = 0\n",
    "\n",
    "for n in dem_qdist_1:\n",
    "    dem_votes_qdist_1 += graph.nodes[n][DEMVOTE]\n",
    "    rep_votes_qdist_1 += graph.nodes[n][REPVOTE]\n",
    "    total_pop_qdist_1 += graph.nodes[n][TOTPOP]\n",
    "    \n",
    "for n in dem_qdist_2:\n",
    "    dem_votes_qdist_2 += graph.nodes[n][DEMVOTE]\n",
    "    rep_votes_qdist_2 += graph.nodes[n][REPVOTE]\n",
    "    total_pop_qdist_2 += graph.nodes[n][TOTPOP]\n",
    "    \n",
    "votes_qdist_1 = rep_votes_qdist_1 + dem_votes_qdist_1\n",
    "votes_qdist_2 = rep_votes_qdist_2 + dem_votes_qdist_2\n",
    "\n",
    "rep_vs_qdist_1 = rep_votes_qdist_1 / votes_qdist_1\n",
    "rep_vs_qdist_2 = rep_votes_qdist_2 / votes_qdist_2\n",
    "\n",
    "print(rep_vs_qdist_1, rep_vs_qdist_2)\n",
    "\n",
    "overall_rep_vs = (rep_votes_qdist_1 + rep_votes_qdist_2) / (votes_qdist_1 + votes_qdist_2)\n",
    "print(overall_rep_vs)"
   ]
  },
  {
   "cell_type": "code",
   "execution_count": 68,
   "metadata": {},
   "outputs": [],
   "source": [
    "pop_counter = 0\n",
    "rep_qdist_1 = []\n",
    "rep_qdist_2 = []\n",
    "\n",
    "for j in ascending_DPC:\n",
    "    if pop_counter <= I:\n",
    "        rep_qdist_1.append(j[1])\n",
    "        pop_counter += graph.nodes[j[1]][TOTPOP]\n",
    "    elif pop_counter > I and pop_counter <= 2*I:\n",
    "        rep_qdist_2.append(j[1])\n",
    "        pop_counter += graph.nodes[j[1]][TOTPOP]\n",
    "    else:\n",
    "        break"
   ]
  },
  {
   "cell_type": "code",
   "execution_count": 69,
   "metadata": {},
   "outputs": [
    {
     "name": "stdout",
     "output_type": "stream",
     "text": [
      "0.5518776477346162 0.5037030633122965\n",
      "0.5288205390920555\n"
     ]
    }
   ],
   "source": [
    "dem_votes_qdist_1 = 0\n",
    "rep_votes_qdist_1 = 0\n",
    "total_pop_qdist_1 = 0\n",
    "dem_votes_qdist_2 = 0\n",
    "rep_votes_qdist_2 = 0\n",
    "total_pop_qdist_2 = 0\n",
    "\n",
    "for n in rep_qdist_1:\n",
    "    dem_votes_qdist_1 += graph.nodes[n][DEMVOTE]\n",
    "    rep_votes_qdist_1 += graph.nodes[n][REPVOTE]\n",
    "    total_pop_qdist_1 += graph.nodes[n][TOTPOP]\n",
    "    \n",
    "for n in rep_qdist_2:\n",
    "    dem_votes_qdist_2 += graph.nodes[n][DEMVOTE]\n",
    "    rep_votes_qdist_2 += graph.nodes[n][REPVOTE]\n",
    "    total_pop_qdist_2 += graph.nodes[n][TOTPOP]\n",
    "    \n",
    "votes_qdist_1 = rep_votes_qdist_1 + dem_votes_qdist_1\n",
    "votes_qdist_2 = rep_votes_qdist_2 + dem_votes_qdist_2\n",
    "\n",
    "rep_vs_qdist_1 = rep_votes_qdist_1 / votes_qdist_1\n",
    "rep_vs_qdist_2 = rep_votes_qdist_2 / votes_qdist_2\n",
    "\n",
    "print(rep_vs_qdist_1, rep_vs_qdist_2)\n",
    "\n",
    "overall_rep_vs = (rep_votes_qdist_1 + rep_votes_qdist_2) / (votes_qdist_1 + votes_qdist_2)\n",
    "print(overall_rep_vs)"
   ]
  },
  {
   "cell_type": "code",
   "execution_count": 101,
   "metadata": {},
   "outputs": [
    {
     "name": "stdout",
     "output_type": "stream",
     "text": [
      "CPU times: user 120 ms, sys: 4.23 ms, total: 125 ms\n",
      "Wall time: 133 ms\n"
     ]
    },
    {
     "data": {
      "image/png": "[encoded data removed]",
      "text/plain": [
       "<Figure size 864x576 with 2 Axes>"
      ]
     },
     "metadata": {
      "needs_background": "light"
     },
     "output_type": "display_data"
    }
   ],
   "source": [
    "%%time\n",
    "all_plans = []\n",
    "outliers = []\n",
    "\n",
    "colors = [\"lightgreen\", \"red\"]\n",
    "\n",
    "a = np.random.normal(0, 1, 1000)\n",
    "o = list(np.random.normal(0, 5, 1000))\n",
    "\n",
    "# for plan in data:\n",
    "#     all_plans.append(plan)\n",
    "#     if sorted(plan[3])[-1] > 0.5:\n",
    "#         outliers.append(plan)\n",
    "        \n",
    "fig, pg_compare = plt.subplots(2,1, figsize=(12,8), sharex=\"col\")\n",
    "\n",
    "pg_compare[0].hist(a, color=colors[0])\n",
    "pg_compare[1].hist(o, color=colors[1])"
   ]
  }
 ],
 "metadata": {
  "kernelspec": {
   "display_name": "Python 3",
   "language": "python",
   "name": "python3"
  },
  "language_info": {
   "codemirror_mode": {
    "name": "ipython",
    "version": 3
   },
   "file_extension": ".py",
   "mimetype": "text/x-python",
   "name": "python",
   "nbconvert_exporter": "python",
   "pygments_lexer": "ipython3",
   "version": "3.7.3"
  }
 },
 "nbformat": 4,
 "nbformat_minor": 2
}
