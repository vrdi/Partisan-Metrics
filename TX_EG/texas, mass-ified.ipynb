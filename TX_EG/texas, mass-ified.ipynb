{
 "cells": [
  {
   "cell_type": "code",
   "execution_count": 144,
   "metadata": {},
   "outputs": [],
   "source": [
    "import geopandas as gpd\n",
    "import pandas as pd\n",
    "import json\n",
    "import seaborn as sns\n",
    "from tqdm import tqdm_notebook\n",
    "\n",
    "import random\n",
    "import matplotlib.pyplot as plt\n",
    "from functools import partial\n",
    "import networkx as nx\n",
    "\n",
    "import copy"
   ]
  },
  {
   "cell_type": "markdown",
   "metadata": {},
   "source": [
    "## reading in dataframe and adding columns"
   ]
  },
  {
   "cell_type": "code",
   "execution_count": 311,
   "metadata": {
    "scrolled": true
   },
   "outputs": [],
   "source": [
    "tx_data = gpd.read_file(\"TX_vtds/TX_vtds.shp\")\n",
    "tx_data = tx_data[tx_data['TOTPOP'] > 0]"
   ]
  },
  {
   "cell_type": "code",
   "execution_count": 146,
   "metadata": {},
   "outputs": [
    {
     "name": "stdout",
     "output_type": "stream",
     "text": [
      "25145561.0\n",
      "698487.8055555555\n"
     ]
    }
   ],
   "source": [
    "tot_pop = tx_data[\"TOTPOP\"].sum()\n",
    "print(tot_pop)\n",
    "\n",
    "ideal_pop = tot_pop/36\n",
    "print(ideal_pop)"
   ]
  },
  {
   "cell_type": "code",
   "execution_count": 308,
   "metadata": {},
   "outputs": [],
   "source": [
    "def add_columns(state, dem_election, rep_election):\n",
    "    state[\"beta\"] = (state[dem_election] - state[rep_election])/(state[\"TOTPOP\"])\n",
    "    state[\"alpha\"] = (state[\"TOTPOP\"] - 2*state[rep_election])\n",
    "    state[\"alpha_two\"] = (state[dem_election] - 3*state[rep_election] + state[\"TOTPOP\"])\n",
    "    state[\"alpha_over_pop\"] = (state[\"TOTPOP\"] - 2*state[rep_election])/(state[\"TOTPOP\"])\n",
    "    state[\"pr_turnout\"] = (state[dem_election] + state[rep_election])/(state[\"TOTPOP\"])"
   ]
  },
  {
   "cell_type": "code",
   "execution_count": 313,
   "metadata": {},
   "outputs": [],
   "source": [
    "add_columns(tx_data, \"PRES16D\", \"PRES16R\")"
   ]
  },
  {
   "cell_type": "markdown",
   "metadata": {},
   "source": [
    "## greedy function"
   ]
  },
  {
   "cell_type": "code",
   "execution_count": 299,
   "metadata": {},
   "outputs": [
    {
     "name": "stdout",
     "output_type": "stream",
     "text": [
      "Wall time: 0 ns\n"
     ]
    }
   ],
   "source": [
    "%%time\n",
    "def greedy_algorithm_tx(state, plan_column, dem_election, rep_election):\n",
    "    state = state.sort_values(plan_column, ascending = False)\n",
    "    state = state.reset_index()\n",
    "    margin = 0\n",
    "    gimme_gimme = {}\n",
    "    for index, row in state.iterrows():\n",
    "        if margin >= 0:\n",
    "            margin += (state[dem_election][index] - state[rep_election][index])\n",
    "            gimme_gimme[index] = (state[\"TOTPOP\"][index], state[dem_election][index], state[rep_election][index])\n",
    "        else:\n",
    "            break\n",
    "    \n",
    "#tallying up greedy things    \n",
    "    dems = 0\n",
    "    reps = 0\n",
    "    pop = 0 \n",
    "    for i in range(len(gimme_gimme)):\n",
    "        dems += gimme_gimme[i][1]\n",
    "        reps += gimme_gimme[i][2]\n",
    "        pop += gimme_gimme[i][0]\n",
    "#calculating seats    \n",
    "    dem_seats = int(pop/ideal_pop)\n",
    "    rep_seats = 36 - dem_seats\n",
    "    print(\"There are \" + str(dem_seats) + \" Dem seats and \" + str(rep_seats) + \" Rep seats.\")\n",
    "#calculating rho\n",
    "    dem_turnout = 0\n",
    "    rep_turnout = 0\n",
    "    for i in range(len(gimme_gimme)):\n",
    "        dem_turnout += gimme_gimme[i][1] + gimme_gimme[i][2]\n",
    "    T_dem = dem_turnout/dem_seats\n",
    "    \n",
    "    for index, row in state.iterrows():    \n",
    "        if index > (len(gimme_gimme)):\n",
    "            rep_turnout += state[dem_election][index] + state[rep_election][index]\n",
    "    T_rep = rep_turnout/(36 - dem_seats)\n",
    "    \n",
    "    print (\"Dem turnout is \" + str(T_dem) + \", Rep turnout is \" + str(T_rep) +  \", rho is \" + str(T_rep/T_dem))\n",
    "\n",
    "    \n",
    "#defining noise function    \n",
    "def noise(seats, rho):\n",
    "    return ((seats/36)*(1 - rho)*(1 - (seats/36)))/((seats/36) * (1 - rho) + rho)"
   ]
  },
  {
   "cell_type": "code",
   "execution_count": 318,
   "metadata": {},
   "outputs": [
    {
     "name": "stdout",
     "output_type": "stream",
     "text": [
      "There are 32 Dem seats and 4 Rep seats.\n",
      "Dem turnout is 224050.71875, Rep turnout is 347389.75, rho is 1.5504960302654687\n",
      "Wall time: 4.05 s\n"
     ]
    }
   ],
   "source": [
    "%%time\n",
    "greedy_algorithm_tx(tx_data, \"alpha_over_pop\", \"PRES16D\", \"PRES16R\")"
   ]
  },
  {
   "cell_type": "code",
   "execution_count": 316,
   "metadata": {
    "scrolled": true
   },
   "outputs": [
    {
     "data": {
      "text/plain": [
       "-0.05123606178461657"
      ]
     },
     "execution_count": 316,
     "metadata": {},
     "output_type": "execute_result"
    }
   ],
   "source": [
    "noise(32, 1.5504960302654687)"
   ]
  },
  {
   "cell_type": "markdown",
   "metadata": {},
   "source": [
    "## storing data"
   ]
  },
  {
   "cell_type": "code",
   "execution_count": 266,
   "metadata": {
    "scrolled": true
   },
   "outputs": [],
   "source": [
    "col_names = ['method', 'noise term', \"hypothetical dem seats\", \"rho\"]\n",
    "gerrydata = pd.DataFrame(columns = col_names)"
   ]
  },
  {
   "cell_type": "code",
   "execution_count": 276,
   "metadata": {},
   "outputs": [],
   "source": [
    "gerrydata = gerrydata.append(pd.Series(['beta', -0.056301023499100385, 29, 1.3864482742036979], index=gerrydata.columns ), ignore_index=True)\n",
    "gerrydata = gerrydata.append(pd.Series(['alpha', -0.08987561240594023, 27, 1.5445980430052453], index = gerrydata.columns), ignore_index = True)\n",
    "gerrydata = gerrydata.append(pd.Series(['alpha_two', -0.07747260642000688, 29, 1.5472323555660084], index = gerrydata.columns), ignore_index = True)\n",
    "gerrydata = gerrydata.append(pd.Series(['alpha_over_pop', -0.0820127305414992, 29, 1.5829368248691753], index = gerrydata.columns), ignore_index = True)\n",
    "gerrydata = gerrydata.append(pd.Series(['actual 2012 pres elections', -0.0769170266661768, 11, 1.4844350553571108], index = gerrydata.columns), ignore_index = True)"
   ]
  },
  {
   "cell_type": "code",
   "execution_count": 277,
   "metadata": {
    "scrolled": true
   },
   "outputs": [
    {
     "data": {
      "text/html": [
       "<div>\n",
       "<style scoped>\n",
       "    .dataframe tbody tr th:only-of-type {\n",
       "        vertical-align: middle;\n",
       "    }\n",
       "\n",
       "    .dataframe tbody tr th {\n",
       "        vertical-align: top;\n",
       "    }\n",
       "\n",
       "    .dataframe thead th {\n",
       "        text-align: right;\n",
       "    }\n",
       "</style>\n",
       "<table border=\"1\" class=\"dataframe\">\n",
       "  <thead>\n",
       "    <tr style=\"text-align: right;\">\n",
       "      <th></th>\n",
       "      <th>method</th>\n",
       "      <th>noise term</th>\n",
       "      <th>hypothetical dem seats</th>\n",
       "      <th>rho</th>\n",
       "    </tr>\n",
       "  </thead>\n",
       "  <tbody>\n",
       "    <tr>\n",
       "      <th>0</th>\n",
       "      <td>beta</td>\n",
       "      <td>-0.056301</td>\n",
       "      <td>29</td>\n",
       "      <td>1.386448</td>\n",
       "    </tr>\n",
       "    <tr>\n",
       "      <th>1</th>\n",
       "      <td>alpha</td>\n",
       "      <td>-0.089876</td>\n",
       "      <td>27</td>\n",
       "      <td>1.544598</td>\n",
       "    </tr>\n",
       "    <tr>\n",
       "      <th>2</th>\n",
       "      <td>alpha_two</td>\n",
       "      <td>-0.077473</td>\n",
       "      <td>29</td>\n",
       "      <td>1.547232</td>\n",
       "    </tr>\n",
       "    <tr>\n",
       "      <th>3</th>\n",
       "      <td>alpha_over_pop</td>\n",
       "      <td>-0.082013</td>\n",
       "      <td>29</td>\n",
       "      <td>1.582937</td>\n",
       "    </tr>\n",
       "    <tr>\n",
       "      <th>4</th>\n",
       "      <td>actual 2012 pres elections</td>\n",
       "      <td>-0.076917</td>\n",
       "      <td>11</td>\n",
       "      <td>1.484435</td>\n",
       "    </tr>\n",
       "  </tbody>\n",
       "</table>\n",
       "</div>"
      ],
      "text/plain": [
       "                       method  noise term hypothetical dem seats       rho\n",
       "0                        beta   -0.056301                     29  1.386448\n",
       "1                       alpha   -0.089876                     27  1.544598\n",
       "2                   alpha_two   -0.077473                     29  1.547232\n",
       "3              alpha_over_pop   -0.082013                     29  1.582937\n",
       "4  actual 2012 pres elections   -0.076917                     11  1.484435"
      ]
     },
     "execution_count": 277,
     "metadata": {},
     "output_type": "execute_result"
    }
   ],
   "source": [
    "gerrydata"
   ]
  },
  {
   "cell_type": "markdown",
   "metadata": {},
   "source": [
    "## extra functions (seat count, district cutter-upper)"
   ]
  },
  {
   "cell_type": "code",
   "execution_count": 180,
   "metadata": {},
   "outputs": [],
   "source": [
    "tx_data[\"USCD\"] = tx_data[\"USCD\"].astype(int)"
   ]
  },
  {
   "cell_type": "code",
   "execution_count": 98,
   "metadata": {},
   "outputs": [],
   "source": [
    "#finding actual noise and seat share of a plan\n",
    "def seat_count_turnout_real(state, dem, rep):\n",
    "    dem_votes = [0]*36\n",
    "    rep_votes = [0]*36\n",
    "    tot_votes = [0]*36\n",
    "    tot_dem_won = 0\n",
    "    tot_rep_won = 0\n",
    "    dem_seats = 0\n",
    "    rep_seats = 0\n",
    "    for i in range(36):\n",
    "        for index, row in state.iterrows():\n",
    "             if state[\"USCD\"][index] == i+1:\n",
    "                dem_votes[i] += state[dem][index]\n",
    "                rep_votes[i] += state[rep][index]\n",
    "                tot_votes[i] += state[dem][index] + state[rep][index]\n",
    "    for j in range(36):\n",
    "        if dem_votes[j] > rep_votes[j]:\n",
    "            dem_seats += 1\n",
    "            tot_dem_won += tot_votes[j]\n",
    "        else:\n",
    "            rep_seats += 1\n",
    "            tot_rep_won += tot_votes[j]\n",
    "    \n",
    "    return (dem_seats, rep_seats, \n",
    "            \"T_dem is \" + str(float(tot_dem_won/dem_seats)), \n",
    "            \"T_rep is \" + str(float(tot_rep_won/rep_seats)), \n",
    "            \"rho is \" + str(float((tot_rep_won/rep_seats)/(tot_dem_won/dem_seats))))"
   ]
  },
  {
   "cell_type": "code",
   "execution_count": 278,
   "metadata": {
    "scrolled": true
   },
   "outputs": [
    {
     "name": "stdout",
     "output_type": "stream",
     "text": [
      "Wall time: 1min 46s\n"
     ]
    },
    {
     "data": {
      "text/plain": [
       "(11,\n",
       " 25,\n",
       " 'T_dem is 163697.45454545456',\n",
       " 'T_rep is 242998.24',\n",
       " 'rho is 1.4844350553571108')"
      ]
     },
     "execution_count": 278,
     "metadata": {},
     "output_type": "execute_result"
    }
   ],
   "source": [
    "%%time\n",
    "seat_count_turnout_real(tx_data, \"PRES12D\", \"PRES12R\")"
   ]
  },
  {
   "cell_type": "code",
   "execution_count": 17,
   "metadata": {},
   "outputs": [],
   "source": [
    "def seat_count_turnout(statedf):\n",
    "    turnouts = [0]*36\n",
    "    margins = [0]*36\n",
    "    dem_seats = 0\n",
    "    rep_seats = 0\n",
    "    av_dem = 0\n",
    "    av_rep = 0\n",
    "    for i in range(36):\n",
    "        for index, row in statedf.iterrows():\n",
    "             if statedf[\"gerry_districts\"][index] == i:\n",
    "                turnouts[i] += statedf[\"pr_turnout\"][index]\n",
    "                margins[i] += (statedf[\"PRES12D\"][index] - statedf[\"PRES12R\"][index])   \n",
    "    for j in range(36):\n",
    "        if margins[j] >0:\n",
    "            dem_seats += 1\n",
    "            av_dem += turnouts[j]\n",
    "        else:\n",
    "            rep_seats += 1\n",
    "            av_rep += turnouts[j]\n",
    "    return (dem_seats, rep_seats, av_dem/dem_seats, av_rep/rep_seats)"
   ]
  },
  {
   "cell_type": "code",
   "execution_count": 78,
   "metadata": {},
   "outputs": [],
   "source": [
    "#sorting by a metric and then splitting into districts\n",
    "def cheat_eg(state, plan_column, num_dist, pop_label):\n",
    "    state = state.sort_values(plan_column, ascending = False)\n",
    "    state = state.reset_index()\n",
    "    tot_pop = state[pop_label].sum()\n",
    "    print(tot_pop)\n",
    "    ideal_pop = tot_pop/num_dist - 300\n",
    "    print(ideal_pop + 300)\n",
    "    \n",
    "    districts = {}\n",
    "    d_counter = 0\n",
    "    p_counter = 0\n",
    "    for index, row in state.iterrows():\n",
    "        if p_counter <= ideal_pop:\n",
    "            p_counter += row[pop_label]\n",
    "            districts[index] = d_counter\n",
    "        else:\n",
    "            p_counter = 0\n",
    "            d_counter += 1\n",
    "            districts[index] = d_counter\n",
    "            \n",
    "    state['gerry_districts'] = state.index.map(districts)\n",
    "    return state\n",
    "    "
   ]
  }
 ],
 "metadata": {
  "kernelspec": {
   "display_name": "Python 3",
   "language": "python",
   "name": "python3"
  },
  "language_info": {
   "codemirror_mode": {
    "name": "ipython",
    "version": 3
   },
   "file_extension": ".py",
   "mimetype": "text/x-python",
   "name": "python",
   "nbconvert_exporter": "python",
   "pygments_lexer": "ipython3",
   "version": "3.7.3"
  }
 },
 "nbformat": 4,
 "nbformat_minor": 2
}
