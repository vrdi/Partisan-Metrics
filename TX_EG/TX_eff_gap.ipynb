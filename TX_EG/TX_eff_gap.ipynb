{
 "cells": [
  {
   "cell_type": "markdown",
   "metadata": {},
   "source": [
    "# Imports"
   ]
  },
  {
   "cell_type": "code",
   "execution_count": 1,
   "metadata": {},
   "outputs": [],
   "source": [
    "import os\n",
    "from functools import partial\n",
    "import json\n",
    "import random\n",
    "\n",
    "import geopandas as gpd\n",
    "import matplotlib.pyplot as plt\n",
    "import networkx as nx\n",
    "import pandas as pd\n",
    "import numpy as np\n",
    "from tqdm import tqdm_notebook\n",
    "\n",
    "from gerrychain import (\n",
    "    Election,\n",
    "    Graph,\n",
    "    MarkovChain,\n",
    "    Partition,\n",
    "    accept,\n",
    "    constraints,\n",
    "    updaters,\n",
    ")\n",
    "\n",
    "from gerrychain.metrics import efficiency_gap, mean_median, partisan_gini\n",
    "from gerrychain.proposals import recom\n",
    "from gerrychain.updaters import cut_edges\n",
    "from gerrychain.tree import recursive_tree_part"
   ]
  },
  {
   "cell_type": "markdown",
   "metadata": {},
   "source": [
    "# Downloading state data and building graph"
   ]
  },
  {
   "cell_type": "code",
   "execution_count": 2,
   "metadata": {},
   "outputs": [],
   "source": [
    "# gdf = gpd.read_file(\"TX_vtds.shp\")\n",
    "# graph = Graph.from_geodataframe(gdf, ignore_errors = True)\n",
    "# graph.add_data(gdf)\n",
    "\n",
    "# Use this Code:\n",
    "\n",
    "graph_path = \"./texas.json\"\n",
    "graph = Graph.from_json(graph_path)\n",
    "with open (graph_path, \"r\") as myfile:\n",
    "    data=myfile.readlines()\n",
    "graph_dict = json.loads(data[0])"
   ]
  },
  {
   "cell_type": "markdown",
   "metadata": {},
   "source": [
    "# Chain stuff"
   ]
  },
  {
   "cell_type": "code",
   "execution_count": 3,
   "metadata": {},
   "outputs": [
    {
     "name": "stdout",
     "output_type": "stream",
     "text": [
      "25145561.0\n"
     ]
    }
   ],
   "source": [
    "pop_count = 0\n",
    "\n",
    "for i in graph.nodes:\n",
    "    pop_count += graph.nodes[i][\"TOTPOP\"]\n",
    "    \n",
    "print(pop_count)"
   ]
  },
  {
   "cell_type": "code",
   "execution_count": 4,
   "metadata": {},
   "outputs": [
    {
     "name": "stdout",
     "output_type": "stream",
     "text": [
      "Wall time: 33 ms\n"
     ]
    }
   ],
   "source": [
    "%%time\n",
    "num_dist = 36\n",
    "\n",
    "# Exercise: Compute exact population from your data.\n",
    "pop = pop_count\n",
    "\n",
    "#Updaters I want: seats, EG\n",
    "\n",
    "my_updaters = {\n",
    "    \"population\": updaters.Tally(\"TOTPOP\", alias=\"population\"),\n",
    "    \"cut_edges\": cut_edges,\n",
    "    #Note that \n",
    "    \"ELECTION\": Election(\"ELECTION\", {\"democratic\":\"PRES16D\",\"republican\":\"PRES16R\"})\n",
    "}\n",
    "\n",
    "\n",
    "# new_plan = recursive_tree_part(graph,\n",
    "#                                range(num_dist),\n",
    "#                                pop/num_dist,\n",
    "#                                \"TOTPOP\",\n",
    "#                                0.002,\n",
    "#                                3)\n",
    "initial_partition = Partition(graph,\n",
    "                              \"USCD\",\n",
    "                              my_updaters)"
   ]
  },
  {
   "cell_type": "code",
   "execution_count": 5,
   "metadata": {
    "scrolled": true
   },
   "outputs": [
    {
     "name": "stdout",
     "output_type": "stream",
     "text": [
      "Wall time: 139 ms\n"
     ]
    }
   ],
   "source": [
    "%%time\n",
    "proposal = partial(recom,\n",
    "                   pop_col = \"TOTPOP\",\n",
    "                   pop_target = pop/num_dist,\n",
    "                   epsilon = 0.01,\n",
    "                   node_repeats = 1)\n",
    "\n",
    "compactness_bound = constraints.UpperBound(\n",
    "    lambda p: len(p[\"cut_edges\"]), 2 * len(initial_partition[\"cut_edges\"])\n",
    ")"
   ]
  },
  {
   "cell_type": "code",
   "execution_count": null,
   "metadata": {},
   "outputs": [],
   "source": [
    "%%time\n",
    "def eg_bound(partition):\n",
    "    bound = 1\n",
    "    if partition.parent is not None:\n",
    "        if efficiency_gap(partition.parent[\"ELECTION\"]) > 0.08:\n",
    "            bound = 0\n",
    "    return random.random() < bound"
   ]
  },
  {
   "cell_type": "code",
   "execution_count": null,
   "metadata": {},
   "outputs": [],
   "source": [
    "%%time\n",
    "def eg_bound_decrease(partition):\n",
    "    bound = 1\n",
    "    if partition.parent is not None:\n",
    "        if efficiency_gap(partition.parent[\"ELECTION\"]) > 0.08:\n",
    "            bound = 0\n",
    "        else:\n",
    "            if efficiency_gap(partition.parent[\"ELECTION\"]) < efficiency_gap(partition[\"ELECTION\"]):\n",
    "                bound = .5\n",
    "            else:\n",
    "                bound = 1\n",
    "    return random.random() < bound"
   ]
  },
  {
   "cell_type": "code",
   "execution_count": 7,
   "metadata": {},
   "outputs": [
    {
     "name": "stdout",
     "output_type": "stream",
     "text": [
      "Wall time: 0 ns\n"
     ]
    }
   ],
   "source": [
    "%%time\n",
    "def dem_seats_increase_int(partition):\n",
    "    bound = 1\n",
    "    if partition.parent is not None:\n",
    "        if partition.parent[\"ELECTION\"].wins(\"democratic\") > partition[\"ELECTION\"].wins(\"democratic\"):\n",
    "            bound = 0\n",
    "    return random.random() < bound"
   ]
  },
  {
   "cell_type": "code",
   "execution_count": 50,
   "metadata": {},
   "outputs": [],
   "source": [
    "def dem_seats_increase_frac(partition):\n",
    "    bound = 0\n",
    "    if partition.parent is not None:\n",
    "        i = partition.parent[\"ELECTION\"].seats(\"democratic\")\n",
    "    if sorted(partition.parent[\"ELECTION\"].percents(\"republican\"))[i-1] >= sorted(partition[\"ELECTION\"].percents(\"republican\"))[i-1]:\n",
    "        bound = 1\n",
    "    return random.random() < bound       "
   ]
  },
  {
   "cell_type": "code",
   "execution_count": null,
   "metadata": {},
   "outputs": [],
   "source": [
    "##gabe code\n",
    "\n",
    "%%time\n",
    "def two_rep(partition):\n",
    "    bound = 1\n",
    "    if partition.parent is not None:\n",
    "        if sorted(partition.parent[election].percents(\"republican\"))[-1] < 0.5:\n",
    "            if sorted(partition.parent[election].percents(“republican”))[-1] >= sorted(partition[election].percents(“republican”))[-1]:\n",
    "                bound = 0\n",
    "        else:\n",
    "            if sorted(partition[election].percents(“republican”))[-2] < 0.5:\n",
    "                if sorted(partition.parent[election].percents(“republican”))[-2] >= sorted(partition[election].percents(“republican”))[-2]:\n",
    "                    bound = 0\n",
    "    return random.random() < bound"
   ]
  },
  {
   "cell_type": "code",
   "execution_count": 6,
   "metadata": {
    "scrolled": true
   },
   "outputs": [
    {
     "name": "stdout",
     "output_type": "stream",
     "text": [
      "Wall time: 50 ms\n"
     ]
    }
   ],
   "source": [
    "%%time\n",
    "chain = MarkovChain(\n",
    "    proposal=proposal,\n",
    "    constraints=[\n",
    "        constraints.within_percent_of_ideal_population(initial_partition, 0.05),\n",
    "        compactness_bound,\n",
    "    ],\n",
    "    #accept = dem_seats_increase_frac,\n",
    "    accept = accept.always_accept,\n",
    "    initial_state = initial_partition,\n",
    "    total_steps=10000,\n",
    ")"
   ]
  },
  {
   "cell_type": "markdown",
   "metadata": {},
   "source": [
    "# Pulling data from chain run"
   ]
  },
  {
   "cell_type": "code",
   "execution_count": 7,
   "metadata": {
    "scrolled": true
   },
   "outputs": [
    {
     "name": "stdout",
     "output_type": "stream",
     "text": [
      "100\n",
      "200\n",
      "300\n",
      "400\n",
      "500\n",
      "600\n",
      "700\n",
      "800\n",
      "900\n",
      "1000\n",
      "1100\n",
      "1200\n",
      "1300\n",
      "1400\n",
      "1500\n",
      "1600\n",
      "1700\n",
      "1800\n",
      "1900\n",
      "2000\n",
      "2100\n",
      "2200\n",
      "2300\n",
      "2400\n",
      "2500\n",
      "2600\n",
      "2700\n",
      "2800\n",
      "2900\n",
      "3000\n",
      "3100\n",
      "3200\n",
      "3300\n",
      "3400\n",
      "3500\n",
      "3600\n",
      "3700\n",
      "3800\n",
      "3900\n",
      "4000\n",
      "4100\n",
      "4200\n",
      "4300\n",
      "4400\n",
      "4500\n",
      "4600\n",
      "4700\n",
      "4800\n",
      "4900\n",
      "5000\n",
      "5100\n",
      "5200\n",
      "5300\n",
      "5400\n",
      "5500\n",
      "5600\n",
      "5700\n",
      "5800\n",
      "5900\n",
      "6000\n",
      "6100\n",
      "6200\n",
      "6300\n",
      "6400\n",
      "6500\n",
      "6600\n",
      "6700\n",
      "6800\n",
      "6900\n",
      "7000\n",
      "7100\n",
      "7200\n",
      "7300\n",
      "7400\n",
      "7500\n",
      "7600\n",
      "7700\n",
      "7800\n",
      "7900\n",
      "8000\n",
      "8100\n",
      "8200\n",
      "8300\n",
      "8400\n",
      "8500\n",
      "8600\n",
      "8700\n",
      "8800\n",
      "8900\n",
      "9000\n",
      "9100\n",
      "9200\n",
      "9300\n",
      "9400\n",
      "9500\n",
      "9600\n",
      "9700\n",
      "9800\n",
      "9900\n",
      "10000\n",
      "Wall time: 1h 8min 14s\n"
     ]
    }
   ],
   "source": [
    "%%time\n",
    "\n",
    "seatdata = []\n",
    "egdata = []\n",
    "t = 0\n",
    "\n",
    "for step in chain:\n",
    "    seatdata.append(step[\"ELECTION\"].wins(\"republican\"))\n",
    "    egdata.append(efficiency_gap(step[\"ELECTION\"]))\n",
    "    t+=1\n",
    "    if t%100 ==0:\n",
    "        print(t)\n",
    "        \n"
   ]
  },
  {
   "cell_type": "code",
   "execution_count": 73,
   "metadata": {},
   "outputs": [],
   "source": [
    "with open('Ensemble_R_Seats.txt', 'w') as f:\n",
    "    f.writelines([str(s) for s in seatdata])\n",
    "    \n",
    "with open('Ensemble_EG.txt', 'w') as f:\n",
    "    f.writelines([str(s) for s in egdata])"
   ]
  },
  {
   "cell_type": "code",
   "execution_count": 21,
   "metadata": {},
   "outputs": [],
   "source": [
    "PRES16R_TX = 0\n",
    "PRES16D_TX = 0\n",
    "TOTTO16_TX = 0\n",
    "\n",
    "for i in range(len(graph.nodes())):\n",
    "    PRES16R_TX += graph.nodes[i][\"PRES16R\"]\n",
    "    PRES16D_TX += graph.nodes[i][\"PRES16D\"]\n",
    "    TOTTO16_TX += graph.nodes[i][\"TOTTO16\"]\n",
    "\n",
    "V = PRES16D_TX/(PRES16R_TX + PRES16D_TX)"
   ]
  },
  {
   "cell_type": "code",
   "execution_count": 43,
   "metadata": {},
   "outputs": [],
   "source": [
    "eg_ideal = []\n",
    "difference = []\n",
    "for i in range(10000):\n",
    "    eg_ideal.append(2*V - (36-seatdata[i])/36 - 0.5)\n",
    "    difference.append(eg_ideal[i]-egdata[i])\n",
    "#Why is eg_ideal usually bigger? Because rho > 1 because dem winning districts have low turnout"
   ]
  },
  {
   "cell_type": "code",
   "execution_count": null,
   "metadata": {},
   "outputs": [],
   "source": [
    "plt.hist(difference)\n",
    "plt.axvline(.551, color='red', linestyle='dashed', linewidth=1, label='Descending alpha Plan')\n",
    "plt.legend(loc='upper right')\n",
    "plt.title('Difference Between EG with and without Equal Turnout')\n",
    "plt.ylabel('Number of Plans')\n",
    "plt.savefig(\"EG_difference_EG_ideal.png\", dpi = 1200)"
   ]
  },
  {
   "cell_type": "code",
   "execution_count": 66,
   "metadata": {},
   "outputs": [
    {
     "data": {
      "text/plain": [
       "24"
      ]
     },
     "execution_count": 66,
     "metadata": {},
     "output_type": "execute_result"
    }
   ],
   "source": [
    "min(seatdata)\n",
    "max(seatdata)\n",
    "17-24"
   ]
  },
  {
   "cell_type": "code",
   "execution_count": 68,
   "metadata": {},
   "outputs": [
    {
     "data": {
      "image/png": "[encoded data removed]",
      "text/plain": [
       "<Figure size 432x288 with 1 Axes>"
      ]
     },
     "metadata": {
      "needs_background": "light"
     },
     "output_type": "display_data"
    }
   ],
   "source": [
    "plt.hist(eg_ideal, bins=8)\n",
    "plt.title('EG if Equal Turnout')\n",
    "plt.ylabel('Number of Plans')\n",
    "plt.savefig(\"EG_ideal.png\", dpi = 1200)"
   ]
  },
  {
   "cell_type": "code",
   "execution_count": 69,
   "metadata": {},
   "outputs": [
    {
     "data": {
      "image/png": "[encoded data removed]",
      "text/plain": [
       "<Figure size 432x288 with 1 Axes>"
      ]
     },
     "metadata": {
      "needs_background": "light"
     },
     "output_type": "display_data"
    }
   ],
   "source": [
    "plt.hist(egdata)\n",
    "plt.title('EG')\n",
    "plt.ylabel('Number of Plans')\n",
    "plt.savefig(\"EG.png\", dpi = 1200)"
   ]
  },
  {
   "cell_type": "code",
   "execution_count": 60,
   "metadata": {},
   "outputs": [
    {
     "data": {
      "image/png": "[encoded data removed]",
      "text/plain": [
       "<Figure size 432x288 with 1 Axes>"
      ]
     },
     "metadata": {
      "needs_background": "light"
     },
     "output_type": "display_data"
    }
   ],
   "source": [
    "plt.hist(difference)\n",
    "plt.axvline(.551, color='red', linestyle='dashed', linewidth=1, label='Descending alpha Plan')\n",
    "plt.legend(loc='upper right')\n",
    "plt.title('Difference Between EG with and without Equal Turnout')\n",
    "plt.ylabel('Number of Plans')\n",
    "plt.savefig(\"EG_difference_EG_ideal.png\", dpi = 1200)"
   ]
  },
  {
   "cell_type": "markdown",
   "metadata": {},
   "source": [
    "# Visualization"
   ]
  },
  {
   "cell_type": "code",
   "execution_count": 60,
   "metadata": {},
   "outputs": [
    {
     "name": "stdout",
     "output_type": "stream",
     "text": [
      "Wall time: 10.2 s\n"
     ]
    },
    {
     "data": {
      "image/png": "[encoded data removed]",
      "text/plain": [
       "<Figure size 864x576 with 1 Axes>"
      ]
     },
     "metadata": {
      "needs_background": "light"
     },
     "output_type": "display_data"
    }
   ],
   "source": [
    "%%time\n",
    "fig, seats = plt.subplots(figsize=(12,8))\n",
    "seats.plot(egdata)\n",
    "# plt.savefig(\"eg_gerrywalk_frac_tx10000.png\", dpi = 1200)\n",
    "\n",
    "# most_rep_dist = []\n",
    "# one_rep_plans = []\n",
    "# for plan in data:\n",
    "#     most_rep_dist.append(sorted(plan[3])[-1])\n",
    "#     if sorted(plan[3])[-1] >= 0.5:\n",
    "#         one_rep_plans.append(plan)\n",
    "# rep_dist.plot(most_rep_dist, color=“red”)\n",
    "# rep_dist.set_title(“Republican vote share in most Republican district”)\n",
    "# rep_dist.set_ylabel(“Rep vote share”)\n",
    "# rep_dist.set_xlabel(“Step in chain”)"
   ]
  },
  {
   "cell_type": "code",
   "execution_count": null,
   "metadata": {},
   "outputs": [],
   "source": [
    "data2 = []\n",
    "for value in data:\n",
    "    data2.append(value[0])\n",
    "data2"
   ]
  },
  {
   "cell_type": "code",
   "execution_count": 61,
   "metadata": {},
   "outputs": [
    {
     "data": {
      "image/png": "[encoded data removed]",
      "text/plain": [
       "<Figure size 432x288 with 1 Axes>"
      ]
     },
     "metadata": {
      "needs_background": "light"
     },
     "output_type": "display_data"
    }
   ],
   "source": [
    "import seaborn as sns\n",
    "fig = sns.distplot(egdata, kde=False, color=\"b\")\n",
    "# plt.savefig(\"eg_gerrydist_frac_tx10000.png\", dpi = 1200)"
   ]
  },
  {
   "cell_type": "code",
   "execution_count": null,
   "metadata": {},
   "outputs": [],
   "source": [
    "plt.savefig()"
   ]
  },
  {
   "cell_type": "code",
   "execution_count": null,
   "metadata": {},
   "outputs": [],
   "source": [
    "print(data[5674])"
   ]
  },
  {
   "cell_type": "code",
   "execution_count": null,
   "metadata": {},
   "outputs": [],
   "source": [
    "%%time\n",
    "# fig, votes = plt.subplots(figsize=(16,4))\n",
    "fig, seats = plt.subplots(figsize=(16,4))\n",
    "fig, ax = plt.subplots(2,2, figsize=(16,8), sharex=\"col\", sharey=\"row\")\n",
    "\n",
    "plt.subplots_adjust(wspace=0.3, hspace=0.3)\n",
    "\n",
    "# Variables\n",
    "inliers = [22,27]\n",
    "bins_num = 20\n",
    "out_bins_num = 10\n",
    "title = \"TX-PR16: 10000 ReCom plans\"\n",
    "\n",
    "# Colors\n",
    "seats_colors = [\"red\", \"blue\", \"lightgray\"]\n",
    "party_colors = [\"red\", \"blue\"]\n",
    "neutral = \"lightgreen\"\n",
    "\n",
    "# Creating Datasets\n",
    "mm = []\n",
    "pg = []\n",
    "vs = []\n",
    "mm_routliers = []\n",
    "mm_doutliers = []\n",
    "pg_routliers = []\n",
    "pg_doutliers = []\n",
    "seats_routliers = []\n",
    "seats_doutliers = []\n",
    "seats_inliers = []\n",
    "vs_routliers = []\n",
    "vs_doutliers = []\n",
    "\n",
    "\n",
    "for plan in data:\n",
    "    mm.append(plan[1])\n",
    "    pg.append(plan[2])\n",
    "    vs.append(plan[3])\n",
    "    if plan[0] < inliers[0]:\n",
    "        seats_doutliers.append(plan[0])\n",
    "        mm_doutliers.append(plan[1])\n",
    "        pg_doutliers.append(plan[2])\n",
    "        vs_doutliers.append(plan[3])\n",
    "    if plan[0] > inliers[1]:\n",
    "        seats_routliers.append(plan[0])\n",
    "        mm_routliers.append(plan[1])\n",
    "        pg_routliers.append(plan[2])\n",
    "        vs_routliers.append(plan[3])\n",
    "    if plan[0] >= inliers[0] and plan[0] <= inliers[1]:\n",
    "        seats_inliers.append(plan[0])\n",
    "\n",
    "mms = [mm_routliers, mm_doutliers]\n",
    "pgs = [pg_routliers, pg_doutliers]\n",
    "seats_colored = [seats_routliers, seats_doutliers, seats_inliers]\n",
    "\n",
    "# More variables\n",
    "num_outliers = str(len(mm_doutliers) + len(mm_routliers))\n",
    "pct_outliers = str(round((len(mm_doutliers) + len(mm_routliers)) / 10000 * 100, 1))\n",
    "title_w = \"TX-S12: \" + num_outliers + \" outlier plans \" + \"(\" + pct_outliers + \"%)\"\n",
    "\n",
    "# Plotting the votes shares boxplots\n",
    "# votes.boxplot(vs, positions=range(len(data.columns)))\n",
    "\n",
    "# votes.set_title(\"Votes Shares Boxplots\")\n",
    "# votes.set_ylabel(\"Republican Votes %\")\n",
    "# votes.set_xlabel(\"District #\")\n",
    "\n",
    "\n",
    "# Plotting the seats histogram\n",
    "seats.hist(seats_colored, bins=out_bins_num, stacked=True, color=seats_colors)\n",
    "\n",
    "seats.set_title(\"TX-S12 Republican seats won — outliers colored according to party helped\")\n",
    "seats.set_ylabel(\"Frequency\")\n",
    "seats.set_xlabel(\"# Seats Won\")\n",
    "seats.set_xlim(0, num_dist)\n",
    "seats.axvline(x = num_dist/2, color=neutral, linestyle=\"dashed\", linewidth=2, label=\"50% seats\")\n",
    "seats.axvline(x = num_dist * initial_partition[\"Election\"].percent(\"republican\"), color=\"red\", linestyle=\"dashed\", linewidth=2, label=\"proportionality\")\n",
    "seats.legend()\n",
    "# seats.set_xticks(1)\n",
    "\n",
    "# Plotting the whole dataset\n",
    "ax[0,0].hist(mm, bins=2*bins_num, color=neutral)\n",
    "ax[0,1].hist(pg, bins=2*bins_num, color=neutral)\n",
    "\n",
    "ax[0,0].set_title(title)\n",
    "ax[0,0].set_ylabel(\"Frequency\")\n",
    "ax[0,0].set_xlabel(\"Mean-Median Score\")\n",
    "\n",
    "ax[0,1].set_title(title)\n",
    "ax[0,1].set_ylabel(\"Frequency\")\n",
    "ax[0,1].set_xlabel(\"Partisan Gini Score\")\n",
    "\n",
    "# Plotting the winnowed data\n",
    "ax[1,0].hist(mms, bins=bins_num, color=party_colors)\n",
    "ax[1,1].hist(pgs, bins=bins_num, color=party_colors)\n",
    "# ax[1,1].set_ylim((0,40))\n",
    "\n",
    "ax[1,0].set_title(title_w)\n",
    "ax[1,0].set_ylabel(\"Frequency\")\n",
    "ax[1,0].set_xlabel(\"Mean-Median Score\")\n",
    "\n",
    "ax[1,1].set_title(title_w)\n",
    "ax[1,1].set_ylabel(\"Frequency\")\n",
    "ax[1,1].set_xlabel(\"Partisan Gini Score\")"
   ]
  },
  {
   "cell_type": "code",
   "execution_count": null,
   "metadata": {},
   "outputs": [],
   "source": []
  }
 ],
 "metadata": {
  "kernelspec": {
   "display_name": "Python 3",
   "language": "python",
   "name": "python3"
  },
  "language_info": {
   "codemirror_mode": {
    "name": "ipython",
    "version": 3
   },
   "file_extension": ".py",
   "mimetype": "text/x-python",
   "name": "python",
   "nbconvert_exporter": "python",
   "pygments_lexer": "ipython3",
   "version": "3.7.3"
  }
 },
 "nbformat": 4,
 "nbformat_minor": 2
}
